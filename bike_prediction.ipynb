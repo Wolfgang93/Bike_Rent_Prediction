{
 "cells": [
  {
   "cell_type": "markdown",
   "metadata": {},
   "source": [
    "### Programa de bicicletas compartidas (Bike Rent Predictions)"
   ]
  },
  {
   "cell_type": "markdown",
   "metadata": {},
   "source": [
    "Descripción del prolema: Poniéndonos en la situación de que somos parte del equipo de la empresa Rent-Cycle en Wachington DC, y nuestro Team Leader nos da la tarea de implementar un modelo que nos permita predecir la cantidad de bicicletas que se alquilan según la información contenida en el dataset puesto a disposición."
   ]
  },
  {
   "cell_type": "markdown",
   "metadata": {},
   "source": [
    "### Procedimiento"
   ]
  },
  {
   "cell_type": "markdown",
   "metadata": {},
   "source": [
    "1. Librerías\n",
    "2. Cargar datasets\n",
    "3. Análisis Exploratorio de datos\n",
    "(3.1. Búsqueda de valores faltantes,\n",
    "3.2. Correlación de variables,\n",
    "3.3. Distribuiciones)\n",
    "4. Feature Engineering\n",
    "5. Pre-procesamiento\n",
    "6. Modelos de entrenamiento\n",
    "(6.1. Random Forest,\n",
    "6.2. XGBoost,\n",
    "6.3. Red Neuronal)"
   ]
  },
  {
   "cell_type": "markdown",
   "metadata": {},
   "source": [
    "### 1. Importamos todas las librerías que vamos a utilizar"
   ]
  },
  {
   "cell_type": "code",
   "execution_count": 1,
   "metadata": {},
   "outputs": [],
   "source": [
    "import pandas as pd\n",
    "import datetime as dt\n",
    "from sklearn.preprocessing import PolynomialFeatures\n",
    "from sklearn.linear_model import LinearRegression\n",
    "from sklearn.metrics import mean_squared_error\n",
    "from sklearn import linear_model\n",
    "import numpy as np\n",
    "import math\n",
    "import seaborn as sns\n",
    "from scipy import stats\n",
    "from sklearn.preprocessing import StandardScaler, MinMaxScaler\n",
    "import math\n",
    "import statsmodels.api as sm\n",
    "import matplotlib.pyplot as plt\n",
    "from sklearn.compose import ColumnTransformer, make_column_transformer\n",
    "from sklearn.model_selection import train_test_split\n",
    "from sklearn.ensemble import RandomForestRegressor\n",
    "from sklearn.model_selection import GridSearchCV\n",
    "from sklearn.metrics import mean_squared_error\n",
    "import warnings\n",
    "import xgboost as xgb\n",
    "warnings.filterwarnings('ignore')"
   ]
  },
  {
   "cell_type": "markdown",
   "metadata": {},
   "source": [
    "### Creación Dataset"
   ]
  },
  {
   "cell_type": "markdown",
   "metadata": {},
   "source": [
    "creamos el data set con el csv de entrenamiento"
   ]
  },
  {
   "cell_type": "code",
   "execution_count": 2,
   "metadata": {},
   "outputs": [
    {
     "data": {
      "text/html": [
       "<div>\n",
       "<style scoped>\n",
       "    .dataframe tbody tr th:only-of-type {\n",
       "        vertical-align: middle;\n",
       "    }\n",
       "\n",
       "    .dataframe tbody tr th {\n",
       "        vertical-align: top;\n",
       "    }\n",
       "\n",
       "    .dataframe thead th {\n",
       "        text-align: right;\n",
       "    }\n",
       "</style>\n",
       "<table border=\"1\" class=\"dataframe\">\n",
       "  <thead>\n",
       "    <tr style=\"text-align: right;\">\n",
       "      <th></th>\n",
       "      <th>instant</th>\n",
       "      <th>dteday</th>\n",
       "      <th>season</th>\n",
       "      <th>yr</th>\n",
       "      <th>mnth</th>\n",
       "      <th>hr</th>\n",
       "      <th>holiday</th>\n",
       "      <th>weekday</th>\n",
       "      <th>workingday</th>\n",
       "      <th>weathersit</th>\n",
       "      <th>temp</th>\n",
       "      <th>atemp</th>\n",
       "      <th>hum</th>\n",
       "      <th>windspeed</th>\n",
       "      <th>casual</th>\n",
       "      <th>registered</th>\n",
       "      <th>cnt</th>\n",
       "    </tr>\n",
       "  </thead>\n",
       "  <tbody>\n",
       "    <tr>\n",
       "      <th>0</th>\n",
       "      <td>1</td>\n",
       "      <td>2011-01-01</td>\n",
       "      <td>1</td>\n",
       "      <td>0</td>\n",
       "      <td>1</td>\n",
       "      <td>0</td>\n",
       "      <td>0</td>\n",
       "      <td>6</td>\n",
       "      <td>0</td>\n",
       "      <td>1</td>\n",
       "      <td>0.24</td>\n",
       "      <td>0.2879</td>\n",
       "      <td>0.81</td>\n",
       "      <td>0.0</td>\n",
       "      <td>3</td>\n",
       "      <td>13</td>\n",
       "      <td>16</td>\n",
       "    </tr>\n",
       "    <tr>\n",
       "      <th>1</th>\n",
       "      <td>2</td>\n",
       "      <td>2011-01-01</td>\n",
       "      <td>1</td>\n",
       "      <td>0</td>\n",
       "      <td>1</td>\n",
       "      <td>1</td>\n",
       "      <td>0</td>\n",
       "      <td>6</td>\n",
       "      <td>0</td>\n",
       "      <td>1</td>\n",
       "      <td>0.22</td>\n",
       "      <td>0.2727</td>\n",
       "      <td>0.80</td>\n",
       "      <td>0.0</td>\n",
       "      <td>8</td>\n",
       "      <td>32</td>\n",
       "      <td>40</td>\n",
       "    </tr>\n",
       "    <tr>\n",
       "      <th>2</th>\n",
       "      <td>3</td>\n",
       "      <td>2011-01-01</td>\n",
       "      <td>1</td>\n",
       "      <td>0</td>\n",
       "      <td>1</td>\n",
       "      <td>2</td>\n",
       "      <td>0</td>\n",
       "      <td>6</td>\n",
       "      <td>0</td>\n",
       "      <td>1</td>\n",
       "      <td>0.22</td>\n",
       "      <td>0.2727</td>\n",
       "      <td>0.80</td>\n",
       "      <td>0.0</td>\n",
       "      <td>5</td>\n",
       "      <td>27</td>\n",
       "      <td>32</td>\n",
       "    </tr>\n",
       "    <tr>\n",
       "      <th>3</th>\n",
       "      <td>4</td>\n",
       "      <td>2011-01-01</td>\n",
       "      <td>1</td>\n",
       "      <td>0</td>\n",
       "      <td>1</td>\n",
       "      <td>3</td>\n",
       "      <td>0</td>\n",
       "      <td>6</td>\n",
       "      <td>0</td>\n",
       "      <td>1</td>\n",
       "      <td>0.24</td>\n",
       "      <td>0.2879</td>\n",
       "      <td>0.75</td>\n",
       "      <td>0.0</td>\n",
       "      <td>3</td>\n",
       "      <td>10</td>\n",
       "      <td>13</td>\n",
       "    </tr>\n",
       "    <tr>\n",
       "      <th>4</th>\n",
       "      <td>5</td>\n",
       "      <td>2011-01-01</td>\n",
       "      <td>1</td>\n",
       "      <td>0</td>\n",
       "      <td>1</td>\n",
       "      <td>4</td>\n",
       "      <td>0</td>\n",
       "      <td>6</td>\n",
       "      <td>0</td>\n",
       "      <td>1</td>\n",
       "      <td>0.24</td>\n",
       "      <td>0.2879</td>\n",
       "      <td>0.75</td>\n",
       "      <td>0.0</td>\n",
       "      <td>0</td>\n",
       "      <td>1</td>\n",
       "      <td>1</td>\n",
       "    </tr>\n",
       "  </tbody>\n",
       "</table>\n",
       "</div>"
      ],
      "text/plain": [
       "   instant     dteday  season  yr  mnth  hr  holiday  weekday  workingday  \\\n",
       "0        1 2011-01-01       1   0     1   0        0        6           0   \n",
       "1        2 2011-01-01       1   0     1   1        0        6           0   \n",
       "2        3 2011-01-01       1   0     1   2        0        6           0   \n",
       "3        4 2011-01-01       1   0     1   3        0        6           0   \n",
       "4        5 2011-01-01       1   0     1   4        0        6           0   \n",
       "\n",
       "   weathersit  temp   atemp   hum  windspeed  casual  registered  cnt  \n",
       "0           1  0.24  0.2879  0.81        0.0       3          13   16  \n",
       "1           1  0.22  0.2727  0.80        0.0       8          32   40  \n",
       "2           1  0.22  0.2727  0.80        0.0       5          27   32  \n",
       "3           1  0.24  0.2879  0.75        0.0       3          10   13  \n",
       "4           1  0.24  0.2879  0.75        0.0       0           1    1  "
      ]
     },
     "execution_count": 2,
     "metadata": {},
     "output_type": "execute_result"
    }
   ],
   "source": [
    "df_train = pd.read_excel('bike_train.xlsx')\n",
    "df_train.head(5)"
   ]
  },
  {
   "cell_type": "code",
   "execution_count": 3,
   "metadata": {},
   "outputs": [
    {
     "data": {
      "text/html": [
       "<div>\n",
       "<style scoped>\n",
       "    .dataframe tbody tr th:only-of-type {\n",
       "        vertical-align: middle;\n",
       "    }\n",
       "\n",
       "    .dataframe tbody tr th {\n",
       "        vertical-align: top;\n",
       "    }\n",
       "\n",
       "    .dataframe thead th {\n",
       "        text-align: right;\n",
       "    }\n",
       "</style>\n",
       "<table border=\"1\" class=\"dataframe\">\n",
       "  <thead>\n",
       "    <tr style=\"text-align: right;\">\n",
       "      <th></th>\n",
       "      <th>instant</th>\n",
       "      <th>dteday</th>\n",
       "      <th>season</th>\n",
       "      <th>yr</th>\n",
       "      <th>mnth</th>\n",
       "      <th>hr</th>\n",
       "      <th>holiday</th>\n",
       "      <th>weekday</th>\n",
       "      <th>workingday</th>\n",
       "      <th>weathersit</th>\n",
       "      <th>temp</th>\n",
       "      <th>atemp</th>\n",
       "      <th>hum</th>\n",
       "      <th>windspeed</th>\n",
       "    </tr>\n",
       "  </thead>\n",
       "  <tbody>\n",
       "    <tr>\n",
       "      <th>0</th>\n",
       "      <td>12000</td>\n",
       "      <td>2012-05-20</td>\n",
       "      <td>2</td>\n",
       "      <td>1</td>\n",
       "      <td>5</td>\n",
       "      <td>4</td>\n",
       "      <td>0</td>\n",
       "      <td>0</td>\n",
       "      <td>0</td>\n",
       "      <td>1</td>\n",
       "      <td>0.52</td>\n",
       "      <td>0.5000</td>\n",
       "      <td>0.68</td>\n",
       "      <td>0.0896</td>\n",
       "    </tr>\n",
       "    <tr>\n",
       "      <th>1</th>\n",
       "      <td>12001</td>\n",
       "      <td>2012-05-20</td>\n",
       "      <td>2</td>\n",
       "      <td>1</td>\n",
       "      <td>5</td>\n",
       "      <td>5</td>\n",
       "      <td>0</td>\n",
       "      <td>0</td>\n",
       "      <td>0</td>\n",
       "      <td>1</td>\n",
       "      <td>0.50</td>\n",
       "      <td>0.4848</td>\n",
       "      <td>0.72</td>\n",
       "      <td>0.1045</td>\n",
       "    </tr>\n",
       "    <tr>\n",
       "      <th>2</th>\n",
       "      <td>12002</td>\n",
       "      <td>2012-05-20</td>\n",
       "      <td>2</td>\n",
       "      <td>1</td>\n",
       "      <td>5</td>\n",
       "      <td>6</td>\n",
       "      <td>0</td>\n",
       "      <td>0</td>\n",
       "      <td>0</td>\n",
       "      <td>1</td>\n",
       "      <td>0.50</td>\n",
       "      <td>0.4848</td>\n",
       "      <td>0.63</td>\n",
       "      <td>0.1343</td>\n",
       "    </tr>\n",
       "    <tr>\n",
       "      <th>3</th>\n",
       "      <td>12003</td>\n",
       "      <td>2012-05-20</td>\n",
       "      <td>2</td>\n",
       "      <td>1</td>\n",
       "      <td>5</td>\n",
       "      <td>7</td>\n",
       "      <td>0</td>\n",
       "      <td>0</td>\n",
       "      <td>0</td>\n",
       "      <td>1</td>\n",
       "      <td>0.52</td>\n",
       "      <td>0.5000</td>\n",
       "      <td>0.68</td>\n",
       "      <td>0.1940</td>\n",
       "    </tr>\n",
       "    <tr>\n",
       "      <th>4</th>\n",
       "      <td>12004</td>\n",
       "      <td>2012-05-20</td>\n",
       "      <td>2</td>\n",
       "      <td>1</td>\n",
       "      <td>5</td>\n",
       "      <td>8</td>\n",
       "      <td>0</td>\n",
       "      <td>0</td>\n",
       "      <td>0</td>\n",
       "      <td>1</td>\n",
       "      <td>0.56</td>\n",
       "      <td>0.5303</td>\n",
       "      <td>0.56</td>\n",
       "      <td>0.1642</td>\n",
       "    </tr>\n",
       "  </tbody>\n",
       "</table>\n",
       "</div>"
      ],
      "text/plain": [
       "   instant     dteday  season  yr  mnth  hr  holiday  weekday  workingday  \\\n",
       "0    12000 2012-05-20       2   1     5   4        0        0           0   \n",
       "1    12001 2012-05-20       2   1     5   5        0        0           0   \n",
       "2    12002 2012-05-20       2   1     5   6        0        0           0   \n",
       "3    12003 2012-05-20       2   1     5   7        0        0           0   \n",
       "4    12004 2012-05-20       2   1     5   8        0        0           0   \n",
       "\n",
       "   weathersit  temp   atemp   hum  windspeed  \n",
       "0           1  0.52  0.5000  0.68     0.0896  \n",
       "1           1  0.50  0.4848  0.72     0.1045  \n",
       "2           1  0.50  0.4848  0.63     0.1343  \n",
       "3           1  0.52  0.5000  0.68     0.1940  \n",
       "4           1  0.56  0.5303  0.56     0.1642  "
      ]
     },
     "execution_count": 3,
     "metadata": {},
     "output_type": "execute_result"
    }
   ],
   "source": [
    "df_test = pd.read_excel('bike_test.xlsx')\n",
    "df_test.head(5)"
   ]
  },
  {
   "cell_type": "markdown",
   "metadata": {},
   "source": [
    "### 3. Análisis Exploratorio"
   ]
  },
  {
   "cell_type": "code",
   "execution_count": 4,
   "metadata": {},
   "outputs": [
    {
     "data": {
      "text/plain": [
       "instant       0\n",
       "dteday        0\n",
       "season        0\n",
       "yr            0\n",
       "mnth          0\n",
       "hr            0\n",
       "holiday       0\n",
       "weekday       0\n",
       "workingday    0\n",
       "weathersit    0\n",
       "temp          0\n",
       "atemp         0\n",
       "hum           0\n",
       "windspeed     0\n",
       "casual        0\n",
       "registered    0\n",
       "cnt           0\n",
       "dtype: int64"
      ]
     },
     "execution_count": 4,
     "metadata": {},
     "output_type": "execute_result"
    }
   ],
   "source": [
    "df_train.isna().sum()"
   ]
  },
  {
   "cell_type": "code",
   "execution_count": 5,
   "metadata": {},
   "outputs": [
    {
     "data": {
      "text/plain": [
       "instant       0\n",
       "dteday        0\n",
       "season        0\n",
       "yr            0\n",
       "mnth          0\n",
       "hr            0\n",
       "holiday       0\n",
       "weekday       0\n",
       "workingday    0\n",
       "weathersit    0\n",
       "temp          0\n",
       "atemp         0\n",
       "hum           0\n",
       "windspeed     0\n",
       "dtype: int64"
      ]
     },
     "execution_count": 5,
     "metadata": {},
     "output_type": "execute_result"
    }
   ],
   "source": [
    "df_test.isna().sum()"
   ]
  },
  {
   "cell_type": "markdown",
   "metadata": {},
   "source": [
    "*Correlación de variables*"
   ]
  },
  {
   "cell_type": "markdown",
   "metadata": {},
   "source": [
    "Eliminamos las variables instant y dteday"
   ]
  },
  {
   "cell_type": "code",
   "execution_count": 6,
   "metadata": {},
   "outputs": [],
   "source": [
    "df_train.drop(labels=['instant','dteday'], axis=1, inplace=True)"
   ]
  },
  {
   "cell_type": "code",
   "execution_count": 7,
   "metadata": {},
   "outputs": [],
   "source": [
    "import itertools\n",
    "from sklearn.metrics import confusion_matrix\n",
    "\n",
    "def make_correlation(df, figsize = (20,10), text_size = 8):\n",
    "  \n",
    "  # Creamos matriz de confusion\n",
    "    cm = df.corr().values\n",
    "    n_classes = cm.shape[0]\n",
    "\n",
    "    fig, ax = plt.subplots(figsize = figsize)\n",
    "    cax = ax.matshow(cm, cmap = plt.cm.Blues)\n",
    "\n",
    "    # Establecemos labels para las classes\n",
    "    labels = df.columns\n",
    "\n",
    "    # Label the axes\n",
    "    ax.set(title = \"Correlation Matrix\",\n",
    "            xticks = np.arange(n_classes),\n",
    "            yticks = np.arange(n_classes),\n",
    "            xticklabels = labels, # axes se etiquetarán con nombres de clase (si existen) o enteros\n",
    "            yticklabels = labels)\n",
    "  \n",
    "    # Establecemos x-axis labels to bottom\n",
    "    ax.xaxis.set_label_position(\"bottom\")\n",
    "    ax.xaxis.tick_bottom()\n",
    "\n",
    "    # Ajustas tamaño label\n",
    "    ax.yaxis.label.set_size(text_size)\n",
    "    ax.xaxis.label.set_size(text_size)\n",
    "    ax.title.set_size(text_size)\n",
    "    fig.autofmt_xdate(rotation=70)\n",
    "\n",
    "\n",
    "    # Establecemos threshold para diferentes colores\n",
    "    threshold = (cm.max() + cm.min())/2.\n",
    "\n",
    "    # Dibujamos el texto en cada celda\n",
    "    for i, j in itertools.product(range(cm.shape[0]), range(cm.shape[1])):\n",
    "        plt.text(j, i, f\"{round(cm[i,j], 2)}%\",\n",
    "             horizontalalignment = \"center\",\n",
    "             color = \"white\" if cm[i, j] > threshold else \"black\",\n",
    "             size = text_size)"
   ]
  },
  {
   "cell_type": "code",
   "execution_count": 8,
   "metadata": {},
   "outputs": [
    {
     "data": {
      "image/png": "[encoded data removed]",
      "text/plain": [
       "<Figure size 1440x720 with 1 Axes>"
      ]
     },
     "metadata": {
      "needs_background": "light"
     },
     "output_type": "display_data"
    }
   ],
   "source": [
    "make_correlation(df_train)"
   ]
  },
  {
   "cell_type": "markdown",
   "metadata": {},
   "source": [
    "Se eliminarán \"casual\" y \"registered\" ya que estas son las que componen el 100% de la variable a predecir \"cnt\""
   ]
  },
  {
   "cell_type": "markdown",
   "metadata": {},
   "source": [
    "Se eliminarán variables independientes que tengan altos niveles de correlación: 1) season y mnth (0.87) 2) temp y atemp (0.99)"
   ]
  },
  {
   "cell_type": "markdown",
   "metadata": {},
   "source": [
    "Se eliminarán variables con relaciones casi nulas, eliminaremos las que esten en el rango de -0.1 y 0.1"
   ]
  },
  {
   "cell_type": "code",
   "execution_count": 9,
   "metadata": {},
   "outputs": [
    {
     "data": {
      "text/html": [
       "<div>\n",
       "<style scoped>\n",
       "    .dataframe tbody tr th:only-of-type {\n",
       "        vertical-align: middle;\n",
       "    }\n",
       "\n",
       "    .dataframe tbody tr th {\n",
       "        vertical-align: top;\n",
       "    }\n",
       "\n",
       "    .dataframe thead th {\n",
       "        text-align: right;\n",
       "    }\n",
       "</style>\n",
       "<table border=\"1\" class=\"dataframe\">\n",
       "  <thead>\n",
       "    <tr style=\"text-align: right;\">\n",
       "      <th></th>\n",
       "      <th>season</th>\n",
       "      <th>yr</th>\n",
       "      <th>mnth</th>\n",
       "      <th>hr</th>\n",
       "      <th>holiday</th>\n",
       "      <th>weekday</th>\n",
       "      <th>workingday</th>\n",
       "      <th>weathersit</th>\n",
       "      <th>temp</th>\n",
       "      <th>atemp</th>\n",
       "      <th>hum</th>\n",
       "      <th>windspeed</th>\n",
       "      <th>casual</th>\n",
       "      <th>registered</th>\n",
       "      <th>cnt</th>\n",
       "    </tr>\n",
       "  </thead>\n",
       "  <tbody>\n",
       "    <tr>\n",
       "      <th>season</th>\n",
       "      <td>1.000000</td>\n",
       "      <td>-0.446665</td>\n",
       "      <td>0.865268</td>\n",
       "      <td>-0.007610</td>\n",
       "      <td>-0.008928</td>\n",
       "      <td>-0.003688</td>\n",
       "      <td>0.012630</td>\n",
       "      <td>-0.009029</td>\n",
       "      <td>0.410790</td>\n",
       "      <td>0.413196</td>\n",
       "      <td>0.198937</td>\n",
       "      <td>-0.142924</td>\n",
       "      <td>0.119043</td>\n",
       "      <td>0.093595</td>\n",
       "      <td>0.111369</td>\n",
       "    </tr>\n",
       "    <tr>\n",
       "      <th>yr</th>\n",
       "      <td>-0.446665</td>\n",
       "      <td>1.000000</td>\n",
       "      <td>-0.488103</td>\n",
       "      <td>-0.003948</td>\n",
       "      <td>0.001039</td>\n",
       "      <td>-0.002714</td>\n",
       "      <td>0.001068</td>\n",
       "      <td>-0.006309</td>\n",
       "      <td>-0.198929</td>\n",
       "      <td>-0.190360</td>\n",
       "      <td>-0.141319</td>\n",
       "      <td>0.067356</td>\n",
       "      <td>0.053371</td>\n",
       "      <td>0.171910</td>\n",
       "      <td>0.156960</td>\n",
       "    </tr>\n",
       "    <tr>\n",
       "      <th>mnth</th>\n",
       "      <td>0.865268</td>\n",
       "      <td>-0.488103</td>\n",
       "      <td>1.000000</td>\n",
       "      <td>-0.007060</td>\n",
       "      <td>0.009372</td>\n",
       "      <td>0.014500</td>\n",
       "      <td>0.006441</td>\n",
       "      <td>-0.012239</td>\n",
       "      <td>0.353330</td>\n",
       "      <td>0.358541</td>\n",
       "      <td>0.201669</td>\n",
       "      <td>-0.147042</td>\n",
       "      <td>0.078563</td>\n",
       "      <td>0.061686</td>\n",
       "      <td>0.073431</td>\n",
       "    </tr>\n",
       "    <tr>\n",
       "      <th>hr</th>\n",
       "      <td>-0.007610</td>\n",
       "      <td>-0.003948</td>\n",
       "      <td>-0.007060</td>\n",
       "      <td>1.000000</td>\n",
       "      <td>0.000414</td>\n",
       "      <td>-0.004037</td>\n",
       "      <td>0.003454</td>\n",
       "      <td>-0.024003</td>\n",
       "      <td>0.139251</td>\n",
       "      <td>0.134633</td>\n",
       "      <td>-0.257202</td>\n",
       "      <td>0.130441</td>\n",
       "      <td>0.285182</td>\n",
       "      <td>0.381933</td>\n",
       "      <td>0.396698</td>\n",
       "    </tr>\n",
       "    <tr>\n",
       "      <th>holiday</th>\n",
       "      <td>-0.008928</td>\n",
       "      <td>0.001039</td>\n",
       "      <td>0.009372</td>\n",
       "      <td>0.000414</td>\n",
       "      <td>1.000000</td>\n",
       "      <td>-0.102503</td>\n",
       "      <td>-0.248601</td>\n",
       "      <td>-0.014707</td>\n",
       "      <td>-0.028519</td>\n",
       "      <td>-0.038005</td>\n",
       "      <td>-0.036672</td>\n",
       "      <td>0.022681</td>\n",
       "      <td>0.022140</td>\n",
       "      <td>-0.044534</td>\n",
       "      <td>-0.030304</td>\n",
       "    </tr>\n",
       "    <tr>\n",
       "      <th>weekday</th>\n",
       "      <td>-0.003688</td>\n",
       "      <td>-0.002714</td>\n",
       "      <td>0.014500</td>\n",
       "      <td>-0.004037</td>\n",
       "      <td>-0.102503</td>\n",
       "      <td>1.000000</td>\n",
       "      <td>0.031057</td>\n",
       "      <td>0.017259</td>\n",
       "      <td>-0.010002</td>\n",
       "      <td>-0.009841</td>\n",
       "      <td>-0.025932</td>\n",
       "      <td>0.008447</td>\n",
       "      <td>0.023687</td>\n",
       "      <td>0.019179</td>\n",
       "      <td>0.022618</td>\n",
       "    </tr>\n",
       "    <tr>\n",
       "      <th>workingday</th>\n",
       "      <td>0.012630</td>\n",
       "      <td>0.001068</td>\n",
       "      <td>0.006441</td>\n",
       "      <td>0.003454</td>\n",
       "      <td>-0.248601</td>\n",
       "      <td>0.031057</td>\n",
       "      <td>1.000000</td>\n",
       "      <td>0.042202</td>\n",
       "      <td>0.062273</td>\n",
       "      <td>0.066305</td>\n",
       "      <td>0.022805</td>\n",
       "      <td>-0.002493</td>\n",
       "      <td>-0.298241</td>\n",
       "      <td>0.134789</td>\n",
       "      <td>0.025132</td>\n",
       "    </tr>\n",
       "    <tr>\n",
       "      <th>weathersit</th>\n",
       "      <td>-0.009029</td>\n",
       "      <td>-0.006309</td>\n",
       "      <td>-0.012239</td>\n",
       "      <td>-0.024003</td>\n",
       "      <td>-0.014707</td>\n",
       "      <td>0.017259</td>\n",
       "      <td>0.042202</td>\n",
       "      <td>1.000000</td>\n",
       "      <td>-0.080149</td>\n",
       "      <td>-0.081386</td>\n",
       "      <td>0.430378</td>\n",
       "      <td>0.009195</td>\n",
       "      <td>-0.147903</td>\n",
       "      <td>-0.130223</td>\n",
       "      <td>-0.149848</td>\n",
       "    </tr>\n",
       "    <tr>\n",
       "      <th>temp</th>\n",
       "      <td>0.410790</td>\n",
       "      <td>-0.198929</td>\n",
       "      <td>0.353330</td>\n",
       "      <td>0.139251</td>\n",
       "      <td>-0.028519</td>\n",
       "      <td>-0.010002</td>\n",
       "      <td>0.062273</td>\n",
       "      <td>-0.080149</td>\n",
       "      <td>1.000000</td>\n",
       "      <td>0.991785</td>\n",
       "      <td>-0.019289</td>\n",
       "      <td>-0.013984</td>\n",
       "      <td>0.450777</td>\n",
       "      <td>0.322875</td>\n",
       "      <td>0.395743</td>\n",
       "    </tr>\n",
       "    <tr>\n",
       "      <th>atemp</th>\n",
       "      <td>0.413196</td>\n",
       "      <td>-0.190360</td>\n",
       "      <td>0.358541</td>\n",
       "      <td>0.134633</td>\n",
       "      <td>-0.038005</td>\n",
       "      <td>-0.009841</td>\n",
       "      <td>0.066305</td>\n",
       "      <td>-0.081386</td>\n",
       "      <td>0.991785</td>\n",
       "      <td>1.000000</td>\n",
       "      <td>-0.003669</td>\n",
       "      <td>-0.057619</td>\n",
       "      <td>0.447899</td>\n",
       "      <td>0.323264</td>\n",
       "      <td>0.395234</td>\n",
       "    </tr>\n",
       "    <tr>\n",
       "      <th>hum</th>\n",
       "      <td>0.198937</td>\n",
       "      <td>-0.141319</td>\n",
       "      <td>0.201669</td>\n",
       "      <td>-0.257202</td>\n",
       "      <td>-0.036672</td>\n",
       "      <td>-0.025932</td>\n",
       "      <td>0.022805</td>\n",
       "      <td>0.430378</td>\n",
       "      <td>-0.019289</td>\n",
       "      <td>-0.003669</td>\n",
       "      <td>1.000000</td>\n",
       "      <td>-0.295765</td>\n",
       "      <td>-0.298354</td>\n",
       "      <td>-0.264382</td>\n",
       "      <td>-0.303672</td>\n",
       "    </tr>\n",
       "    <tr>\n",
       "      <th>windspeed</th>\n",
       "      <td>-0.142924</td>\n",
       "      <td>0.067356</td>\n",
       "      <td>-0.147042</td>\n",
       "      <td>0.130441</td>\n",
       "      <td>0.022681</td>\n",
       "      <td>0.008447</td>\n",
       "      <td>-0.002493</td>\n",
       "      <td>0.009195</td>\n",
       "      <td>-0.013984</td>\n",
       "      <td>-0.057619</td>\n",
       "      <td>-0.295765</td>\n",
       "      <td>1.000000</td>\n",
       "      <td>0.067061</td>\n",
       "      <td>0.091642</td>\n",
       "      <td>0.094791</td>\n",
       "    </tr>\n",
       "    <tr>\n",
       "      <th>casual</th>\n",
       "      <td>0.119043</td>\n",
       "      <td>0.053371</td>\n",
       "      <td>0.078563</td>\n",
       "      <td>0.285182</td>\n",
       "      <td>0.022140</td>\n",
       "      <td>0.023687</td>\n",
       "      <td>-0.298241</td>\n",
       "      <td>-0.147903</td>\n",
       "      <td>0.450777</td>\n",
       "      <td>0.447899</td>\n",
       "      <td>-0.298354</td>\n",
       "      <td>0.067061</td>\n",
       "      <td>1.000000</td>\n",
       "      <td>0.503185</td>\n",
       "      <td>0.702414</td>\n",
       "    </tr>\n",
       "    <tr>\n",
       "      <th>registered</th>\n",
       "      <td>0.093595</td>\n",
       "      <td>0.171910</td>\n",
       "      <td>0.061686</td>\n",
       "      <td>0.381933</td>\n",
       "      <td>-0.044534</td>\n",
       "      <td>0.019179</td>\n",
       "      <td>0.134789</td>\n",
       "      <td>-0.130223</td>\n",
       "      <td>0.322875</td>\n",
       "      <td>0.323264</td>\n",
       "      <td>-0.264382</td>\n",
       "      <td>0.091642</td>\n",
       "      <td>0.503185</td>\n",
       "      <td>1.000000</td>\n",
       "      <td>0.968540</td>\n",
       "    </tr>\n",
       "    <tr>\n",
       "      <th>cnt</th>\n",
       "      <td>0.111369</td>\n",
       "      <td>0.156960</td>\n",
       "      <td>0.073431</td>\n",
       "      <td>0.396698</td>\n",
       "      <td>-0.030304</td>\n",
       "      <td>0.022618</td>\n",
       "      <td>0.025132</td>\n",
       "      <td>-0.149848</td>\n",
       "      <td>0.395743</td>\n",
       "      <td>0.395234</td>\n",
       "      <td>-0.303672</td>\n",
       "      <td>0.094791</td>\n",
       "      <td>0.702414</td>\n",
       "      <td>0.968540</td>\n",
       "      <td>1.000000</td>\n",
       "    </tr>\n",
       "  </tbody>\n",
       "</table>\n",
       "</div>"
      ],
      "text/plain": [
       "              season        yr      mnth        hr   holiday   weekday  \\\n",
       "season      1.000000 -0.446665  0.865268 -0.007610 -0.008928 -0.003688   \n",
       "yr         -0.446665  1.000000 -0.488103 -0.003948  0.001039 -0.002714   \n",
       "mnth        0.865268 -0.488103  1.000000 -0.007060  0.009372  0.014500   \n",
       "hr         -0.007610 -0.003948 -0.007060  1.000000  0.000414 -0.004037   \n",
       "holiday    -0.008928  0.001039  0.009372  0.000414  1.000000 -0.102503   \n",
       "weekday    -0.003688 -0.002714  0.014500 -0.004037 -0.102503  1.000000   \n",
       "workingday  0.012630  0.001068  0.006441  0.003454 -0.248601  0.031057   \n",
       "weathersit -0.009029 -0.006309 -0.012239 -0.024003 -0.014707  0.017259   \n",
       "temp        0.410790 -0.198929  0.353330  0.139251 -0.028519 -0.010002   \n",
       "atemp       0.413196 -0.190360  0.358541  0.134633 -0.038005 -0.009841   \n",
       "hum         0.198937 -0.141319  0.201669 -0.257202 -0.036672 -0.025932   \n",
       "windspeed  -0.142924  0.067356 -0.147042  0.130441  0.022681  0.008447   \n",
       "casual      0.119043  0.053371  0.078563  0.285182  0.022140  0.023687   \n",
       "registered  0.093595  0.171910  0.061686  0.381933 -0.044534  0.019179   \n",
       "cnt         0.111369  0.156960  0.073431  0.396698 -0.030304  0.022618   \n",
       "\n",
       "            workingday  weathersit      temp     atemp       hum  windspeed  \\\n",
       "season        0.012630   -0.009029  0.410790  0.413196  0.198937  -0.142924   \n",
       "yr            0.001068   -0.006309 -0.198929 -0.190360 -0.141319   0.067356   \n",
       "mnth          0.006441   -0.012239  0.353330  0.358541  0.201669  -0.147042   \n",
       "hr            0.003454   -0.024003  0.139251  0.134633 -0.257202   0.130441   \n",
       "holiday      -0.248601   -0.014707 -0.028519 -0.038005 -0.036672   0.022681   \n",
       "weekday       0.031057    0.017259 -0.010002 -0.009841 -0.025932   0.008447   \n",
       "workingday    1.000000    0.042202  0.062273  0.066305  0.022805  -0.002493   \n",
       "weathersit    0.042202    1.000000 -0.080149 -0.081386  0.430378   0.009195   \n",
       "temp          0.062273   -0.080149  1.000000  0.991785 -0.019289  -0.013984   \n",
       "atemp         0.066305   -0.081386  0.991785  1.000000 -0.003669  -0.057619   \n",
       "hum           0.022805    0.430378 -0.019289 -0.003669  1.000000  -0.295765   \n",
       "windspeed    -0.002493    0.009195 -0.013984 -0.057619 -0.295765   1.000000   \n",
       "casual       -0.298241   -0.147903  0.450777  0.447899 -0.298354   0.067061   \n",
       "registered    0.134789   -0.130223  0.322875  0.323264 -0.264382   0.091642   \n",
       "cnt           0.025132   -0.149848  0.395743  0.395234 -0.303672   0.094791   \n",
       "\n",
       "              casual  registered       cnt  \n",
       "season      0.119043    0.093595  0.111369  \n",
       "yr          0.053371    0.171910  0.156960  \n",
       "mnth        0.078563    0.061686  0.073431  \n",
       "hr          0.285182    0.381933  0.396698  \n",
       "holiday     0.022140   -0.044534 -0.030304  \n",
       "weekday     0.023687    0.019179  0.022618  \n",
       "workingday -0.298241    0.134789  0.025132  \n",
       "weathersit -0.147903   -0.130223 -0.149848  \n",
       "temp        0.450777    0.322875  0.395743  \n",
       "atemp       0.447899    0.323264  0.395234  \n",
       "hum        -0.298354   -0.264382 -0.303672  \n",
       "windspeed   0.067061    0.091642  0.094791  \n",
       "casual      1.000000    0.503185  0.702414  \n",
       "registered  0.503185    1.000000  0.968540  \n",
       "cnt         0.702414    0.968540  1.000000  "
      ]
     },
     "execution_count": 9,
     "metadata": {},
     "output_type": "execute_result"
    }
   ],
   "source": [
    "df_train.corr()\n",
    "#mnth(0.07) holiday(-0.03) workingday(0.03) weekday(0.02) windspeed(0.09)"
   ]
  },
  {
   "cell_type": "code",
   "execution_count": 10,
   "metadata": {},
   "outputs": [
    {
     "data": {
      "text/html": [
       "<div>\n",
       "<style scoped>\n",
       "    .dataframe tbody tr th:only-of-type {\n",
       "        vertical-align: middle;\n",
       "    }\n",
       "\n",
       "    .dataframe tbody tr th {\n",
       "        vertical-align: top;\n",
       "    }\n",
       "\n",
       "    .dataframe thead th {\n",
       "        text-align: right;\n",
       "    }\n",
       "</style>\n",
       "<table border=\"1\" class=\"dataframe\">\n",
       "  <thead>\n",
       "    <tr style=\"text-align: right;\">\n",
       "      <th></th>\n",
       "      <th>count</th>\n",
       "      <th>mean</th>\n",
       "      <th>std</th>\n",
       "      <th>min</th>\n",
       "      <th>25%</th>\n",
       "      <th>50%</th>\n",
       "      <th>75%</th>\n",
       "      <th>max</th>\n",
       "    </tr>\n",
       "  </thead>\n",
       "  <tbody>\n",
       "    <tr>\n",
       "      <th>season</th>\n",
       "      <td>11999.0</td>\n",
       "      <td>2.210684</td>\n",
       "      <td>1.088798</td>\n",
       "      <td>1.00</td>\n",
       "      <td>1.0000</td>\n",
       "      <td>2.0000</td>\n",
       "      <td>3.0000</td>\n",
       "      <td>4.0000</td>\n",
       "    </tr>\n",
       "    <tr>\n",
       "      <th>yr</th>\n",
       "      <td>11999.0</td>\n",
       "      <td>0.279523</td>\n",
       "      <td>0.448784</td>\n",
       "      <td>0.00</td>\n",
       "      <td>0.0000</td>\n",
       "      <td>0.0000</td>\n",
       "      <td>1.0000</td>\n",
       "      <td>1.0000</td>\n",
       "    </tr>\n",
       "    <tr>\n",
       "      <th>mnth</th>\n",
       "      <td>11999.0</td>\n",
       "      <td>5.530294</td>\n",
       "      <td>3.433005</td>\n",
       "      <td>1.00</td>\n",
       "      <td>3.0000</td>\n",
       "      <td>5.0000</td>\n",
       "      <td>8.0000</td>\n",
       "      <td>12.0000</td>\n",
       "    </tr>\n",
       "    <tr>\n",
       "      <th>hr</th>\n",
       "      <td>11999.0</td>\n",
       "      <td>11.556630</td>\n",
       "      <td>6.911891</td>\n",
       "      <td>0.00</td>\n",
       "      <td>6.0000</td>\n",
       "      <td>12.0000</td>\n",
       "      <td>18.0000</td>\n",
       "      <td>23.0000</td>\n",
       "    </tr>\n",
       "    <tr>\n",
       "      <th>holiday</th>\n",
       "      <td>11999.0</td>\n",
       "      <td>0.027752</td>\n",
       "      <td>0.164269</td>\n",
       "      <td>0.00</td>\n",
       "      <td>0.0000</td>\n",
       "      <td>0.0000</td>\n",
       "      <td>0.0000</td>\n",
       "      <td>1.0000</td>\n",
       "    </tr>\n",
       "    <tr>\n",
       "      <th>weekday</th>\n",
       "      <td>11999.0</td>\n",
       "      <td>3.009334</td>\n",
       "      <td>2.005264</td>\n",
       "      <td>0.00</td>\n",
       "      <td>1.0000</td>\n",
       "      <td>3.0000</td>\n",
       "      <td>5.0000</td>\n",
       "      <td>6.0000</td>\n",
       "    </tr>\n",
       "    <tr>\n",
       "      <th>workingday</th>\n",
       "      <td>11999.0</td>\n",
       "      <td>0.684057</td>\n",
       "      <td>0.464910</td>\n",
       "      <td>0.00</td>\n",
       "      <td>0.0000</td>\n",
       "      <td>1.0000</td>\n",
       "      <td>1.0000</td>\n",
       "      <td>1.0000</td>\n",
       "    </tr>\n",
       "    <tr>\n",
       "      <th>weathersit</th>\n",
       "      <td>11999.0</td>\n",
       "      <td>1.435036</td>\n",
       "      <td>0.650894</td>\n",
       "      <td>1.00</td>\n",
       "      <td>1.0000</td>\n",
       "      <td>1.0000</td>\n",
       "      <td>2.0000</td>\n",
       "      <td>4.0000</td>\n",
       "    </tr>\n",
       "    <tr>\n",
       "      <th>temp</th>\n",
       "      <td>11999.0</td>\n",
       "      <td>0.465704</td>\n",
       "      <td>0.188576</td>\n",
       "      <td>0.02</td>\n",
       "      <td>0.3200</td>\n",
       "      <td>0.4600</td>\n",
       "      <td>0.6200</td>\n",
       "      <td>0.9600</td>\n",
       "    </tr>\n",
       "    <tr>\n",
       "      <th>atemp</th>\n",
       "      <td>11999.0</td>\n",
       "      <td>0.448888</td>\n",
       "      <td>0.169633</td>\n",
       "      <td>0.00</td>\n",
       "      <td>0.3030</td>\n",
       "      <td>0.4545</td>\n",
       "      <td>0.5909</td>\n",
       "      <td>1.0000</td>\n",
       "    </tr>\n",
       "    <tr>\n",
       "      <th>hum</th>\n",
       "      <td>11999.0</td>\n",
       "      <td>0.625770</td>\n",
       "      <td>0.200637</td>\n",
       "      <td>0.00</td>\n",
       "      <td>0.4700</td>\n",
       "      <td>0.6200</td>\n",
       "      <td>0.7900</td>\n",
       "      <td>1.0000</td>\n",
       "    </tr>\n",
       "    <tr>\n",
       "      <th>windspeed</th>\n",
       "      <td>11999.0</td>\n",
       "      <td>0.196433</td>\n",
       "      <td>0.125394</td>\n",
       "      <td>0.00</td>\n",
       "      <td>0.1045</td>\n",
       "      <td>0.1940</td>\n",
       "      <td>0.2836</td>\n",
       "      <td>0.8507</td>\n",
       "    </tr>\n",
       "    <tr>\n",
       "      <th>casual</th>\n",
       "      <td>11999.0</td>\n",
       "      <td>30.049837</td>\n",
       "      <td>43.596915</td>\n",
       "      <td>0.00</td>\n",
       "      <td>3.0000</td>\n",
       "      <td>13.0000</td>\n",
       "      <td>39.0000</td>\n",
       "      <td>367.0000</td>\n",
       "    </tr>\n",
       "    <tr>\n",
       "      <th>registered</th>\n",
       "      <td>11999.0</td>\n",
       "      <td>128.545129</td>\n",
       "      <td>124.692750</td>\n",
       "      <td>0.00</td>\n",
       "      <td>29.0000</td>\n",
       "      <td>98.0000</td>\n",
       "      <td>185.0000</td>\n",
       "      <td>770.0000</td>\n",
       "    </tr>\n",
       "    <tr>\n",
       "      <th>cnt</th>\n",
       "      <td>11999.0</td>\n",
       "      <td>158.594966</td>\n",
       "      <td>151.392952</td>\n",
       "      <td>1.00</td>\n",
       "      <td>34.0000</td>\n",
       "      <td>118.0000</td>\n",
       "      <td>232.0000</td>\n",
       "      <td>957.0000</td>\n",
       "    </tr>\n",
       "  </tbody>\n",
       "</table>\n",
       "</div>"
      ],
      "text/plain": [
       "              count        mean         std   min      25%       50%  \\\n",
       "season      11999.0    2.210684    1.088798  1.00   1.0000    2.0000   \n",
       "yr          11999.0    0.279523    0.448784  0.00   0.0000    0.0000   \n",
       "mnth        11999.0    5.530294    3.433005  1.00   3.0000    5.0000   \n",
       "hr          11999.0   11.556630    6.911891  0.00   6.0000   12.0000   \n",
       "holiday     11999.0    0.027752    0.164269  0.00   0.0000    0.0000   \n",
       "weekday     11999.0    3.009334    2.005264  0.00   1.0000    3.0000   \n",
       "workingday  11999.0    0.684057    0.464910  0.00   0.0000    1.0000   \n",
       "weathersit  11999.0    1.435036    0.650894  1.00   1.0000    1.0000   \n",
       "temp        11999.0    0.465704    0.188576  0.02   0.3200    0.4600   \n",
       "atemp       11999.0    0.448888    0.169633  0.00   0.3030    0.4545   \n",
       "hum         11999.0    0.625770    0.200637  0.00   0.4700    0.6200   \n",
       "windspeed   11999.0    0.196433    0.125394  0.00   0.1045    0.1940   \n",
       "casual      11999.0   30.049837   43.596915  0.00   3.0000   13.0000   \n",
       "registered  11999.0  128.545129  124.692750  0.00  29.0000   98.0000   \n",
       "cnt         11999.0  158.594966  151.392952  1.00  34.0000  118.0000   \n",
       "\n",
       "                 75%       max  \n",
       "season        3.0000    4.0000  \n",
       "yr            1.0000    1.0000  \n",
       "mnth          8.0000   12.0000  \n",
       "hr           18.0000   23.0000  \n",
       "holiday       0.0000    1.0000  \n",
       "weekday       5.0000    6.0000  \n",
       "workingday    1.0000    1.0000  \n",
       "weathersit    2.0000    4.0000  \n",
       "temp          0.6200    0.9600  \n",
       "atemp         0.5909    1.0000  \n",
       "hum           0.7900    1.0000  \n",
       "windspeed     0.2836    0.8507  \n",
       "casual       39.0000  367.0000  \n",
       "registered  185.0000  770.0000  \n",
       "cnt         232.0000  957.0000  "
      ]
     },
     "execution_count": 10,
     "metadata": {},
     "output_type": "execute_result"
    }
   ],
   "source": [
    "df_train.describe().T"
   ]
  },
  {
   "cell_type": "markdown",
   "metadata": {},
   "source": [
    "### Distribuiciones"
   ]
  },
  {
   "cell_type": "code",
   "execution_count": 11,
   "metadata": {},
   "outputs": [
    {
     "data": {
      "image/png": "[encoded data removed]",
      "text/plain": [
       "<Figure size 864x432 with 1 Axes>"
      ]
     },
     "metadata": {
      "needs_background": "light"
     },
     "output_type": "display_data"
    }
   ],
   "source": [
    "# Se observa un sesgo positivo, por lo que existen outliers, por lo que analizaremos qué método utilizar para no ensuciar las predicciones\n",
    "\n",
    "target = df_train['cnt']\n",
    "plt.figure(figsize=(12,6))\n",
    "sns.distplot(target, rug = True)\n",
    "plt.show(); "
   ]
  },
  {
   "cell_type": "markdown",
   "metadata": {},
   "source": [
    "Transformación log-scale"
   ]
  },
  {
   "cell_type": "code",
   "execution_count": 12,
   "metadata": {},
   "outputs": [
    {
     "data": {
      "image/png": "[encoded data removed]",
      "text/plain": [
       "<Figure size 432x288 with 1 Axes>"
      ]
     },
     "metadata": {
      "needs_background": "light"
     },
     "output_type": "display_data"
    }
   ],
   "source": [
    "#Debido al sesgo a la derecha, se aplicara una transformación logarítica para llegar a un nivel más proximmo a la normalidad\n",
    "target_log = np.log1p(target)\n",
    "sns.histplot(target_log, kde=True)\n",
    "plt.show()"
   ]
  },
  {
   "cell_type": "markdown",
   "metadata": {},
   "source": [
    "Análisis de cuartiles: Ley de Tukey <br>\n",
    "* q > Q1 - 1.5*IRQ  <br>\n",
    "* q < Q3 - 1.5*IRQ"
   ]
  },
  {
   "cell_type": "code",
   "execution_count": 13,
   "metadata": {},
   "outputs": [
    {
     "data": {
      "text/plain": [
       "<AxesSubplot:ylabel='cnt'>"
      ]
     },
     "execution_count": 13,
     "metadata": {},
     "output_type": "execute_result"
    },
    {
     "data": {
      "image/png": "[encoded data removed]",
      "text/plain": [
       "<Figure size 432x288 with 1 Axes>"
      ]
     },
     "metadata": {
      "needs_background": "light"
     },
     "output_type": "display_data"
    }
   ],
   "source": [
    "sns.boxplot(y = target_log)"
   ]
  },
  {
   "cell_type": "code",
   "execution_count": 14,
   "metadata": {},
   "outputs": [],
   "source": [
    "cuartiles = pd.qcut(target_log, q = [0,0.25,0.5,0.75,1], retbins = True)[1]\n",
    "\n",
    "Q1 = cuartiles[1]\n",
    "Q2 = cuartiles[2]\n",
    "Q3 = cuartiles[3]\n",
    "\n",
    "IQR = Q3-Q1"
   ]
  },
  {
   "cell_type": "code",
   "execution_count": 15,
   "metadata": {},
   "outputs": [],
   "source": [
    "outl_q = target_log.apply(lambda e: 1 if (e > Q3 + 1.5*IQR)|(e < Q1 -1.5*IQR) else 0)"
   ]
  },
  {
   "cell_type": "code",
   "execution_count": 16,
   "metadata": {},
   "outputs": [
    {
     "data": {
      "text/plain": [
       "<AxesSubplot:xlabel='cnt', ylabel='count'>"
      ]
     },
     "execution_count": 16,
     "metadata": {},
     "output_type": "execute_result"
    },
    {
     "data": {
      "image/png": "[encoded data removed]",
      "text/plain": [
       "<Figure size 432x288 with 1 Axes>"
      ]
     },
     "metadata": {
      "needs_background": "light"
     },
     "output_type": "display_data"
    }
   ],
   "source": [
    "#Cantidad de registros (0: no outliers, 1: outliers)\n",
    "sns.countplot(outl_q)"
   ]
  },
  {
   "cell_type": "code",
   "execution_count": 17,
   "metadata": {},
   "outputs": [
    {
     "data": {
      "text/plain": [
       "0    11850\n",
       "1      149\n",
       "Name: cnt, dtype: int64"
      ]
     },
     "execution_count": 17,
     "metadata": {},
     "output_type": "execute_result"
    }
   ],
   "source": [
    "outl_q.value_counts()"
   ]
  },
  {
   "cell_type": "markdown",
   "metadata": {},
   "source": [
    "Análisis de las 3 sigmas <br>\n",
    "* mínimo = Promedio -3*Desviación Estándar <br>\n",
    "* máximo = Promedio -3*Desviación Estándar"
   ]
  },
  {
   "cell_type": "code",
   "execution_count": 18,
   "metadata": {},
   "outputs": [],
   "source": [
    "std = np.std(target_log)\n",
    "mean = np.mean(target_log)"
   ]
  },
  {
   "cell_type": "code",
   "execution_count": 19,
   "metadata": {},
   "outputs": [],
   "source": [
    "outl_s = target_log.apply(lambda e: 1 if (e > mean + 3*std)|(e < mean - 3*std) else 0)"
   ]
  },
  {
   "cell_type": "code",
   "execution_count": 20,
   "metadata": {},
   "outputs": [
    {
     "data": {
      "text/plain": [
       "<AxesSubplot:xlabel='cnt', ylabel='count'>"
      ]
     },
     "execution_count": 20,
     "metadata": {},
     "output_type": "execute_result"
    },
    {
     "data": {
      "image/png": "[encoded data removed]",
      "text/plain": [
       "<Figure size 432x288 with 1 Axes>"
      ]
     },
     "metadata": {
      "needs_background": "light"
     },
     "output_type": "display_data"
    }
   ],
   "source": [
    "sns.countplot(outl_s)"
   ]
  },
  {
   "cell_type": "code",
   "execution_count": 21,
   "metadata": {},
   "outputs": [
    {
     "data": {
      "text/plain": [
       "0    11999\n",
       "Name: cnt, dtype: int64"
      ]
     },
     "execution_count": 21,
     "metadata": {},
     "output_type": "execute_result"
    }
   ],
   "source": [
    "outl_s.value_counts()"
   ]
  },
  {
   "cell_type": "code",
   "execution_count": 22,
   "metadata": {},
   "outputs": [
    {
     "data": {
      "text/plain": [
       "0    11850\n",
       "1      149\n",
       "Name: outlier, dtype: int64"
      ]
     },
     "execution_count": 22,
     "metadata": {},
     "output_type": "execute_result"
    }
   ],
   "source": [
    "df_train['outlier'] = outl_q\n",
    "df_train['outlier'].value_counts()"
   ]
  },
  {
   "cell_type": "markdown",
   "metadata": {},
   "source": [
    "### Variables Predictoras"
   ]
  },
  {
   "cell_type": "markdown",
   "metadata": {},
   "source": [
    "*visualización de features categóricos* <br>\n",
    "Datos categóricos: season, workingday, weathersit, holiday, yr, mnth, weekday"
   ]
  },
  {
   "cell_type": "code",
   "execution_count": 23,
   "metadata": {},
   "outputs": [
    {
     "name": "stdout",
     "output_type": "stream",
     "text": [
      "                         \u001b[1mVisualización de features categóricos (train):                         \n"
     ]
    },
    {
     "data": {
      "image/png": "[encoded data removed]",
      "text/plain": [
       "<Figure size 1080x864 with 8 Axes>"
      ]
     },
     "metadata": {
      "needs_background": "light"
     },
     "output_type": "display_data"
    }
   ],
   "source": [
    "print('\\033[1mVisualización de features categóricos (train):'.center(100))\n",
    "cf = [\"yr\",\"mnth\",\"hr\",\"weekday\",\"season\", \"workingday\",\"weathersit\",\"holiday\"]\n",
    "n = 2\n",
    "plt.figure(figsize = [15,3*math.ceil(len(cf)/n)])\n",
    "\n",
    "for i in range(len(cf)):\n",
    "    if df_train[cf[i]].nunique() <= 6: # Cantidad de valores unicos de la serie df[cf[i]]\n",
    "        plt.subplot(math.ceil(len(cf)/n), n, i+1)\n",
    "        sns.countplot(df_train[cf[i]])\n",
    "    else:\n",
    "        plt.subplot(4, 2, i+1)\n",
    "        sns.countplot(df_train[cf[i]])\n",
    "\n",
    "plt.tight_layout()\n",
    "plt.show()"
   ]
  },
  {
   "cell_type": "markdown",
   "metadata": {},
   "source": [
    "Podemos observar que en el feature 'weathersit' el valor 4 es casi nulo, por lo que se eliminará para procesar apenas 3 valores en el entrenamiento"
   ]
  },
  {
   "cell_type": "code",
   "execution_count": 24,
   "metadata": {},
   "outputs": [
    {
     "data": {
      "text/plain": [
       "1    7843\n",
       "2    3095\n",
       "3    1058\n",
       "4       3\n",
       "Name: weathersit, dtype: int64"
      ]
     },
     "execution_count": 24,
     "metadata": {},
     "output_type": "execute_result"
    }
   ],
   "source": [
    "df_train['weathersit'].value_counts()"
   ]
  },
  {
   "cell_type": "code",
   "execution_count": 25,
   "metadata": {},
   "outputs": [],
   "source": [
    "#nos quedamos con los casos que el weathersit no sea 4\n",
    "df_train = df_train.loc[df_train['weathersit']!=4]"
   ]
  },
  {
   "cell_type": "code",
   "execution_count": 26,
   "metadata": {},
   "outputs": [
    {
     "name": "stdout",
     "output_type": "stream",
     "text": [
      "                         \u001b[1mVisualización de features categóricos (test):                          \n"
     ]
    },
    {
     "data": {
      "image/png": "[encoded data removed]",
      "text/plain": [
       "<Figure size 1080x864 with 8 Axes>"
      ]
     },
     "metadata": {
      "needs_background": "light"
     },
     "output_type": "display_data"
    }
   ],
   "source": [
    "print('\\033[1mVisualización de features categóricos (test):'.center(100))\n",
    "cf = [\"yr\",\"mnth\",\"hr\",\"weekday\",\"season\", \"workingday\",\"weathersit\",\"holiday\"]\n",
    "n = 2\n",
    "plt.figure(figsize = [15,3*math.ceil(len(cf)/n)])\n",
    "\n",
    "for i in range(len(cf)):\n",
    "    if df_train[cf[i]].nunique() <= 6: # Cantidad de valores unicos de la serie df[cf[i]]\n",
    "        plt.subplot(math.ceil(len(cf)/n), n, i+1)\n",
    "        sns.countplot(df_train[cf[i]])\n",
    "    else:\n",
    "        plt.subplot(4, 2, i+1)\n",
    "        sns.countplot(df_train[cf[i]])\n",
    "\n",
    "plt.tight_layout()\n",
    "plt.show()"
   ]
  },
  {
   "cell_type": "markdown",
   "metadata": {},
   "source": [
    "### Visualización de features numéricos"
   ]
  },
  {
   "cell_type": "code",
   "execution_count": 27,
   "metadata": {},
   "outputs": [
    {
     "name": "stdout",
     "output_type": "stream",
     "text": [
      "                                          \u001b[1mDistribución de features numéricos (train)                                          \n"
     ]
    },
    {
     "data": {
      "image/png": "[encoded data removed]",
      "text/plain": [
       "<Figure size 1080x864 with 4 Axes>"
      ]
     },
     "metadata": {
      "needs_background": "light"
     },
     "output_type": "display_data"
    },
    {
     "data": {
      "image/png": "[encoded data removed]",
      "text/plain": [
       "<Figure size 1080x432 with 4 Axes>"
      ]
     },
     "metadata": {
      "needs_background": "light"
     },
     "output_type": "display_data"
    }
   ],
   "source": [
    "print('\\033[1mDistribución de features numéricos (train)'.center(130))\n",
    "\n",
    "n = 4\n",
    "nf = ['temp', 'atemp', 'hum', 'windspeed']\n",
    "clr = ['r', 'g', 'b', 'g', 'b', 'r']\n",
    "\n",
    "plt.figure(figsize = [15, 6*math.ceil(len(cf)/n)])\n",
    "for i in range(len(nf)):\n",
    "    plt.subplot(math.ceil(len(nf)/2), n, i+1)\n",
    "    sns.distplot(df_train[nf[i]], hist_kws = dict(edgecolor = 'black', linewidth = 2), \n",
    "               bins = 10, color = list(np.random.randint([255,255,255])/255))\n",
    "\n",
    "plt.figure(figsize = [15, 6*math.ceil(len(nf)/n)])\n",
    "for i in range(len(nf)):\n",
    "    plt.subplot(math.ceil(len(nf)/2), n, i+1)\n",
    "    df_train.boxplot(nf[i])\n",
    "\n",
    "plt.tight_layout()\n",
    "plt.show()"
   ]
  },
  {
   "cell_type": "markdown",
   "metadata": {},
   "source": [
    "*Observamos outliers en WINDSPEED*"
   ]
  },
  {
   "cell_type": "code",
   "execution_count": 28,
   "metadata": {},
   "outputs": [],
   "source": [
    "cuart = pd.qcut(df_train.windspeed, q = [0,.25,.50,.75,1], retbins = True)[1]\n",
    "Q1 = cuart[1]\n",
    "Q2 = cuart[2]\n",
    "Q3 = cuart[3]\n",
    "IQR = Q3 - Q1\n",
    "wind_q = df_train.windspeed.apply(lambda e: 1 if (e > Q3 + 1.5*IQR)|(e < Q1 - 1.5*IQR) else 0)"
   ]
  },
  {
   "cell_type": "code",
   "execution_count": 29,
   "metadata": {},
   "outputs": [
    {
     "data": {
      "text/plain": [
       "86"
      ]
     },
     "execution_count": 29,
     "metadata": {},
     "output_type": "execute_result"
    }
   ],
   "source": [
    "len(wind_q[wind_q == 1]) # 86 registros como outliers, procederemos a eliminar esos registros"
   ]
  },
  {
   "cell_type": "code",
   "execution_count": 30,
   "metadata": {},
   "outputs": [],
   "source": [
    "df_train['outlier_wind'] = wind_q\n",
    "df_train = df_train[df_train['outlier_wind']==0]\n",
    "df_train = df_train[df_train['outlier']==0]"
   ]
  },
  {
   "cell_type": "code",
   "execution_count": 31,
   "metadata": {},
   "outputs": [
    {
     "data": {
      "text/plain": [
       "(11763, 17)"
      ]
     },
     "execution_count": 31,
     "metadata": {},
     "output_type": "execute_result"
    }
   ],
   "source": [
    "df_train.shape"
   ]
  },
  {
   "cell_type": "code",
   "execution_count": 32,
   "metadata": {},
   "outputs": [
    {
     "data": {
      "image/png": "[encoded data removed]",
      "text/plain": [
       "<Figure size 432x288 with 1 Axes>"
      ]
     },
     "metadata": {
      "needs_background": "light"
     },
     "output_type": "display_data"
    }
   ],
   "source": [
    "sns.histplot(df_train.cnt, kde=True)\n",
    "plt.show()"
   ]
  },
  {
   "cell_type": "code",
   "execution_count": 33,
   "metadata": {},
   "outputs": [
    {
     "data": {
      "image/png": "[encoded data removed]",
      "text/plain": [
       "<Figure size 432x288 with 1 Axes>"
      ]
     },
     "metadata": {
      "needs_background": "light"
     },
     "output_type": "display_data"
    }
   ],
   "source": [
    "sns.histplot(df_train.windspeed, kde=True)\n",
    "plt.show()"
   ]
  },
  {
   "cell_type": "markdown",
   "metadata": {},
   "source": [
    "Midiendo los features temp, atemp, hum, windspeed, mediante estadísticos de asimetría y curtosis, para detectar su distruibición normal. <br>\n",
    "Un valor de curtosis y/o asimetría entre -1 y 1, se considera una ligera desviación de la normalidad."
   ]
  },
  {
   "cell_type": "code",
   "execution_count": 34,
   "metadata": {},
   "outputs": [
    {
     "name": "stdout",
     "output_type": "stream",
     "text": [
      "Kursotis: -0.7600648088483037\n",
      "Skewness: 0.025539643774868656\n"
     ]
    }
   ],
   "source": [
    "print('Kursotis:', stats.kurtosis(df_train['atemp']))\n",
    "print('Skewness:', stats.skew(df_train['atemp']))"
   ]
  },
  {
   "cell_type": "code",
   "execution_count": 35,
   "metadata": {},
   "outputs": [
    {
     "name": "stdout",
     "output_type": "stream",
     "text": [
      "Kursotis: -0.849353142865402\n",
      "Skewness: 0.11282410547876524\n"
     ]
    }
   ],
   "source": [
    "print('Kursotis:', stats.kurtosis(df_train['temp']))\n",
    "print('Skewness:', stats.skew(df_train['temp']))"
   ]
  },
  {
   "cell_type": "code",
   "execution_count": 36,
   "metadata": {},
   "outputs": [
    {
     "name": "stdout",
     "output_type": "stream",
     "text": [
      "Kursotis: -0.8484358089660531\n",
      "Skewness: -0.09269705091338305\n"
     ]
    }
   ],
   "source": [
    "print('Kursotis:', stats.kurtosis(df_train['hum']))\n",
    "print('Skewness:', stats.skew(df_train['hum']))"
   ]
  },
  {
   "cell_type": "code",
   "execution_count": 37,
   "metadata": {},
   "outputs": [
    {
     "name": "stdout",
     "output_type": "stream",
     "text": [
      "Kursotis: -0.18691308677846852\n",
      "Skewness: 0.3481253696771268\n"
     ]
    }
   ],
   "source": [
    "print('Kursotis:', stats.kurtosis(df_train['windspeed']))\n",
    "print('Skewness:', stats.skew(df_train['windspeed']))"
   ]
  },
  {
   "cell_type": "markdown",
   "metadata": {},
   "source": [
    "### 4. Feature Engineering"
   ]
  },
  {
   "cell_type": "markdown",
   "metadata": {},
   "source": [
    "*selección de features con regresión linear*"
   ]
  },
  {
   "cell_type": "code",
   "execution_count": 38,
   "metadata": {},
   "outputs": [],
   "source": [
    "train_prep_1 = df_train.drop(['casual','registered', 'outlier', 'outlier_wind'], axis = 1).copy()"
   ]
  },
  {
   "cell_type": "code",
   "execution_count": 39,
   "metadata": {},
   "outputs": [
    {
     "data": {
      "text/plain": [
       "Index(['season', 'yr', 'mnth', 'hr', 'holiday', 'weekday', 'workingday',\n",
       "       'weathersit', 'temp', 'atemp', 'hum', 'windspeed', 'cnt'],\n",
       "      dtype='object')"
      ]
     },
     "execution_count": 39,
     "metadata": {},
     "output_type": "execute_result"
    }
   ],
   "source": [
    "train_prep_1.columns"
   ]
  },
  {
   "cell_type": "code",
   "execution_count": 40,
   "metadata": {},
   "outputs": [],
   "source": [
    "X_reg = train_prep_1.drop(['cnt'], axis=1)\n",
    "y_reg = train_prep_1['cnt']"
   ]
  },
  {
   "cell_type": "code",
   "execution_count": 41,
   "metadata": {},
   "outputs": [
    {
     "data": {
      "text/html": [
       "<table class=\"simpletable\">\n",
       "<caption>OLS Regression Results</caption>\n",
       "<tr>\n",
       "  <th>Dep. Variable:</th>           <td>cnt</td>       <th>  R-squared:         </th> <td>   0.371</td> \n",
       "</tr>\n",
       "<tr>\n",
       "  <th>Model:</th>                   <td>OLS</td>       <th>  Adj. R-squared:    </th> <td>   0.370</td> \n",
       "</tr>\n",
       "<tr>\n",
       "  <th>Method:</th>             <td>Least Squares</td>  <th>  F-statistic:       </th> <td>   577.5</td> \n",
       "</tr>\n",
       "<tr>\n",
       "  <th>Date:</th>             <td>Thu, 20 Oct 2022</td> <th>  Prob (F-statistic):</th>  <td>  0.00</td>  \n",
       "</tr>\n",
       "<tr>\n",
       "  <th>Time:</th>                 <td>15:45:59</td>     <th>  Log-Likelihood:    </th> <td> -73026.</td> \n",
       "</tr>\n",
       "<tr>\n",
       "  <th>No. Observations:</th>      <td> 11763</td>      <th>  AIC:               </th> <td>1.461e+05</td>\n",
       "</tr>\n",
       "<tr>\n",
       "  <th>Df Residuals:</th>          <td> 11750</td>      <th>  BIC:               </th> <td>1.462e+05</td>\n",
       "</tr>\n",
       "<tr>\n",
       "  <th>Df Model:</th>              <td>    12</td>      <th>                     </th>     <td> </td>    \n",
       "</tr>\n",
       "<tr>\n",
       "  <th>Covariance Type:</th>      <td>nonrobust</td>    <th>                     </th>     <td> </td>    \n",
       "</tr>\n",
       "</table>\n",
       "<table class=\"simpletable\">\n",
       "<tr>\n",
       "       <td></td>         <th>coef</th>     <th>std err</th>      <th>t</th>      <th>P>|t|</th>  <th>[0.025</th>    <th>0.975]</th>  \n",
       "</tr>\n",
       "<tr>\n",
       "  <th>const</th>      <td>  -24.3992</td> <td>    7.237</td> <td>   -3.371</td> <td> 0.001</td> <td>  -38.585</td> <td>  -10.213</td>\n",
       "</tr>\n",
       "<tr>\n",
       "  <th>season</th>     <td>   12.8989</td> <td>    2.091</td> <td>    6.170</td> <td> 0.000</td> <td>    8.801</td> <td>   16.997</td>\n",
       "</tr>\n",
       "<tr>\n",
       "  <th>yr</th>         <td>   87.3591</td> <td>    2.870</td> <td>   30.437</td> <td> 0.000</td> <td>   81.733</td> <td>   92.985</td>\n",
       "</tr>\n",
       "<tr>\n",
       "  <th>mnth</th>       <td>    1.6866</td> <td>    0.665</td> <td>    2.537</td> <td> 0.011</td> <td>    0.383</td> <td>    2.990</td>\n",
       "</tr>\n",
       "<tr>\n",
       "  <th>hr</th>         <td>    6.4686</td> <td>    0.169</td> <td>   38.287</td> <td> 0.000</td> <td>    6.137</td> <td>    6.800</td>\n",
       "</tr>\n",
       "<tr>\n",
       "  <th>holiday</th>    <td>  -22.2531</td> <td>    7.006</td> <td>   -3.176</td> <td> 0.001</td> <td>  -35.985</td> <td>   -8.521</td>\n",
       "</tr>\n",
       "<tr>\n",
       "  <th>weekday</th>    <td>    1.6252</td> <td>    0.557</td> <td>    2.918</td> <td> 0.004</td> <td>    0.533</td> <td>    2.717</td>\n",
       "</tr>\n",
       "<tr>\n",
       "  <th>workingday</th> <td>   -0.5517</td> <td>    2.470</td> <td>   -0.223</td> <td> 0.823</td> <td>   -5.393</td> <td>    4.289</td>\n",
       "</tr>\n",
       "<tr>\n",
       "  <th>weathersit</th> <td>   -6.2103</td> <td>    1.946</td> <td>   -3.191</td> <td> 0.001</td> <td>  -10.025</td> <td>   -2.395</td>\n",
       "</tr>\n",
       "<tr>\n",
       "  <th>temp</th>       <td>   37.3701</td> <td>   49.692</td> <td>    0.752</td> <td> 0.452</td> <td>  -60.035</td> <td>  134.776</td>\n",
       "</tr>\n",
       "<tr>\n",
       "  <th>atemp</th>      <td>  271.1497</td> <td>   55.340</td> <td>    4.900</td> <td> 0.000</td> <td>  162.674</td> <td>  379.626</td>\n",
       "</tr>\n",
       "<tr>\n",
       "  <th>hum</th>        <td> -149.9379</td> <td>    6.873</td> <td>  -21.816</td> <td> 0.000</td> <td> -163.410</td> <td> -136.466</td>\n",
       "</tr>\n",
       "<tr>\n",
       "  <th>windspeed</th>  <td>   32.6283</td> <td>   10.325</td> <td>    3.160</td> <td> 0.002</td> <td>   12.389</td> <td>   52.867</td>\n",
       "</tr>\n",
       "</table>\n",
       "<table class=\"simpletable\">\n",
       "<tr>\n",
       "  <th>Omnibus:</th>       <td>2197.359</td> <th>  Durbin-Watson:     </th> <td>   0.560</td>\n",
       "</tr>\n",
       "<tr>\n",
       "  <th>Prob(Omnibus):</th>  <td> 0.000</td>  <th>  Jarque-Bera (JB):  </th> <td>4115.029</td>\n",
       "</tr>\n",
       "<tr>\n",
       "  <th>Skew:</th>           <td> 1.161</td>  <th>  Prob(JB):          </th> <td>    0.00</td>\n",
       "</tr>\n",
       "<tr>\n",
       "  <th>Kurtosis:</th>       <td> 4.734</td>  <th>  Cond. No.          </th> <td>1.00e+03</td>\n",
       "</tr>\n",
       "</table><br/><br/>Notes:<br/>[1] Standard Errors assume that the covariance matrix of the errors is correctly specified.<br/>[2] The condition number is large,  1e+03. This might indicate that there are<br/>strong multicollinearity or other numerical problems."
      ],
      "text/plain": [
       "<class 'statsmodels.iolib.summary.Summary'>\n",
       "\"\"\"\n",
       "                            OLS Regression Results                            \n",
       "==============================================================================\n",
       "Dep. Variable:                    cnt   R-squared:                       0.371\n",
       "Model:                            OLS   Adj. R-squared:                  0.370\n",
       "Method:                 Least Squares   F-statistic:                     577.5\n",
       "Date:                Thu, 20 Oct 2022   Prob (F-statistic):               0.00\n",
       "Time:                        15:45:59   Log-Likelihood:                -73026.\n",
       "No. Observations:               11763   AIC:                         1.461e+05\n",
       "Df Residuals:                   11750   BIC:                         1.462e+05\n",
       "Df Model:                          12                                         \n",
       "Covariance Type:            nonrobust                                         \n",
       "==============================================================================\n",
       "                 coef    std err          t      P>|t|      [0.025      0.975]\n",
       "------------------------------------------------------------------------------\n",
       "const        -24.3992      7.237     -3.371      0.001     -38.585     -10.213\n",
       "season        12.8989      2.091      6.170      0.000       8.801      16.997\n",
       "yr            87.3591      2.870     30.437      0.000      81.733      92.985\n",
       "mnth           1.6866      0.665      2.537      0.011       0.383       2.990\n",
       "hr             6.4686      0.169     38.287      0.000       6.137       6.800\n",
       "holiday      -22.2531      7.006     -3.176      0.001     -35.985      -8.521\n",
       "weekday        1.6252      0.557      2.918      0.004       0.533       2.717\n",
       "workingday    -0.5517      2.470     -0.223      0.823      -5.393       4.289\n",
       "weathersit    -6.2103      1.946     -3.191      0.001     -10.025      -2.395\n",
       "temp          37.3701     49.692      0.752      0.452     -60.035     134.776\n",
       "atemp        271.1497     55.340      4.900      0.000     162.674     379.626\n",
       "hum         -149.9379      6.873    -21.816      0.000    -163.410    -136.466\n",
       "windspeed     32.6283     10.325      3.160      0.002      12.389      52.867\n",
       "==============================================================================\n",
       "Omnibus:                     2197.359   Durbin-Watson:                   0.560\n",
       "Prob(Omnibus):                  0.000   Jarque-Bera (JB):             4115.029\n",
       "Skew:                           1.161   Prob(JB):                         0.00\n",
       "Kurtosis:                       4.734   Cond. No.                     1.00e+03\n",
       "==============================================================================\n",
       "\n",
       "Notes:\n",
       "[1] Standard Errors assume that the covariance matrix of the errors is correctly specified.\n",
       "[2] The condition number is large,  1e+03. This might indicate that there are\n",
       "strong multicollinearity or other numerical problems.\n",
       "\"\"\""
      ]
     },
     "execution_count": 41,
     "metadata": {},
     "output_type": "execute_result"
    }
   ],
   "source": [
    "import statsmodels.api as sm\n",
    "X_constant = sm.add_constant(X_reg)\n",
    "lin_reg = sm.OLS(y_reg,X_constant).fit()\n",
    "lin_reg.summary()"
   ]
  },
  {
   "cell_type": "markdown",
   "metadata": {},
   "source": [
    "Variables no significativas (>0.05) encontradas en el modelo son: <br>\n",
    "* workingday\n",
    "* temp "
   ]
  },
  {
   "cell_type": "markdown",
   "metadata": {},
   "source": [
    "### Selección de features con recursive feature elimination"
   ]
  },
  {
   "cell_type": "code",
   "execution_count": 42,
   "metadata": {},
   "outputs": [
    {
     "data": {
      "text/html": [
       "<style>#sk-container-id-1 {color: black;background-color: white;}#sk-container-id-1 pre{padding: 0;}#sk-container-id-1 div.sk-toggleable {background-color: white;}#sk-container-id-1 label.sk-toggleable__label {cursor: pointer;display: block;width: 100%;margin-bottom: 0;padding: 0.3em;box-sizing: border-box;text-align: center;}#sk-container-id-1 label.sk-toggleable__label-arrow:before {content: \"▸\";float: left;margin-right: 0.25em;color: #696969;}#sk-container-id-1 label.sk-toggleable__label-arrow:hover:before {color: black;}#sk-container-id-1 div.sk-estimator:hover label.sk-toggleable__label-arrow:before {color: black;}#sk-container-id-1 div.sk-toggleable__content {max-height: 0;max-width: 0;overflow: hidden;text-align: left;background-color: #f0f8ff;}#sk-container-id-1 div.sk-toggleable__content pre {margin: 0.2em;color: black;border-radius: 0.25em;background-color: #f0f8ff;}#sk-container-id-1 input.sk-toggleable__control:checked~div.sk-toggleable__content {max-height: 200px;max-width: 100%;overflow: auto;}#sk-container-id-1 input.sk-toggleable__control:checked~label.sk-toggleable__label-arrow:before {content: \"▾\";}#sk-container-id-1 div.sk-estimator input.sk-toggleable__control:checked~label.sk-toggleable__label {background-color: #d4ebff;}#sk-container-id-1 div.sk-label input.sk-toggleable__control:checked~label.sk-toggleable__label {background-color: #d4ebff;}#sk-container-id-1 input.sk-hidden--visually {border: 0;clip: rect(1px 1px 1px 1px);clip: rect(1px, 1px, 1px, 1px);height: 1px;margin: -1px;overflow: hidden;padding: 0;position: absolute;width: 1px;}#sk-container-id-1 div.sk-estimator {font-family: monospace;background-color: #f0f8ff;border: 1px dotted black;border-radius: 0.25em;box-sizing: border-box;margin-bottom: 0.5em;}#sk-container-id-1 div.sk-estimator:hover {background-color: #d4ebff;}#sk-container-id-1 div.sk-parallel-item::after {content: \"\";width: 100%;border-bottom: 1px solid gray;flex-grow: 1;}#sk-container-id-1 div.sk-label:hover label.sk-toggleable__label {background-color: #d4ebff;}#sk-container-id-1 div.sk-serial::before {content: \"\";position: absolute;border-left: 1px solid gray;box-sizing: border-box;top: 0;bottom: 0;left: 50%;z-index: 0;}#sk-container-id-1 div.sk-serial {display: flex;flex-direction: column;align-items: center;background-color: white;padding-right: 0.2em;padding-left: 0.2em;position: relative;}#sk-container-id-1 div.sk-item {position: relative;z-index: 1;}#sk-container-id-1 div.sk-parallel {display: flex;align-items: stretch;justify-content: center;background-color: white;position: relative;}#sk-container-id-1 div.sk-item::before, #sk-container-id-1 div.sk-parallel-item::before {content: \"\";position: absolute;border-left: 1px solid gray;box-sizing: border-box;top: 0;bottom: 0;left: 50%;z-index: -1;}#sk-container-id-1 div.sk-parallel-item {display: flex;flex-direction: column;z-index: 1;position: relative;background-color: white;}#sk-container-id-1 div.sk-parallel-item:first-child::after {align-self: flex-end;width: 50%;}#sk-container-id-1 div.sk-parallel-item:last-child::after {align-self: flex-start;width: 50%;}#sk-container-id-1 div.sk-parallel-item:only-child::after {width: 0;}#sk-container-id-1 div.sk-dashed-wrapped {border: 1px dashed gray;margin: 0 0.4em 0.5em 0.4em;box-sizing: border-box;padding-bottom: 0.4em;background-color: white;}#sk-container-id-1 div.sk-label label {font-family: monospace;font-weight: bold;display: inline-block;line-height: 1.2em;}#sk-container-id-1 div.sk-label-container {text-align: center;}#sk-container-id-1 div.sk-container {/* jupyter's `normalize.less` sets `[hidden] { display: none; }` but bootstrap.min.css set `[hidden] { display: none !important; }` so we also need the `!important` here to be able to override the default hidden behavior on the sphinx rendered scikit-learn.org. See: https://github.com/scikit-learn/scikit-learn/issues/21755 */display: inline-block !important;position: relative;}#sk-container-id-1 div.sk-text-repr-fallback {display: none;}</style><div id=\"sk-container-id-1\" class=\"sk-top-container\"><div class=\"sk-text-repr-fallback\"><pre>RFECV(cv=4,\n",
       "      estimator=XGBRegressor(base_score=None, booster=None, callbacks=None,\n",
       "                             colsample_bylevel=None, colsample_bynode=None,\n",
       "                             colsample_bytree=None, early_stopping_rounds=None,\n",
       "                             enable_categorical=False, eval_metric=None,\n",
       "                             gamma=None, gpu_id=None, grow_policy=None,\n",
       "                             importance_type=None, interaction_constraints=None,\n",
       "                             learning_rate=None, max_bin=None,\n",
       "                             max_cat_to_onehot=None, max_delta_step=None,\n",
       "                             max_depth=None, max_leaves=None,\n",
       "                             min_child_weight=None, missing=nan,\n",
       "                             monotone_constraints=None, n_estimators=100,\n",
       "                             n_jobs=None, num_parallel_tree=None,\n",
       "                             predictor=None, random_state=None, reg_alpha=None,\n",
       "                             reg_lambda=None, ...),\n",
       "      min_features_to_select=3, step=3)</pre><b>In a Jupyter environment, please rerun this cell to show the HTML representation or trust the notebook. <br />On GitHub, the HTML representation is unable to render, please try loading this page with nbviewer.org.</b></div><div class=\"sk-container\" hidden><div class=\"sk-item sk-dashed-wrapped\"><div class=\"sk-label-container\"><div class=\"sk-label sk-toggleable\"><input class=\"sk-toggleable__control sk-hidden--visually\" id=\"sk-estimator-id-1\" type=\"checkbox\" ><label for=\"sk-estimator-id-1\" class=\"sk-toggleable__label sk-toggleable__label-arrow\">RFECV</label><div class=\"sk-toggleable__content\"><pre>RFECV(cv=4,\n",
       "      estimator=XGBRegressor(base_score=None, booster=None, callbacks=None,\n",
       "                             colsample_bylevel=None, colsample_bynode=None,\n",
       "                             colsample_bytree=None, early_stopping_rounds=None,\n",
       "                             enable_categorical=False, eval_metric=None,\n",
       "                             gamma=None, gpu_id=None, grow_policy=None,\n",
       "                             importance_type=None, interaction_constraints=None,\n",
       "                             learning_rate=None, max_bin=None,\n",
       "                             max_cat_to_onehot=None, max_delta_step=None,\n",
       "                             max_depth=None, max_leaves=None,\n",
       "                             min_child_weight=None, missing=nan,\n",
       "                             monotone_constraints=None, n_estimators=100,\n",
       "                             n_jobs=None, num_parallel_tree=None,\n",
       "                             predictor=None, random_state=None, reg_alpha=None,\n",
       "                             reg_lambda=None, ...),\n",
       "      min_features_to_select=3, step=3)</pre></div></div></div><div class=\"sk-parallel\"><div class=\"sk-parallel-item\"><div class=\"sk-item\"><div class=\"sk-label-container\"><div class=\"sk-label sk-toggleable\"><input class=\"sk-toggleable__control sk-hidden--visually\" id=\"sk-estimator-id-2\" type=\"checkbox\" ><label for=\"sk-estimator-id-2\" class=\"sk-toggleable__label sk-toggleable__label-arrow\">estimator: XGBRegressor</label><div class=\"sk-toggleable__content\"><pre>XGBRegressor(base_score=None, booster=None, callbacks=None,\n",
       "             colsample_bylevel=None, colsample_bynode=None,\n",
       "             colsample_bytree=None, early_stopping_rounds=None,\n",
       "             enable_categorical=False, eval_metric=None, gamma=None,\n",
       "             gpu_id=None, grow_policy=None, importance_type=None,\n",
       "             interaction_constraints=None, learning_rate=None, max_bin=None,\n",
       "             max_cat_to_onehot=None, max_delta_step=None, max_depth=None,\n",
       "             max_leaves=None, min_child_weight=None, missing=nan,\n",
       "             monotone_constraints=None, n_estimators=100, n_jobs=None,\n",
       "             num_parallel_tree=None, predictor=None, random_state=None,\n",
       "             reg_alpha=None, reg_lambda=None, ...)</pre></div></div></div><div class=\"sk-serial\"><div class=\"sk-item\"><div class=\"sk-estimator sk-toggleable\"><input class=\"sk-toggleable__control sk-hidden--visually\" id=\"sk-estimator-id-3\" type=\"checkbox\" ><label for=\"sk-estimator-id-3\" class=\"sk-toggleable__label sk-toggleable__label-arrow\">XGBRegressor</label><div class=\"sk-toggleable__content\"><pre>XGBRegressor(base_score=None, booster=None, callbacks=None,\n",
       "             colsample_bylevel=None, colsample_bynode=None,\n",
       "             colsample_bytree=None, early_stopping_rounds=None,\n",
       "             enable_categorical=False, eval_metric=None, gamma=None,\n",
       "             gpu_id=None, grow_policy=None, importance_type=None,\n",
       "             interaction_constraints=None, learning_rate=None, max_bin=None,\n",
       "             max_cat_to_onehot=None, max_delta_step=None, max_depth=None,\n",
       "             max_leaves=None, min_child_weight=None, missing=nan,\n",
       "             monotone_constraints=None, n_estimators=100, n_jobs=None,\n",
       "             num_parallel_tree=None, predictor=None, random_state=None,\n",
       "             reg_alpha=None, reg_lambda=None, ...)</pre></div></div></div></div></div></div></div></div></div></div>"
      ],
      "text/plain": [
       "RFECV(cv=4,\n",
       "      estimator=XGBRegressor(base_score=None, booster=None, callbacks=None,\n",
       "                             colsample_bylevel=None, colsample_bynode=None,\n",
       "                             colsample_bytree=None, early_stopping_rounds=None,\n",
       "                             enable_categorical=False, eval_metric=None,\n",
       "                             gamma=None, gpu_id=None, grow_policy=None,\n",
       "                             importance_type=None, interaction_constraints=None,\n",
       "                             learning_rate=None, max_bin=None,\n",
       "                             max_cat_to_onehot=None, max_delta_step=None,\n",
       "                             max_depth=None, max_leaves=None,\n",
       "                             min_child_weight=None, missing=nan,\n",
       "                             monotone_constraints=None, n_estimators=100,\n",
       "                             n_jobs=None, num_parallel_tree=None,\n",
       "                             predictor=None, random_state=None, reg_alpha=None,\n",
       "                             reg_lambda=None, ...),\n",
       "      min_features_to_select=3, step=3)"
      ]
     },
     "execution_count": 42,
     "metadata": {},
     "output_type": "execute_result"
    }
   ],
   "source": [
    "from sklearn.feature_selection import RFECV\n",
    "from xgboost import XGBRegressor\n",
    "model = XGBRegressor()\n",
    "\n",
    "selector = RFECV(model, step=3, min_features_to_select = 3, cv = 4)\n",
    "selector.fit(X_reg,y_reg)"
   ]
  },
  {
   "cell_type": "code",
   "execution_count": 43,
   "metadata": {},
   "outputs": [
    {
     "name": "stdout",
     "output_type": "stream",
     "text": [
      "Index(['season', 'yr', 'mnth', 'hr', 'holiday', 'weekday', 'workingday',\n",
      "       'weathersit', 'temp', 'atemp', 'hum', 'windspeed'],\n",
      "      dtype='object')\n",
      "[1 1 1 1 1 1 1 1 1 1 1 1]\n"
     ]
    }
   ],
   "source": [
    "print(X_reg.columns)\n",
    "print(selector.ranking_)"
   ]
  },
  {
   "cell_type": "code",
   "execution_count": 44,
   "metadata": {},
   "outputs": [
    {
     "data": {
      "text/plain": [
       "0.6099273338613581"
      ]
     },
     "execution_count": 44,
     "metadata": {},
     "output_type": "execute_result"
    }
   ],
   "source": [
    "selector.grid_scores_.mean()  # Promedio de R^2 para CV en 4"
   ]
  },
  {
   "cell_type": "markdown",
   "metadata": {},
   "source": [
    "Variables más importantes: season, yr, hr, workingday, weathersit, temp <br>\n",
    "<br>\n",
    "Variables menos importantes: mnth, hum, windspeed"
   ]
  },
  {
   "cell_type": "markdown",
   "metadata": {},
   "source": [
    "### 5. Preprocesamiento de Datos"
   ]
  },
  {
   "cell_type": "code",
   "execution_count": 45,
   "metadata": {},
   "outputs": [
    {
     "data": {
      "text/html": [
       "<div>\n",
       "<style scoped>\n",
       "    .dataframe tbody tr th:only-of-type {\n",
       "        vertical-align: middle;\n",
       "    }\n",
       "\n",
       "    .dataframe tbody tr th {\n",
       "        vertical-align: top;\n",
       "    }\n",
       "\n",
       "    .dataframe thead th {\n",
       "        text-align: right;\n",
       "    }\n",
       "</style>\n",
       "<table border=\"1\" class=\"dataframe\">\n",
       "  <thead>\n",
       "    <tr style=\"text-align: right;\">\n",
       "      <th></th>\n",
       "      <th>season</th>\n",
       "      <th>yr</th>\n",
       "      <th>mnth</th>\n",
       "      <th>hr</th>\n",
       "      <th>holiday</th>\n",
       "      <th>weekday</th>\n",
       "      <th>workingday</th>\n",
       "      <th>weathersit</th>\n",
       "      <th>temp</th>\n",
       "      <th>atemp</th>\n",
       "      <th>hum</th>\n",
       "      <th>windspeed</th>\n",
       "      <th>cnt</th>\n",
       "    </tr>\n",
       "  </thead>\n",
       "  <tbody>\n",
       "    <tr>\n",
       "      <th>0</th>\n",
       "      <td>1</td>\n",
       "      <td>0</td>\n",
       "      <td>1</td>\n",
       "      <td>0</td>\n",
       "      <td>0</td>\n",
       "      <td>6</td>\n",
       "      <td>0</td>\n",
       "      <td>1</td>\n",
       "      <td>0.24</td>\n",
       "      <td>0.2879</td>\n",
       "      <td>0.81</td>\n",
       "      <td>0.0000</td>\n",
       "      <td>16</td>\n",
       "    </tr>\n",
       "    <tr>\n",
       "      <th>1</th>\n",
       "      <td>1</td>\n",
       "      <td>0</td>\n",
       "      <td>1</td>\n",
       "      <td>1</td>\n",
       "      <td>0</td>\n",
       "      <td>6</td>\n",
       "      <td>0</td>\n",
       "      <td>1</td>\n",
       "      <td>0.22</td>\n",
       "      <td>0.2727</td>\n",
       "      <td>0.80</td>\n",
       "      <td>0.0000</td>\n",
       "      <td>40</td>\n",
       "    </tr>\n",
       "    <tr>\n",
       "      <th>2</th>\n",
       "      <td>1</td>\n",
       "      <td>0</td>\n",
       "      <td>1</td>\n",
       "      <td>2</td>\n",
       "      <td>0</td>\n",
       "      <td>6</td>\n",
       "      <td>0</td>\n",
       "      <td>1</td>\n",
       "      <td>0.22</td>\n",
       "      <td>0.2727</td>\n",
       "      <td>0.80</td>\n",
       "      <td>0.0000</td>\n",
       "      <td>32</td>\n",
       "    </tr>\n",
       "    <tr>\n",
       "      <th>3</th>\n",
       "      <td>1</td>\n",
       "      <td>0</td>\n",
       "      <td>1</td>\n",
       "      <td>3</td>\n",
       "      <td>0</td>\n",
       "      <td>6</td>\n",
       "      <td>0</td>\n",
       "      <td>1</td>\n",
       "      <td>0.24</td>\n",
       "      <td>0.2879</td>\n",
       "      <td>0.75</td>\n",
       "      <td>0.0000</td>\n",
       "      <td>13</td>\n",
       "    </tr>\n",
       "    <tr>\n",
       "      <th>6</th>\n",
       "      <td>1</td>\n",
       "      <td>0</td>\n",
       "      <td>1</td>\n",
       "      <td>6</td>\n",
       "      <td>0</td>\n",
       "      <td>6</td>\n",
       "      <td>0</td>\n",
       "      <td>1</td>\n",
       "      <td>0.22</td>\n",
       "      <td>0.2727</td>\n",
       "      <td>0.80</td>\n",
       "      <td>0.0000</td>\n",
       "      <td>2</td>\n",
       "    </tr>\n",
       "    <tr>\n",
       "      <th>...</th>\n",
       "      <td>...</td>\n",
       "      <td>...</td>\n",
       "      <td>...</td>\n",
       "      <td>...</td>\n",
       "      <td>...</td>\n",
       "      <td>...</td>\n",
       "      <td>...</td>\n",
       "      <td>...</td>\n",
       "      <td>...</td>\n",
       "      <td>...</td>\n",
       "      <td>...</td>\n",
       "      <td>...</td>\n",
       "      <td>...</td>\n",
       "    </tr>\n",
       "    <tr>\n",
       "      <th>11994</th>\n",
       "      <td>2</td>\n",
       "      <td>1</td>\n",
       "      <td>5</td>\n",
       "      <td>23</td>\n",
       "      <td>0</td>\n",
       "      <td>6</td>\n",
       "      <td>0</td>\n",
       "      <td>1</td>\n",
       "      <td>0.60</td>\n",
       "      <td>0.6212</td>\n",
       "      <td>0.56</td>\n",
       "      <td>0.1642</td>\n",
       "      <td>239</td>\n",
       "    </tr>\n",
       "    <tr>\n",
       "      <th>11995</th>\n",
       "      <td>2</td>\n",
       "      <td>1</td>\n",
       "      <td>5</td>\n",
       "      <td>0</td>\n",
       "      <td>0</td>\n",
       "      <td>0</td>\n",
       "      <td>0</td>\n",
       "      <td>1</td>\n",
       "      <td>0.58</td>\n",
       "      <td>0.5455</td>\n",
       "      <td>0.53</td>\n",
       "      <td>0.1045</td>\n",
       "      <td>170</td>\n",
       "    </tr>\n",
       "    <tr>\n",
       "      <th>11996</th>\n",
       "      <td>2</td>\n",
       "      <td>1</td>\n",
       "      <td>5</td>\n",
       "      <td>1</td>\n",
       "      <td>0</td>\n",
       "      <td>0</td>\n",
       "      <td>0</td>\n",
       "      <td>1</td>\n",
       "      <td>0.56</td>\n",
       "      <td>0.5303</td>\n",
       "      <td>0.52</td>\n",
       "      <td>0.0000</td>\n",
       "      <td>130</td>\n",
       "    </tr>\n",
       "    <tr>\n",
       "      <th>11997</th>\n",
       "      <td>2</td>\n",
       "      <td>1</td>\n",
       "      <td>5</td>\n",
       "      <td>2</td>\n",
       "      <td>0</td>\n",
       "      <td>0</td>\n",
       "      <td>0</td>\n",
       "      <td>1</td>\n",
       "      <td>0.56</td>\n",
       "      <td>0.5303</td>\n",
       "      <td>0.52</td>\n",
       "      <td>0.0000</td>\n",
       "      <td>98</td>\n",
       "    </tr>\n",
       "    <tr>\n",
       "      <th>11998</th>\n",
       "      <td>2</td>\n",
       "      <td>1</td>\n",
       "      <td>5</td>\n",
       "      <td>3</td>\n",
       "      <td>0</td>\n",
       "      <td>0</td>\n",
       "      <td>0</td>\n",
       "      <td>1</td>\n",
       "      <td>0.54</td>\n",
       "      <td>0.5152</td>\n",
       "      <td>0.56</td>\n",
       "      <td>0.0896</td>\n",
       "      <td>66</td>\n",
       "    </tr>\n",
       "  </tbody>\n",
       "</table>\n",
       "<p>11763 rows × 13 columns</p>\n",
       "</div>"
      ],
      "text/plain": [
       "       season  yr  mnth  hr  holiday  weekday  workingday  weathersit  temp  \\\n",
       "0           1   0     1   0        0        6           0           1  0.24   \n",
       "1           1   0     1   1        0        6           0           1  0.22   \n",
       "2           1   0     1   2        0        6           0           1  0.22   \n",
       "3           1   0     1   3        0        6           0           1  0.24   \n",
       "6           1   0     1   6        0        6           0           1  0.22   \n",
       "...       ...  ..   ...  ..      ...      ...         ...         ...   ...   \n",
       "11994       2   1     5  23        0        6           0           1  0.60   \n",
       "11995       2   1     5   0        0        0           0           1  0.58   \n",
       "11996       2   1     5   1        0        0           0           1  0.56   \n",
       "11997       2   1     5   2        0        0           0           1  0.56   \n",
       "11998       2   1     5   3        0        0           0           1  0.54   \n",
       "\n",
       "        atemp   hum  windspeed  cnt  \n",
       "0      0.2879  0.81     0.0000   16  \n",
       "1      0.2727  0.80     0.0000   40  \n",
       "2      0.2727  0.80     0.0000   32  \n",
       "3      0.2879  0.75     0.0000   13  \n",
       "6      0.2727  0.80     0.0000    2  \n",
       "...       ...   ...        ...  ...  \n",
       "11994  0.6212  0.56     0.1642  239  \n",
       "11995  0.5455  0.53     0.1045  170  \n",
       "11996  0.5303  0.52     0.0000  130  \n",
       "11997  0.5303  0.52     0.0000   98  \n",
       "11998  0.5152  0.56     0.0896   66  \n",
       "\n",
       "[11763 rows x 13 columns]"
      ]
     },
     "execution_count": 45,
     "metadata": {},
     "output_type": "execute_result"
    }
   ],
   "source": [
    "train_df_prep_1 = df_train.drop(['outlier','outlier_wind','casual','registered'], axis=1)\n",
    "train_df_prep_1 = train_df_prep_1[train_df_prep_1['weathersit']<=3]\n",
    "train_df_prep_1"
   ]
  },
  {
   "cell_type": "markdown",
   "metadata": {},
   "source": [
    "### 5.1. Usando el 1er método de selección + correlación lineal"
   ]
  },
  {
   "cell_type": "markdown",
   "metadata": {},
   "source": [
    "Eliminamos temp, workingday y mnth"
   ]
  },
  {
   "cell_type": "code",
   "execution_count": 46,
   "metadata": {},
   "outputs": [
    {
     "data": {
      "text/plain": [
       "Index(['season', 'yr', 'hr', 'holiday', 'weekday', 'weathersit', 'atemp',\n",
       "       'hum', 'windspeed', 'cnt'],\n",
       "      dtype='object')"
      ]
     },
     "execution_count": 46,
     "metadata": {},
     "output_type": "execute_result"
    }
   ],
   "source": [
    "train_prep_fs_1 = train_df_prep_1.drop(['temp','workingday','mnth'], axis=1)\n",
    "train_prep_fs_1.columns"
   ]
  },
  {
   "cell_type": "markdown",
   "metadata": {},
   "source": [
    "*Variables dummies* "
   ]
  },
  {
   "cell_type": "markdown",
   "metadata": {},
   "source": [
    "Variables categoricas nominales: season, weathersit, holiday, weekday, yr, hr <br>\n",
    "No es necesario holiday y yr porque poseen valores de 0 y 1"
   ]
  },
  {
   "cell_type": "code",
   "execution_count": 47,
   "metadata": {},
   "outputs": [
    {
     "data": {
      "text/html": [
       "<div>\n",
       "<style scoped>\n",
       "    .dataframe tbody tr th:only-of-type {\n",
       "        vertical-align: middle;\n",
       "    }\n",
       "\n",
       "    .dataframe tbody tr th {\n",
       "        vertical-align: top;\n",
       "    }\n",
       "\n",
       "    .dataframe thead th {\n",
       "        text-align: right;\n",
       "    }\n",
       "</style>\n",
       "<table border=\"1\" class=\"dataframe\">\n",
       "  <thead>\n",
       "    <tr style=\"text-align: right;\">\n",
       "      <th></th>\n",
       "      <th>season</th>\n",
       "      <th>yr</th>\n",
       "      <th>hr</th>\n",
       "      <th>holiday</th>\n",
       "      <th>weekday</th>\n",
       "      <th>weathersit</th>\n",
       "      <th>atemp</th>\n",
       "      <th>hum</th>\n",
       "      <th>windspeed</th>\n",
       "      <th>cnt</th>\n",
       "    </tr>\n",
       "  </thead>\n",
       "  <tbody>\n",
       "    <tr>\n",
       "      <th>0</th>\n",
       "      <td>1</td>\n",
       "      <td>0</td>\n",
       "      <td>0</td>\n",
       "      <td>0</td>\n",
       "      <td>6</td>\n",
       "      <td>1</td>\n",
       "      <td>0.2879</td>\n",
       "      <td>0.81</td>\n",
       "      <td>0.0</td>\n",
       "      <td>16</td>\n",
       "    </tr>\n",
       "    <tr>\n",
       "      <th>1</th>\n",
       "      <td>1</td>\n",
       "      <td>0</td>\n",
       "      <td>1</td>\n",
       "      <td>0</td>\n",
       "      <td>6</td>\n",
       "      <td>1</td>\n",
       "      <td>0.2727</td>\n",
       "      <td>0.80</td>\n",
       "      <td>0.0</td>\n",
       "      <td>40</td>\n",
       "    </tr>\n",
       "    <tr>\n",
       "      <th>2</th>\n",
       "      <td>1</td>\n",
       "      <td>0</td>\n",
       "      <td>2</td>\n",
       "      <td>0</td>\n",
       "      <td>6</td>\n",
       "      <td>1</td>\n",
       "      <td>0.2727</td>\n",
       "      <td>0.80</td>\n",
       "      <td>0.0</td>\n",
       "      <td>32</td>\n",
       "    </tr>\n",
       "    <tr>\n",
       "      <th>3</th>\n",
       "      <td>1</td>\n",
       "      <td>0</td>\n",
       "      <td>3</td>\n",
       "      <td>0</td>\n",
       "      <td>6</td>\n",
       "      <td>1</td>\n",
       "      <td>0.2879</td>\n",
       "      <td>0.75</td>\n",
       "      <td>0.0</td>\n",
       "      <td>13</td>\n",
       "    </tr>\n",
       "    <tr>\n",
       "      <th>6</th>\n",
       "      <td>1</td>\n",
       "      <td>0</td>\n",
       "      <td>6</td>\n",
       "      <td>0</td>\n",
       "      <td>6</td>\n",
       "      <td>1</td>\n",
       "      <td>0.2727</td>\n",
       "      <td>0.80</td>\n",
       "      <td>0.0</td>\n",
       "      <td>2</td>\n",
       "    </tr>\n",
       "  </tbody>\n",
       "</table>\n",
       "</div>"
      ],
      "text/plain": [
       "   season  yr  hr  holiday  weekday  weathersit   atemp   hum  windspeed  cnt\n",
       "0       1   0   0        0        6           1  0.2879  0.81        0.0   16\n",
       "1       1   0   1        0        6           1  0.2727  0.80        0.0   40\n",
       "2       1   0   2        0        6           1  0.2727  0.80        0.0   32\n",
       "3       1   0   3        0        6           1  0.2879  0.75        0.0   13\n",
       "6       1   0   6        0        6           1  0.2727  0.80        0.0    2"
      ]
     },
     "execution_count": 47,
     "metadata": {},
     "output_type": "execute_result"
    }
   ],
   "source": [
    "train_prep_fs_1_2 = train_prep_fs_1.copy()\n",
    "#train_prep_fs_1_2 = pd.get_dummies(train_prep_fs_1, columns=['season','hr','weathersit','weekday'])\n",
    "train_prep_fs_1_2.head()"
   ]
  },
  {
   "cell_type": "code",
   "execution_count": 48,
   "metadata": {},
   "outputs": [],
   "source": [
    "train_df_prep_1['cnt'] = np.log(train_df_prep_1['cnt'])"
   ]
  },
  {
   "cell_type": "markdown",
   "metadata": {},
   "source": [
    "*Escalado de las variables* <br>\n",
    "Manejaremos un escalado StandarScaler para la variable objetivo"
   ]
  },
  {
   "cell_type": "code",
   "execution_count": 49,
   "metadata": {},
   "outputs": [],
   "source": [
    "train_prep_fs_1_3 = train_prep_fs_1_2.copy()"
   ]
  },
  {
   "cell_type": "code",
   "execution_count": 50,
   "metadata": {},
   "outputs": [],
   "source": [
    "st_output = MinMaxScaler()\n",
    "train_prep_fs_1_3.loc[:,['cnt']] = st_output.fit_transform(train_prep_fs_1_3.loc[:,['cnt']])"
   ]
  },
  {
   "cell_type": "code",
   "execution_count": 51,
   "metadata": {},
   "outputs": [
    {
     "data": {
      "text/html": [
       "<div>\n",
       "<style scoped>\n",
       "    .dataframe tbody tr th:only-of-type {\n",
       "        vertical-align: middle;\n",
       "    }\n",
       "\n",
       "    .dataframe tbody tr th {\n",
       "        vertical-align: top;\n",
       "    }\n",
       "\n",
       "    .dataframe thead th {\n",
       "        text-align: right;\n",
       "    }\n",
       "</style>\n",
       "<table border=\"1\" class=\"dataframe\">\n",
       "  <thead>\n",
       "    <tr style=\"text-align: right;\">\n",
       "      <th></th>\n",
       "      <th>count</th>\n",
       "      <th>mean</th>\n",
       "      <th>std</th>\n",
       "      <th>min</th>\n",
       "      <th>25%</th>\n",
       "      <th>50%</th>\n",
       "      <th>75%</th>\n",
       "      <th>max</th>\n",
       "    </tr>\n",
       "  </thead>\n",
       "  <tbody>\n",
       "    <tr>\n",
       "      <th>season</th>\n",
       "      <td>11763.0</td>\n",
       "      <td>2.225028</td>\n",
       "      <td>1.088084</td>\n",
       "      <td>1.0</td>\n",
       "      <td>1.000000</td>\n",
       "      <td>2.000000</td>\n",
       "      <td>3.000000</td>\n",
       "      <td>4.0000</td>\n",
       "    </tr>\n",
       "    <tr>\n",
       "      <th>yr</th>\n",
       "      <td>11763.0</td>\n",
       "      <td>0.278670</td>\n",
       "      <td>0.448364</td>\n",
       "      <td>0.0</td>\n",
       "      <td>0.000000</td>\n",
       "      <td>0.000000</td>\n",
       "      <td>1.000000</td>\n",
       "      <td>1.0000</td>\n",
       "    </tr>\n",
       "    <tr>\n",
       "      <th>hr</th>\n",
       "      <td>11763.0</td>\n",
       "      <td>11.634107</td>\n",
       "      <td>6.903735</td>\n",
       "      <td>0.0</td>\n",
       "      <td>6.000000</td>\n",
       "      <td>12.000000</td>\n",
       "      <td>18.000000</td>\n",
       "      <td>23.0000</td>\n",
       "    </tr>\n",
       "    <tr>\n",
       "      <th>holiday</th>\n",
       "      <td>11763.0</td>\n",
       "      <td>0.027969</td>\n",
       "      <td>0.164891</td>\n",
       "      <td>0.0</td>\n",
       "      <td>0.000000</td>\n",
       "      <td>0.000000</td>\n",
       "      <td>0.000000</td>\n",
       "      <td>1.0000</td>\n",
       "    </tr>\n",
       "    <tr>\n",
       "      <th>weekday</th>\n",
       "      <td>11763.0</td>\n",
       "      <td>3.009181</td>\n",
       "      <td>2.005455</td>\n",
       "      <td>0.0</td>\n",
       "      <td>1.000000</td>\n",
       "      <td>3.000000</td>\n",
       "      <td>5.000000</td>\n",
       "      <td>6.0000</td>\n",
       "    </tr>\n",
       "    <tr>\n",
       "      <th>weathersit</th>\n",
       "      <td>11763.0</td>\n",
       "      <td>1.431778</td>\n",
       "      <td>0.646495</td>\n",
       "      <td>1.0</td>\n",
       "      <td>1.000000</td>\n",
       "      <td>1.000000</td>\n",
       "      <td>2.000000</td>\n",
       "      <td>3.0000</td>\n",
       "    </tr>\n",
       "    <tr>\n",
       "      <th>atemp</th>\n",
       "      <td>11763.0</td>\n",
       "      <td>0.451582</td>\n",
       "      <td>0.168838</td>\n",
       "      <td>0.0</td>\n",
       "      <td>0.318200</td>\n",
       "      <td>0.454500</td>\n",
       "      <td>0.590900</td>\n",
       "      <td>1.0000</td>\n",
       "    </tr>\n",
       "    <tr>\n",
       "      <th>hum</th>\n",
       "      <td>11763.0</td>\n",
       "      <td>0.626227</td>\n",
       "      <td>0.200008</td>\n",
       "      <td>0.0</td>\n",
       "      <td>0.470000</td>\n",
       "      <td>0.620000</td>\n",
       "      <td>0.790000</td>\n",
       "      <td>1.0000</td>\n",
       "    </tr>\n",
       "    <tr>\n",
       "      <th>windspeed</th>\n",
       "      <td>11763.0</td>\n",
       "      <td>0.193259</td>\n",
       "      <td>0.120032</td>\n",
       "      <td>0.0</td>\n",
       "      <td>0.104500</td>\n",
       "      <td>0.194000</td>\n",
       "      <td>0.283600</td>\n",
       "      <td>0.5522</td>\n",
       "    </tr>\n",
       "    <tr>\n",
       "      <th>cnt</th>\n",
       "      <td>11763.0</td>\n",
       "      <td>0.166147</td>\n",
       "      <td>0.158703</td>\n",
       "      <td>0.0</td>\n",
       "      <td>0.035602</td>\n",
       "      <td>0.124607</td>\n",
       "      <td>0.242932</td>\n",
       "      <td>1.0000</td>\n",
       "    </tr>\n",
       "  </tbody>\n",
       "</table>\n",
       "</div>"
      ],
      "text/plain": [
       "              count       mean       std  min       25%        50%        75%  \\\n",
       "season      11763.0   2.225028  1.088084  1.0  1.000000   2.000000   3.000000   \n",
       "yr          11763.0   0.278670  0.448364  0.0  0.000000   0.000000   1.000000   \n",
       "hr          11763.0  11.634107  6.903735  0.0  6.000000  12.000000  18.000000   \n",
       "holiday     11763.0   0.027969  0.164891  0.0  0.000000   0.000000   0.000000   \n",
       "weekday     11763.0   3.009181  2.005455  0.0  1.000000   3.000000   5.000000   \n",
       "weathersit  11763.0   1.431778  0.646495  1.0  1.000000   1.000000   2.000000   \n",
       "atemp       11763.0   0.451582  0.168838  0.0  0.318200   0.454500   0.590900   \n",
       "hum         11763.0   0.626227  0.200008  0.0  0.470000   0.620000   0.790000   \n",
       "windspeed   11763.0   0.193259  0.120032  0.0  0.104500   0.194000   0.283600   \n",
       "cnt         11763.0   0.166147  0.158703  0.0  0.035602   0.124607   0.242932   \n",
       "\n",
       "                max  \n",
       "season       4.0000  \n",
       "yr           1.0000  \n",
       "hr          23.0000  \n",
       "holiday      1.0000  \n",
       "weekday      6.0000  \n",
       "weathersit   3.0000  \n",
       "atemp        1.0000  \n",
       "hum          1.0000  \n",
       "windspeed    0.5522  \n",
       "cnt          1.0000  "
      ]
     },
     "execution_count": 51,
     "metadata": {},
     "output_type": "execute_result"
    }
   ],
   "source": [
    "train_prep_fs_1_3.describe().T"
   ]
  },
  {
   "cell_type": "markdown",
   "metadata": {},
   "source": [
    "*Otra manera* <br>\n",
    "<br>\n",
    "*División del conjuntos de datos en train y validation*"
   ]
  },
  {
   "cell_type": "code",
   "execution_count": 52,
   "metadata": {},
   "outputs": [
    {
     "data": {
      "text/html": [
       "<div>\n",
       "<style scoped>\n",
       "    .dataframe tbody tr th:only-of-type {\n",
       "        vertical-align: middle;\n",
       "    }\n",
       "\n",
       "    .dataframe tbody tr th {\n",
       "        vertical-align: top;\n",
       "    }\n",
       "\n",
       "    .dataframe thead th {\n",
       "        text-align: right;\n",
       "    }\n",
       "</style>\n",
       "<table border=\"1\" class=\"dataframe\">\n",
       "  <thead>\n",
       "    <tr style=\"text-align: right;\">\n",
       "      <th></th>\n",
       "      <th>season</th>\n",
       "      <th>yr</th>\n",
       "      <th>hr</th>\n",
       "      <th>holiday</th>\n",
       "      <th>weekday</th>\n",
       "      <th>weathersit</th>\n",
       "      <th>atemp</th>\n",
       "      <th>hum</th>\n",
       "      <th>windspeed</th>\n",
       "      <th>cnt</th>\n",
       "    </tr>\n",
       "  </thead>\n",
       "  <tbody>\n",
       "    <tr>\n",
       "      <th>0</th>\n",
       "      <td>1</td>\n",
       "      <td>0</td>\n",
       "      <td>0</td>\n",
       "      <td>0</td>\n",
       "      <td>6</td>\n",
       "      <td>1</td>\n",
       "      <td>0.2879</td>\n",
       "      <td>0.81</td>\n",
       "      <td>0.0</td>\n",
       "      <td>16</td>\n",
       "    </tr>\n",
       "    <tr>\n",
       "      <th>1</th>\n",
       "      <td>1</td>\n",
       "      <td>0</td>\n",
       "      <td>1</td>\n",
       "      <td>0</td>\n",
       "      <td>6</td>\n",
       "      <td>1</td>\n",
       "      <td>0.2727</td>\n",
       "      <td>0.80</td>\n",
       "      <td>0.0</td>\n",
       "      <td>40</td>\n",
       "    </tr>\n",
       "    <tr>\n",
       "      <th>2</th>\n",
       "      <td>1</td>\n",
       "      <td>0</td>\n",
       "      <td>2</td>\n",
       "      <td>0</td>\n",
       "      <td>6</td>\n",
       "      <td>1</td>\n",
       "      <td>0.2727</td>\n",
       "      <td>0.80</td>\n",
       "      <td>0.0</td>\n",
       "      <td>32</td>\n",
       "    </tr>\n",
       "    <tr>\n",
       "      <th>3</th>\n",
       "      <td>1</td>\n",
       "      <td>0</td>\n",
       "      <td>3</td>\n",
       "      <td>0</td>\n",
       "      <td>6</td>\n",
       "      <td>1</td>\n",
       "      <td>0.2879</td>\n",
       "      <td>0.75</td>\n",
       "      <td>0.0</td>\n",
       "      <td>13</td>\n",
       "    </tr>\n",
       "    <tr>\n",
       "      <th>6</th>\n",
       "      <td>1</td>\n",
       "      <td>0</td>\n",
       "      <td>6</td>\n",
       "      <td>0</td>\n",
       "      <td>6</td>\n",
       "      <td>1</td>\n",
       "      <td>0.2727</td>\n",
       "      <td>0.80</td>\n",
       "      <td>0.0</td>\n",
       "      <td>2</td>\n",
       "    </tr>\n",
       "  </tbody>\n",
       "</table>\n",
       "</div>"
      ],
      "text/plain": [
       "   season  yr  hr  holiday  weekday  weathersit   atemp   hum  windspeed  cnt\n",
       "0       1   0   0        0        6           1  0.2879  0.81        0.0   16\n",
       "1       1   0   1        0        6           1  0.2727  0.80        0.0   40\n",
       "2       1   0   2        0        6           1  0.2727  0.80        0.0   32\n",
       "3       1   0   3        0        6           1  0.2879  0.75        0.0   13\n",
       "6       1   0   6        0        6           1  0.2727  0.80        0.0    2"
      ]
     },
     "execution_count": 52,
     "metadata": {},
     "output_type": "execute_result"
    }
   ],
   "source": [
    "train_prep_fs_1.head()"
   ]
  },
  {
   "cell_type": "code",
   "execution_count": 53,
   "metadata": {},
   "outputs": [
    {
     "data": {
      "text/plain": [
       "(11763, 10)"
      ]
     },
     "execution_count": 53,
     "metadata": {},
     "output_type": "execute_result"
    }
   ],
   "source": [
    "train_prep_fs_1.shape"
   ]
  },
  {
   "cell_type": "code",
   "execution_count": 54,
   "metadata": {},
   "outputs": [],
   "source": [
    "X_1 = train_prep_fs_1.drop(['cnt'], axis=1)\n",
    "y_1 = train_prep_fs_1['cnt']"
   ]
  },
  {
   "cell_type": "code",
   "execution_count": 55,
   "metadata": {},
   "outputs": [],
   "source": [
    "train_X_1, val_X_1, train_y_1, val_y_1 = train_test_split(X_1, y_1, test_size=0.15, random_state = 2208)"
   ]
  },
  {
   "cell_type": "markdown",
   "metadata": {},
   "source": [
    "### 5.2. Usando el 2do método de selección + Correlación lineal"
   ]
  },
  {
   "cell_type": "markdown",
   "metadata": {},
   "source": [
    "Eliminamos winspeed, season, hum, temp"
   ]
  },
  {
   "cell_type": "code",
   "execution_count": 56,
   "metadata": {},
   "outputs": [],
   "source": [
    "train_prep_fs_2 = train_df_prep_1.drop(['windspeed','temp','season','hum'], axis=1)"
   ]
  },
  {
   "cell_type": "code",
   "execution_count": 57,
   "metadata": {},
   "outputs": [
    {
     "data": {
      "text/plain": [
       "Index(['yr', 'mnth', 'hr', 'holiday', 'weekday', 'workingday', 'weathersit',\n",
       "       'atemp', 'cnt'],\n",
       "      dtype='object')"
      ]
     },
     "execution_count": 57,
     "metadata": {},
     "output_type": "execute_result"
    }
   ],
   "source": [
    "train_prep_fs_2.columns"
   ]
  },
  {
   "cell_type": "code",
   "execution_count": 58,
   "metadata": {},
   "outputs": [
    {
     "data": {
      "text/html": [
       "<div>\n",
       "<style scoped>\n",
       "    .dataframe tbody tr th:only-of-type {\n",
       "        vertical-align: middle;\n",
       "    }\n",
       "\n",
       "    .dataframe tbody tr th {\n",
       "        vertical-align: top;\n",
       "    }\n",
       "\n",
       "    .dataframe thead th {\n",
       "        text-align: right;\n",
       "    }\n",
       "</style>\n",
       "<table border=\"1\" class=\"dataframe\">\n",
       "  <thead>\n",
       "    <tr style=\"text-align: right;\">\n",
       "      <th></th>\n",
       "      <th>season</th>\n",
       "      <th>yr</th>\n",
       "      <th>hr</th>\n",
       "      <th>holiday</th>\n",
       "      <th>weekday</th>\n",
       "      <th>weathersit</th>\n",
       "      <th>atemp</th>\n",
       "      <th>hum</th>\n",
       "      <th>windspeed</th>\n",
       "      <th>cnt</th>\n",
       "    </tr>\n",
       "  </thead>\n",
       "  <tbody>\n",
       "    <tr>\n",
       "      <th>0</th>\n",
       "      <td>1</td>\n",
       "      <td>0</td>\n",
       "      <td>0</td>\n",
       "      <td>0</td>\n",
       "      <td>6</td>\n",
       "      <td>1</td>\n",
       "      <td>0.2879</td>\n",
       "      <td>0.81</td>\n",
       "      <td>0.0</td>\n",
       "      <td>16</td>\n",
       "    </tr>\n",
       "    <tr>\n",
       "      <th>1</th>\n",
       "      <td>1</td>\n",
       "      <td>0</td>\n",
       "      <td>1</td>\n",
       "      <td>0</td>\n",
       "      <td>6</td>\n",
       "      <td>1</td>\n",
       "      <td>0.2727</td>\n",
       "      <td>0.80</td>\n",
       "      <td>0.0</td>\n",
       "      <td>40</td>\n",
       "    </tr>\n",
       "    <tr>\n",
       "      <th>2</th>\n",
       "      <td>1</td>\n",
       "      <td>0</td>\n",
       "      <td>2</td>\n",
       "      <td>0</td>\n",
       "      <td>6</td>\n",
       "      <td>1</td>\n",
       "      <td>0.2727</td>\n",
       "      <td>0.80</td>\n",
       "      <td>0.0</td>\n",
       "      <td>32</td>\n",
       "    </tr>\n",
       "    <tr>\n",
       "      <th>3</th>\n",
       "      <td>1</td>\n",
       "      <td>0</td>\n",
       "      <td>3</td>\n",
       "      <td>0</td>\n",
       "      <td>6</td>\n",
       "      <td>1</td>\n",
       "      <td>0.2879</td>\n",
       "      <td>0.75</td>\n",
       "      <td>0.0</td>\n",
       "      <td>13</td>\n",
       "    </tr>\n",
       "    <tr>\n",
       "      <th>6</th>\n",
       "      <td>1</td>\n",
       "      <td>0</td>\n",
       "      <td>6</td>\n",
       "      <td>0</td>\n",
       "      <td>6</td>\n",
       "      <td>1</td>\n",
       "      <td>0.2727</td>\n",
       "      <td>0.80</td>\n",
       "      <td>0.0</td>\n",
       "      <td>2</td>\n",
       "    </tr>\n",
       "  </tbody>\n",
       "</table>\n",
       "</div>"
      ],
      "text/plain": [
       "   season  yr  hr  holiday  weekday  weathersit   atemp   hum  windspeed  cnt\n",
       "0       1   0   0        0        6           1  0.2879  0.81        0.0   16\n",
       "1       1   0   1        0        6           1  0.2727  0.80        0.0   40\n",
       "2       1   0   2        0        6           1  0.2727  0.80        0.0   32\n",
       "3       1   0   3        0        6           1  0.2879  0.75        0.0   13\n",
       "6       1   0   6        0        6           1  0.2727  0.80        0.0    2"
      ]
     },
     "execution_count": 58,
     "metadata": {},
     "output_type": "execute_result"
    }
   ],
   "source": [
    "train_prep_fs_1_2 = train_prep_fs_1.copy()\n",
    "# train_prep_fs_1_2 = pd.get_dummies(train_prep_fs_1, columns=['season', 'hr', 'weathersit', 'weekday'])\n",
    "train_prep_fs_1_2.head()"
   ]
  },
  {
   "cell_type": "code",
   "execution_count": 59,
   "metadata": {},
   "outputs": [],
   "source": [
    "train_df_prep_1['cnt'] = np.log1p(train_df_prep_1['cnt'])"
   ]
  },
  {
   "cell_type": "code",
   "execution_count": 60,
   "metadata": {},
   "outputs": [],
   "source": [
    "st_output = MinMaxScaler()\n",
    "train_prep_fs_1_3.loc[:,['cnt']] = st_output.fit_transform(train_prep_fs_1_3.loc[:,['cnt']])"
   ]
  },
  {
   "cell_type": "code",
   "execution_count": 61,
   "metadata": {},
   "outputs": [
    {
     "data": {
      "text/html": [
       "<div>\n",
       "<style scoped>\n",
       "    .dataframe tbody tr th:only-of-type {\n",
       "        vertical-align: middle;\n",
       "    }\n",
       "\n",
       "    .dataframe tbody tr th {\n",
       "        vertical-align: top;\n",
       "    }\n",
       "\n",
       "    .dataframe thead th {\n",
       "        text-align: right;\n",
       "    }\n",
       "</style>\n",
       "<table border=\"1\" class=\"dataframe\">\n",
       "  <thead>\n",
       "    <tr style=\"text-align: right;\">\n",
       "      <th></th>\n",
       "      <th>count</th>\n",
       "      <th>mean</th>\n",
       "      <th>std</th>\n",
       "      <th>min</th>\n",
       "      <th>25%</th>\n",
       "      <th>50%</th>\n",
       "      <th>75%</th>\n",
       "      <th>max</th>\n",
       "    </tr>\n",
       "  </thead>\n",
       "  <tbody>\n",
       "    <tr>\n",
       "      <th>season</th>\n",
       "      <td>11763.0</td>\n",
       "      <td>2.225028</td>\n",
       "      <td>1.088084</td>\n",
       "      <td>1.0</td>\n",
       "      <td>1.000000</td>\n",
       "      <td>2.000000</td>\n",
       "      <td>3.000000</td>\n",
       "      <td>4.0000</td>\n",
       "    </tr>\n",
       "    <tr>\n",
       "      <th>yr</th>\n",
       "      <td>11763.0</td>\n",
       "      <td>0.278670</td>\n",
       "      <td>0.448364</td>\n",
       "      <td>0.0</td>\n",
       "      <td>0.000000</td>\n",
       "      <td>0.000000</td>\n",
       "      <td>1.000000</td>\n",
       "      <td>1.0000</td>\n",
       "    </tr>\n",
       "    <tr>\n",
       "      <th>hr</th>\n",
       "      <td>11763.0</td>\n",
       "      <td>11.634107</td>\n",
       "      <td>6.903735</td>\n",
       "      <td>0.0</td>\n",
       "      <td>6.000000</td>\n",
       "      <td>12.000000</td>\n",
       "      <td>18.000000</td>\n",
       "      <td>23.0000</td>\n",
       "    </tr>\n",
       "    <tr>\n",
       "      <th>holiday</th>\n",
       "      <td>11763.0</td>\n",
       "      <td>0.027969</td>\n",
       "      <td>0.164891</td>\n",
       "      <td>0.0</td>\n",
       "      <td>0.000000</td>\n",
       "      <td>0.000000</td>\n",
       "      <td>0.000000</td>\n",
       "      <td>1.0000</td>\n",
       "    </tr>\n",
       "    <tr>\n",
       "      <th>weekday</th>\n",
       "      <td>11763.0</td>\n",
       "      <td>3.009181</td>\n",
       "      <td>2.005455</td>\n",
       "      <td>0.0</td>\n",
       "      <td>1.000000</td>\n",
       "      <td>3.000000</td>\n",
       "      <td>5.000000</td>\n",
       "      <td>6.0000</td>\n",
       "    </tr>\n",
       "    <tr>\n",
       "      <th>weathersit</th>\n",
       "      <td>11763.0</td>\n",
       "      <td>1.431778</td>\n",
       "      <td>0.646495</td>\n",
       "      <td>1.0</td>\n",
       "      <td>1.000000</td>\n",
       "      <td>1.000000</td>\n",
       "      <td>2.000000</td>\n",
       "      <td>3.0000</td>\n",
       "    </tr>\n",
       "    <tr>\n",
       "      <th>atemp</th>\n",
       "      <td>11763.0</td>\n",
       "      <td>0.451582</td>\n",
       "      <td>0.168838</td>\n",
       "      <td>0.0</td>\n",
       "      <td>0.318200</td>\n",
       "      <td>0.454500</td>\n",
       "      <td>0.590900</td>\n",
       "      <td>1.0000</td>\n",
       "    </tr>\n",
       "    <tr>\n",
       "      <th>hum</th>\n",
       "      <td>11763.0</td>\n",
       "      <td>0.626227</td>\n",
       "      <td>0.200008</td>\n",
       "      <td>0.0</td>\n",
       "      <td>0.470000</td>\n",
       "      <td>0.620000</td>\n",
       "      <td>0.790000</td>\n",
       "      <td>1.0000</td>\n",
       "    </tr>\n",
       "    <tr>\n",
       "      <th>windspeed</th>\n",
       "      <td>11763.0</td>\n",
       "      <td>0.193259</td>\n",
       "      <td>0.120032</td>\n",
       "      <td>0.0</td>\n",
       "      <td>0.104500</td>\n",
       "      <td>0.194000</td>\n",
       "      <td>0.283600</td>\n",
       "      <td>0.5522</td>\n",
       "    </tr>\n",
       "    <tr>\n",
       "      <th>cnt</th>\n",
       "      <td>11763.0</td>\n",
       "      <td>0.166147</td>\n",
       "      <td>0.158703</td>\n",
       "      <td>0.0</td>\n",
       "      <td>0.035602</td>\n",
       "      <td>0.124607</td>\n",
       "      <td>0.242932</td>\n",
       "      <td>1.0000</td>\n",
       "    </tr>\n",
       "  </tbody>\n",
       "</table>\n",
       "</div>"
      ],
      "text/plain": [
       "              count       mean       std  min       25%        50%        75%  \\\n",
       "season      11763.0   2.225028  1.088084  1.0  1.000000   2.000000   3.000000   \n",
       "yr          11763.0   0.278670  0.448364  0.0  0.000000   0.000000   1.000000   \n",
       "hr          11763.0  11.634107  6.903735  0.0  6.000000  12.000000  18.000000   \n",
       "holiday     11763.0   0.027969  0.164891  0.0  0.000000   0.000000   0.000000   \n",
       "weekday     11763.0   3.009181  2.005455  0.0  1.000000   3.000000   5.000000   \n",
       "weathersit  11763.0   1.431778  0.646495  1.0  1.000000   1.000000   2.000000   \n",
       "atemp       11763.0   0.451582  0.168838  0.0  0.318200   0.454500   0.590900   \n",
       "hum         11763.0   0.626227  0.200008  0.0  0.470000   0.620000   0.790000   \n",
       "windspeed   11763.0   0.193259  0.120032  0.0  0.104500   0.194000   0.283600   \n",
       "cnt         11763.0   0.166147  0.158703  0.0  0.035602   0.124607   0.242932   \n",
       "\n",
       "                max  \n",
       "season       4.0000  \n",
       "yr           1.0000  \n",
       "hr          23.0000  \n",
       "holiday      1.0000  \n",
       "weekday      6.0000  \n",
       "weathersit   3.0000  \n",
       "atemp        1.0000  \n",
       "hum          1.0000  \n",
       "windspeed    0.5522  \n",
       "cnt          1.0000  "
      ]
     },
     "execution_count": 61,
     "metadata": {},
     "output_type": "execute_result"
    }
   ],
   "source": [
    "train_prep_fs_1_3.describe().T"
   ]
  },
  {
   "cell_type": "markdown",
   "metadata": {},
   "source": [
    "*División del conjunto de datos en train y validation*"
   ]
  },
  {
   "cell_type": "code",
   "execution_count": 62,
   "metadata": {},
   "outputs": [
    {
     "data": {
      "text/html": [
       "<div>\n",
       "<style scoped>\n",
       "    .dataframe tbody tr th:only-of-type {\n",
       "        vertical-align: middle;\n",
       "    }\n",
       "\n",
       "    .dataframe tbody tr th {\n",
       "        vertical-align: top;\n",
       "    }\n",
       "\n",
       "    .dataframe thead th {\n",
       "        text-align: right;\n",
       "    }\n",
       "</style>\n",
       "<table border=\"1\" class=\"dataframe\">\n",
       "  <thead>\n",
       "    <tr style=\"text-align: right;\">\n",
       "      <th></th>\n",
       "      <th>yr</th>\n",
       "      <th>mnth</th>\n",
       "      <th>hr</th>\n",
       "      <th>holiday</th>\n",
       "      <th>weekday</th>\n",
       "      <th>workingday</th>\n",
       "      <th>weathersit</th>\n",
       "      <th>atemp</th>\n",
       "      <th>cnt</th>\n",
       "    </tr>\n",
       "  </thead>\n",
       "  <tbody>\n",
       "    <tr>\n",
       "      <th>0</th>\n",
       "      <td>0</td>\n",
       "      <td>1</td>\n",
       "      <td>0</td>\n",
       "      <td>0</td>\n",
       "      <td>6</td>\n",
       "      <td>0</td>\n",
       "      <td>1</td>\n",
       "      <td>0.2879</td>\n",
       "      <td>2.772589</td>\n",
       "    </tr>\n",
       "    <tr>\n",
       "      <th>1</th>\n",
       "      <td>0</td>\n",
       "      <td>1</td>\n",
       "      <td>1</td>\n",
       "      <td>0</td>\n",
       "      <td>6</td>\n",
       "      <td>0</td>\n",
       "      <td>1</td>\n",
       "      <td>0.2727</td>\n",
       "      <td>3.688879</td>\n",
       "    </tr>\n",
       "    <tr>\n",
       "      <th>2</th>\n",
       "      <td>0</td>\n",
       "      <td>1</td>\n",
       "      <td>2</td>\n",
       "      <td>0</td>\n",
       "      <td>6</td>\n",
       "      <td>0</td>\n",
       "      <td>1</td>\n",
       "      <td>0.2727</td>\n",
       "      <td>3.465736</td>\n",
       "    </tr>\n",
       "    <tr>\n",
       "      <th>3</th>\n",
       "      <td>0</td>\n",
       "      <td>1</td>\n",
       "      <td>3</td>\n",
       "      <td>0</td>\n",
       "      <td>6</td>\n",
       "      <td>0</td>\n",
       "      <td>1</td>\n",
       "      <td>0.2879</td>\n",
       "      <td>2.564949</td>\n",
       "    </tr>\n",
       "    <tr>\n",
       "      <th>6</th>\n",
       "      <td>0</td>\n",
       "      <td>1</td>\n",
       "      <td>6</td>\n",
       "      <td>0</td>\n",
       "      <td>6</td>\n",
       "      <td>0</td>\n",
       "      <td>1</td>\n",
       "      <td>0.2727</td>\n",
       "      <td>0.693147</td>\n",
       "    </tr>\n",
       "  </tbody>\n",
       "</table>\n",
       "</div>"
      ],
      "text/plain": [
       "   yr  mnth  hr  holiday  weekday  workingday  weathersit   atemp       cnt\n",
       "0   0     1   0        0        6           0           1  0.2879  2.772589\n",
       "1   0     1   1        0        6           0           1  0.2727  3.688879\n",
       "2   0     1   2        0        6           0           1  0.2727  3.465736\n",
       "3   0     1   3        0        6           0           1  0.2879  2.564949\n",
       "6   0     1   6        0        6           0           1  0.2727  0.693147"
      ]
     },
     "execution_count": 62,
     "metadata": {},
     "output_type": "execute_result"
    }
   ],
   "source": [
    "train_prep_fs_2.head()"
   ]
  },
  {
   "cell_type": "code",
   "execution_count": 63,
   "metadata": {},
   "outputs": [
    {
     "data": {
      "text/plain": [
       "(11763, 9)"
      ]
     },
     "execution_count": 63,
     "metadata": {},
     "output_type": "execute_result"
    }
   ],
   "source": [
    "train_prep_fs_2.shape"
   ]
  },
  {
   "cell_type": "code",
   "execution_count": 64,
   "metadata": {},
   "outputs": [],
   "source": [
    "X_2 = train_prep_fs_2.drop(['cnt'], axis = 1)\n",
    "y_2 = train_prep_fs_2['cnt']"
   ]
  },
  {
   "cell_type": "code",
   "execution_count": 65,
   "metadata": {},
   "outputs": [],
   "source": [
    "train_X_2, val_X_2, train_y_2, val_y_2 = train_test_split(X_2, y_2, test_size=0.15, random_state = 2208)"
   ]
  },
  {
   "cell_type": "markdown",
   "metadata": {},
   "source": [
    "# 6. Modelos de entrenamiento"
   ]
  },
  {
   "cell_type": "markdown",
   "metadata": {},
   "source": [
    "## Random Forest"
   ]
  },
  {
   "cell_type": "markdown",
   "metadata": {},
   "source": [
    "##### 1ero"
   ]
  },
  {
   "cell_type": "code",
   "execution_count": 66,
   "metadata": {},
   "outputs": [],
   "source": [
    "my_param_grid = {'n_estimators':[100, 250, 500], 'max_features':['sqrt', 'log2'], 'max_depth':[10, 20]}"
   ]
  },
  {
   "cell_type": "code",
   "execution_count": 67,
   "metadata": {},
   "outputs": [
    {
     "name": "stdout",
     "output_type": "stream",
     "text": [
      "Fitting 5 folds for each of 12 candidates, totalling 60 fits\n",
      "[CV] END ..max_depth=10, max_features=sqrt, n_estimators=100; total time=   0.3s\n",
      "[CV] END ..max_depth=10, max_features=sqrt, n_estimators=100; total time=   0.3s\n",
      "[CV] END ..max_depth=10, max_features=sqrt, n_estimators=100; total time=   0.3s\n",
      "[CV] END ..max_depth=10, max_features=sqrt, n_estimators=100; total time=   0.3s\n",
      "[CV] END ..max_depth=10, max_features=sqrt, n_estimators=100; total time=   0.3s\n",
      "[CV] END ..max_depth=10, max_features=sqrt, n_estimators=250; total time=   1.0s\n",
      "[CV] END ..max_depth=10, max_features=sqrt, n_estimators=250; total time=   1.0s\n",
      "[CV] END ..max_depth=10, max_features=sqrt, n_estimators=250; total time=   1.0s\n",
      "[CV] END ..max_depth=10, max_features=sqrt, n_estimators=250; total time=   1.0s\n",
      "[CV] END ..max_depth=10, max_features=sqrt, n_estimators=250; total time=   1.0s\n",
      "[CV] END ..max_depth=10, max_features=sqrt, n_estimators=500; total time=   2.0s\n",
      "[CV] END ..max_depth=10, max_features=sqrt, n_estimators=500; total time=   2.0s\n",
      "[CV] END ..max_depth=10, max_features=sqrt, n_estimators=500; total time=   2.1s\n",
      "[CV] END ..max_depth=10, max_features=sqrt, n_estimators=500; total time=   2.1s\n",
      "[CV] END ..max_depth=10, max_features=sqrt, n_estimators=500; total time=   2.1s\n",
      "[CV] END ..max_depth=10, max_features=log2, n_estimators=100; total time=   0.3s\n",
      "[CV] END ..max_depth=10, max_features=log2, n_estimators=100; total time=   0.3s\n",
      "[CV] END ..max_depth=10, max_features=log2, n_estimators=100; total time=   0.3s\n",
      "[CV] END ..max_depth=10, max_features=log2, n_estimators=100; total time=   0.3s\n",
      "[CV] END ..max_depth=10, max_features=log2, n_estimators=100; total time=   0.3s\n",
      "[CV] END ..max_depth=10, max_features=log2, n_estimators=250; total time=   1.0s\n",
      "[CV] END ..max_depth=10, max_features=log2, n_estimators=250; total time=   1.0s\n",
      "[CV] END ..max_depth=10, max_features=log2, n_estimators=250; total time=   1.0s\n",
      "[CV] END ..max_depth=10, max_features=log2, n_estimators=250; total time=   1.1s\n",
      "[CV] END ..max_depth=10, max_features=log2, n_estimators=250; total time=   1.0s\n",
      "[CV] END ..max_depth=10, max_features=log2, n_estimators=500; total time=   2.0s\n",
      "[CV] END ..max_depth=10, max_features=log2, n_estimators=500; total time=   2.0s\n",
      "[CV] END ..max_depth=10, max_features=log2, n_estimators=500; total time=   2.1s\n",
      "[CV] END ..max_depth=10, max_features=log2, n_estimators=500; total time=   2.2s\n",
      "[CV] END ..max_depth=10, max_features=log2, n_estimators=500; total time=   2.1s\n",
      "[CV] END ..max_depth=20, max_features=sqrt, n_estimators=100; total time=   0.7s\n",
      "[CV] END ..max_depth=20, max_features=sqrt, n_estimators=100; total time=   0.7s\n",
      "[CV] END ..max_depth=20, max_features=sqrt, n_estimators=100; total time=   0.7s\n",
      "[CV] END ..max_depth=20, max_features=sqrt, n_estimators=100; total time=   0.7s\n",
      "[CV] END ..max_depth=20, max_features=sqrt, n_estimators=100; total time=   0.7s\n",
      "[CV] END ..max_depth=20, max_features=sqrt, n_estimators=250; total time=   1.9s\n",
      "[CV] END ..max_depth=20, max_features=sqrt, n_estimators=250; total time=   1.9s\n",
      "[CV] END ..max_depth=20, max_features=sqrt, n_estimators=250; total time=   2.0s\n",
      "[CV] END ..max_depth=20, max_features=sqrt, n_estimators=250; total time=   1.9s\n",
      "[CV] END ..max_depth=20, max_features=sqrt, n_estimators=250; total time=   1.9s\n",
      "[CV] END ..max_depth=20, max_features=sqrt, n_estimators=500; total time=   5.6s\n",
      "[CV] END ..max_depth=20, max_features=sqrt, n_estimators=500; total time=   4.0s\n",
      "[CV] END ..max_depth=20, max_features=sqrt, n_estimators=500; total time=   3.9s\n",
      "[CV] END ..max_depth=20, max_features=sqrt, n_estimators=500; total time=   4.0s\n",
      "[CV] END ..max_depth=20, max_features=sqrt, n_estimators=500; total time=   3.9s\n",
      "[CV] END ..max_depth=20, max_features=log2, n_estimators=100; total time=   0.7s\n",
      "[CV] END ..max_depth=20, max_features=log2, n_estimators=100; total time=   0.7s\n",
      "[CV] END ..max_depth=20, max_features=log2, n_estimators=100; total time=   0.7s\n",
      "[CV] END ..max_depth=20, max_features=log2, n_estimators=100; total time=   0.7s\n",
      "[CV] END ..max_depth=20, max_features=log2, n_estimators=100; total time=   0.7s\n",
      "[CV] END ..max_depth=20, max_features=log2, n_estimators=250; total time=   1.9s\n",
      "[CV] END ..max_depth=20, max_features=log2, n_estimators=250; total time=   1.9s\n",
      "[CV] END ..max_depth=20, max_features=log2, n_estimators=250; total time=   1.9s\n",
      "[CV] END ..max_depth=20, max_features=log2, n_estimators=250; total time=   1.9s\n",
      "[CV] END ..max_depth=20, max_features=log2, n_estimators=250; total time=   1.9s\n",
      "[CV] END ..max_depth=20, max_features=log2, n_estimators=500; total time=   3.9s\n",
      "[CV] END ..max_depth=20, max_features=log2, n_estimators=500; total time=   3.8s\n",
      "[CV] END ..max_depth=20, max_features=log2, n_estimators=500; total time=   3.8s\n",
      "[CV] END ..max_depth=20, max_features=log2, n_estimators=500; total time=   3.9s\n",
      "[CV] END ..max_depth=20, max_features=log2, n_estimators=500; total time=   3.8s\n"
     ]
    },
    {
     "data": {
      "text/html": [
       "<style>#sk-container-id-2 {color: black;background-color: white;}#sk-container-id-2 pre{padding: 0;}#sk-container-id-2 div.sk-toggleable {background-color: white;}#sk-container-id-2 label.sk-toggleable__label {cursor: pointer;display: block;width: 100%;margin-bottom: 0;padding: 0.3em;box-sizing: border-box;text-align: center;}#sk-container-id-2 label.sk-toggleable__label-arrow:before {content: \"▸\";float: left;margin-right: 0.25em;color: #696969;}#sk-container-id-2 label.sk-toggleable__label-arrow:hover:before {color: black;}#sk-container-id-2 div.sk-estimator:hover label.sk-toggleable__label-arrow:before {color: black;}#sk-container-id-2 div.sk-toggleable__content {max-height: 0;max-width: 0;overflow: hidden;text-align: left;background-color: #f0f8ff;}#sk-container-id-2 div.sk-toggleable__content pre {margin: 0.2em;color: black;border-radius: 0.25em;background-color: #f0f8ff;}#sk-container-id-2 input.sk-toggleable__control:checked~div.sk-toggleable__content {max-height: 200px;max-width: 100%;overflow: auto;}#sk-container-id-2 input.sk-toggleable__control:checked~label.sk-toggleable__label-arrow:before {content: \"▾\";}#sk-container-id-2 div.sk-estimator input.sk-toggleable__control:checked~label.sk-toggleable__label {background-color: #d4ebff;}#sk-container-id-2 div.sk-label input.sk-toggleable__control:checked~label.sk-toggleable__label {background-color: #d4ebff;}#sk-container-id-2 input.sk-hidden--visually {border: 0;clip: rect(1px 1px 1px 1px);clip: rect(1px, 1px, 1px, 1px);height: 1px;margin: -1px;overflow: hidden;padding: 0;position: absolute;width: 1px;}#sk-container-id-2 div.sk-estimator {font-family: monospace;background-color: #f0f8ff;border: 1px dotted black;border-radius: 0.25em;box-sizing: border-box;margin-bottom: 0.5em;}#sk-container-id-2 div.sk-estimator:hover {background-color: #d4ebff;}#sk-container-id-2 div.sk-parallel-item::after {content: \"\";width: 100%;border-bottom: 1px solid gray;flex-grow: 1;}#sk-container-id-2 div.sk-label:hover label.sk-toggleable__label {background-color: #d4ebff;}#sk-container-id-2 div.sk-serial::before {content: \"\";position: absolute;border-left: 1px solid gray;box-sizing: border-box;top: 0;bottom: 0;left: 50%;z-index: 0;}#sk-container-id-2 div.sk-serial {display: flex;flex-direction: column;align-items: center;background-color: white;padding-right: 0.2em;padding-left: 0.2em;position: relative;}#sk-container-id-2 div.sk-item {position: relative;z-index: 1;}#sk-container-id-2 div.sk-parallel {display: flex;align-items: stretch;justify-content: center;background-color: white;position: relative;}#sk-container-id-2 div.sk-item::before, #sk-container-id-2 div.sk-parallel-item::before {content: \"\";position: absolute;border-left: 1px solid gray;box-sizing: border-box;top: 0;bottom: 0;left: 50%;z-index: -1;}#sk-container-id-2 div.sk-parallel-item {display: flex;flex-direction: column;z-index: 1;position: relative;background-color: white;}#sk-container-id-2 div.sk-parallel-item:first-child::after {align-self: flex-end;width: 50%;}#sk-container-id-2 div.sk-parallel-item:last-child::after {align-self: flex-start;width: 50%;}#sk-container-id-2 div.sk-parallel-item:only-child::after {width: 0;}#sk-container-id-2 div.sk-dashed-wrapped {border: 1px dashed gray;margin: 0 0.4em 0.5em 0.4em;box-sizing: border-box;padding-bottom: 0.4em;background-color: white;}#sk-container-id-2 div.sk-label label {font-family: monospace;font-weight: bold;display: inline-block;line-height: 1.2em;}#sk-container-id-2 div.sk-label-container {text-align: center;}#sk-container-id-2 div.sk-container {/* jupyter's `normalize.less` sets `[hidden] { display: none; }` but bootstrap.min.css set `[hidden] { display: none !important; }` so we also need the `!important` here to be able to override the default hidden behavior on the sphinx rendered scikit-learn.org. See: https://github.com/scikit-learn/scikit-learn/issues/21755 */display: inline-block !important;position: relative;}#sk-container-id-2 div.sk-text-repr-fallback {display: none;}</style><div id=\"sk-container-id-2\" class=\"sk-top-container\"><div class=\"sk-text-repr-fallback\"><pre>GridSearchCV(cv=5, estimator=RandomForestRegressor(),\n",
       "             param_grid={&#x27;max_depth&#x27;: [10, 20],\n",
       "                         &#x27;max_features&#x27;: [&#x27;sqrt&#x27;, &#x27;log2&#x27;],\n",
       "                         &#x27;n_estimators&#x27;: [100, 250, 500]},\n",
       "             scoring=&#x27;neg_root_mean_squared_error&#x27;, verbose=2)</pre><b>In a Jupyter environment, please rerun this cell to show the HTML representation or trust the notebook. <br />On GitHub, the HTML representation is unable to render, please try loading this page with nbviewer.org.</b></div><div class=\"sk-container\" hidden><div class=\"sk-item sk-dashed-wrapped\"><div class=\"sk-label-container\"><div class=\"sk-label sk-toggleable\"><input class=\"sk-toggleable__control sk-hidden--visually\" id=\"sk-estimator-id-4\" type=\"checkbox\" ><label for=\"sk-estimator-id-4\" class=\"sk-toggleable__label sk-toggleable__label-arrow\">GridSearchCV</label><div class=\"sk-toggleable__content\"><pre>GridSearchCV(cv=5, estimator=RandomForestRegressor(),\n",
       "             param_grid={&#x27;max_depth&#x27;: [10, 20],\n",
       "                         &#x27;max_features&#x27;: [&#x27;sqrt&#x27;, &#x27;log2&#x27;],\n",
       "                         &#x27;n_estimators&#x27;: [100, 250, 500]},\n",
       "             scoring=&#x27;neg_root_mean_squared_error&#x27;, verbose=2)</pre></div></div></div><div class=\"sk-parallel\"><div class=\"sk-parallel-item\"><div class=\"sk-item\"><div class=\"sk-label-container\"><div class=\"sk-label sk-toggleable\"><input class=\"sk-toggleable__control sk-hidden--visually\" id=\"sk-estimator-id-5\" type=\"checkbox\" ><label for=\"sk-estimator-id-5\" class=\"sk-toggleable__label sk-toggleable__label-arrow\">estimator: RandomForestRegressor</label><div class=\"sk-toggleable__content\"><pre>RandomForestRegressor()</pre></div></div></div><div class=\"sk-serial\"><div class=\"sk-item\"><div class=\"sk-estimator sk-toggleable\"><input class=\"sk-toggleable__control sk-hidden--visually\" id=\"sk-estimator-id-6\" type=\"checkbox\" ><label for=\"sk-estimator-id-6\" class=\"sk-toggleable__label sk-toggleable__label-arrow\">RandomForestRegressor</label><div class=\"sk-toggleable__content\"><pre>RandomForestRegressor()</pre></div></div></div></div></div></div></div></div></div></div>"
      ],
      "text/plain": [
       "GridSearchCV(cv=5, estimator=RandomForestRegressor(),\n",
       "             param_grid={'max_depth': [10, 20],\n",
       "                         'max_features': ['sqrt', 'log2'],\n",
       "                         'n_estimators': [100, 250, 500]},\n",
       "             scoring='neg_root_mean_squared_error', verbose=2)"
      ]
     },
     "execution_count": 67,
     "metadata": {},
     "output_type": "execute_result"
    }
   ],
   "source": [
    "rf_1 = GridSearchCV(estimator = RandomForestRegressor(), param_grid = my_param_grid, refit = True, verbose = 2, cv = 5, scoring = 'neg_root_mean_squared_error')\n",
    "rf_1.fit(train_X_1, train_y_1)\n"
   ]
  },
  {
   "cell_type": "code",
   "execution_count": 68,
   "metadata": {},
   "outputs": [
    {
     "data": {
      "text/html": [
       "<style>#sk-container-id-3 {color: black;background-color: white;}#sk-container-id-3 pre{padding: 0;}#sk-container-id-3 div.sk-toggleable {background-color: white;}#sk-container-id-3 label.sk-toggleable__label {cursor: pointer;display: block;width: 100%;margin-bottom: 0;padding: 0.3em;box-sizing: border-box;text-align: center;}#sk-container-id-3 label.sk-toggleable__label-arrow:before {content: \"▸\";float: left;margin-right: 0.25em;color: #696969;}#sk-container-id-3 label.sk-toggleable__label-arrow:hover:before {color: black;}#sk-container-id-3 div.sk-estimator:hover label.sk-toggleable__label-arrow:before {color: black;}#sk-container-id-3 div.sk-toggleable__content {max-height: 0;max-width: 0;overflow: hidden;text-align: left;background-color: #f0f8ff;}#sk-container-id-3 div.sk-toggleable__content pre {margin: 0.2em;color: black;border-radius: 0.25em;background-color: #f0f8ff;}#sk-container-id-3 input.sk-toggleable__control:checked~div.sk-toggleable__content {max-height: 200px;max-width: 100%;overflow: auto;}#sk-container-id-3 input.sk-toggleable__control:checked~label.sk-toggleable__label-arrow:before {content: \"▾\";}#sk-container-id-3 div.sk-estimator input.sk-toggleable__control:checked~label.sk-toggleable__label {background-color: #d4ebff;}#sk-container-id-3 div.sk-label input.sk-toggleable__control:checked~label.sk-toggleable__label {background-color: #d4ebff;}#sk-container-id-3 input.sk-hidden--visually {border: 0;clip: rect(1px 1px 1px 1px);clip: rect(1px, 1px, 1px, 1px);height: 1px;margin: -1px;overflow: hidden;padding: 0;position: absolute;width: 1px;}#sk-container-id-3 div.sk-estimator {font-family: monospace;background-color: #f0f8ff;border: 1px dotted black;border-radius: 0.25em;box-sizing: border-box;margin-bottom: 0.5em;}#sk-container-id-3 div.sk-estimator:hover {background-color: #d4ebff;}#sk-container-id-3 div.sk-parallel-item::after {content: \"\";width: 100%;border-bottom: 1px solid gray;flex-grow: 1;}#sk-container-id-3 div.sk-label:hover label.sk-toggleable__label {background-color: #d4ebff;}#sk-container-id-3 div.sk-serial::before {content: \"\";position: absolute;border-left: 1px solid gray;box-sizing: border-box;top: 0;bottom: 0;left: 50%;z-index: 0;}#sk-container-id-3 div.sk-serial {display: flex;flex-direction: column;align-items: center;background-color: white;padding-right: 0.2em;padding-left: 0.2em;position: relative;}#sk-container-id-3 div.sk-item {position: relative;z-index: 1;}#sk-container-id-3 div.sk-parallel {display: flex;align-items: stretch;justify-content: center;background-color: white;position: relative;}#sk-container-id-3 div.sk-item::before, #sk-container-id-3 div.sk-parallel-item::before {content: \"\";position: absolute;border-left: 1px solid gray;box-sizing: border-box;top: 0;bottom: 0;left: 50%;z-index: -1;}#sk-container-id-3 div.sk-parallel-item {display: flex;flex-direction: column;z-index: 1;position: relative;background-color: white;}#sk-container-id-3 div.sk-parallel-item:first-child::after {align-self: flex-end;width: 50%;}#sk-container-id-3 div.sk-parallel-item:last-child::after {align-self: flex-start;width: 50%;}#sk-container-id-3 div.sk-parallel-item:only-child::after {width: 0;}#sk-container-id-3 div.sk-dashed-wrapped {border: 1px dashed gray;margin: 0 0.4em 0.5em 0.4em;box-sizing: border-box;padding-bottom: 0.4em;background-color: white;}#sk-container-id-3 div.sk-label label {font-family: monospace;font-weight: bold;display: inline-block;line-height: 1.2em;}#sk-container-id-3 div.sk-label-container {text-align: center;}#sk-container-id-3 div.sk-container {/* jupyter's `normalize.less` sets `[hidden] { display: none; }` but bootstrap.min.css set `[hidden] { display: none !important; }` so we also need the `!important` here to be able to override the default hidden behavior on the sphinx rendered scikit-learn.org. See: https://github.com/scikit-learn/scikit-learn/issues/21755 */display: inline-block !important;position: relative;}#sk-container-id-3 div.sk-text-repr-fallback {display: none;}</style><div id=\"sk-container-id-3\" class=\"sk-top-container\"><div class=\"sk-text-repr-fallback\"><pre>RandomForestRegressor(max_depth=20, max_features=&#x27;log2&#x27;, n_estimators=500)</pre><b>In a Jupyter environment, please rerun this cell to show the HTML representation or trust the notebook. <br />On GitHub, the HTML representation is unable to render, please try loading this page with nbviewer.org.</b></div><div class=\"sk-container\" hidden><div class=\"sk-item\"><div class=\"sk-estimator sk-toggleable\"><input class=\"sk-toggleable__control sk-hidden--visually\" id=\"sk-estimator-id-7\" type=\"checkbox\" checked><label for=\"sk-estimator-id-7\" class=\"sk-toggleable__label sk-toggleable__label-arrow\">RandomForestRegressor</label><div class=\"sk-toggleable__content\"><pre>RandomForestRegressor(max_depth=20, max_features=&#x27;log2&#x27;, n_estimators=500)</pre></div></div></div></div></div>"
      ],
      "text/plain": [
       "RandomForestRegressor(max_depth=20, max_features='log2', n_estimators=500)"
      ]
     },
     "execution_count": 68,
     "metadata": {},
     "output_type": "execute_result"
    }
   ],
   "source": [
    "rf_1.best_estimator_"
   ]
  },
  {
   "cell_type": "code",
   "execution_count": 69,
   "metadata": {},
   "outputs": [
    {
     "data": {
      "text/plain": [
       "53.58834686045138"
      ]
     },
     "execution_count": 69,
     "metadata": {},
     "output_type": "execute_result"
    }
   ],
   "source": [
    "# Este es\n",
    "rf_1.best_score_*(-1)"
   ]
  },
  {
   "cell_type": "code",
   "execution_count": 70,
   "metadata": {},
   "outputs": [
    {
     "data": {
      "text/plain": [
       "array([  9.54074988, 119.86916667,  15.58316667, ..., 325.09569718,\n",
       "        19.78920768, 333.08668016])"
      ]
     },
     "execution_count": 70,
     "metadata": {},
     "output_type": "execute_result"
    }
   ],
   "source": [
    "# Este es\n",
    "from tkinter import Grid\n",
    "\n",
    "\n",
    "y_hat_1 = rf_1.predict(val_X_1)\n",
    "y_hat_1"
   ]
  },
  {
   "cell_type": "code",
   "execution_count": 71,
   "metadata": {},
   "outputs": [
    {
     "data": {
      "text/html": [
       "<style>#sk-container-id-4 {color: black;background-color: white;}#sk-container-id-4 pre{padding: 0;}#sk-container-id-4 div.sk-toggleable {background-color: white;}#sk-container-id-4 label.sk-toggleable__label {cursor: pointer;display: block;width: 100%;margin-bottom: 0;padding: 0.3em;box-sizing: border-box;text-align: center;}#sk-container-id-4 label.sk-toggleable__label-arrow:before {content: \"▸\";float: left;margin-right: 0.25em;color: #696969;}#sk-container-id-4 label.sk-toggleable__label-arrow:hover:before {color: black;}#sk-container-id-4 div.sk-estimator:hover label.sk-toggleable__label-arrow:before {color: black;}#sk-container-id-4 div.sk-toggleable__content {max-height: 0;max-width: 0;overflow: hidden;text-align: left;background-color: #f0f8ff;}#sk-container-id-4 div.sk-toggleable__content pre {margin: 0.2em;color: black;border-radius: 0.25em;background-color: #f0f8ff;}#sk-container-id-4 input.sk-toggleable__control:checked~div.sk-toggleable__content {max-height: 200px;max-width: 100%;overflow: auto;}#sk-container-id-4 input.sk-toggleable__control:checked~label.sk-toggleable__label-arrow:before {content: \"▾\";}#sk-container-id-4 div.sk-estimator input.sk-toggleable__control:checked~label.sk-toggleable__label {background-color: #d4ebff;}#sk-container-id-4 div.sk-label input.sk-toggleable__control:checked~label.sk-toggleable__label {background-color: #d4ebff;}#sk-container-id-4 input.sk-hidden--visually {border: 0;clip: rect(1px 1px 1px 1px);clip: rect(1px, 1px, 1px, 1px);height: 1px;margin: -1px;overflow: hidden;padding: 0;position: absolute;width: 1px;}#sk-container-id-4 div.sk-estimator {font-family: monospace;background-color: #f0f8ff;border: 1px dotted black;border-radius: 0.25em;box-sizing: border-box;margin-bottom: 0.5em;}#sk-container-id-4 div.sk-estimator:hover {background-color: #d4ebff;}#sk-container-id-4 div.sk-parallel-item::after {content: \"\";width: 100%;border-bottom: 1px solid gray;flex-grow: 1;}#sk-container-id-4 div.sk-label:hover label.sk-toggleable__label {background-color: #d4ebff;}#sk-container-id-4 div.sk-serial::before {content: \"\";position: absolute;border-left: 1px solid gray;box-sizing: border-box;top: 0;bottom: 0;left: 50%;z-index: 0;}#sk-container-id-4 div.sk-serial {display: flex;flex-direction: column;align-items: center;background-color: white;padding-right: 0.2em;padding-left: 0.2em;position: relative;}#sk-container-id-4 div.sk-item {position: relative;z-index: 1;}#sk-container-id-4 div.sk-parallel {display: flex;align-items: stretch;justify-content: center;background-color: white;position: relative;}#sk-container-id-4 div.sk-item::before, #sk-container-id-4 div.sk-parallel-item::before {content: \"\";position: absolute;border-left: 1px solid gray;box-sizing: border-box;top: 0;bottom: 0;left: 50%;z-index: -1;}#sk-container-id-4 div.sk-parallel-item {display: flex;flex-direction: column;z-index: 1;position: relative;background-color: white;}#sk-container-id-4 div.sk-parallel-item:first-child::after {align-self: flex-end;width: 50%;}#sk-container-id-4 div.sk-parallel-item:last-child::after {align-self: flex-start;width: 50%;}#sk-container-id-4 div.sk-parallel-item:only-child::after {width: 0;}#sk-container-id-4 div.sk-dashed-wrapped {border: 1px dashed gray;margin: 0 0.4em 0.5em 0.4em;box-sizing: border-box;padding-bottom: 0.4em;background-color: white;}#sk-container-id-4 div.sk-label label {font-family: monospace;font-weight: bold;display: inline-block;line-height: 1.2em;}#sk-container-id-4 div.sk-label-container {text-align: center;}#sk-container-id-4 div.sk-container {/* jupyter's `normalize.less` sets `[hidden] { display: none; }` but bootstrap.min.css set `[hidden] { display: none !important; }` so we also need the `!important` here to be able to override the default hidden behavior on the sphinx rendered scikit-learn.org. See: https://github.com/scikit-learn/scikit-learn/issues/21755 */display: inline-block !important;position: relative;}#sk-container-id-4 div.sk-text-repr-fallback {display: none;}</style><div id=\"sk-container-id-4\" class=\"sk-top-container\"><div class=\"sk-text-repr-fallback\"><pre>RandomForestRegressor(max_depth=20, max_features=&#x27;sqrt&#x27;, n_estimators=500)</pre><b>In a Jupyter environment, please rerun this cell to show the HTML representation or trust the notebook. <br />On GitHub, the HTML representation is unable to render, please try loading this page with nbviewer.org.</b></div><div class=\"sk-container\" hidden><div class=\"sk-item\"><div class=\"sk-estimator sk-toggleable\"><input class=\"sk-toggleable__control sk-hidden--visually\" id=\"sk-estimator-id-8\" type=\"checkbox\" checked><label for=\"sk-estimator-id-8\" class=\"sk-toggleable__label sk-toggleable__label-arrow\">RandomForestRegressor</label><div class=\"sk-toggleable__content\"><pre>RandomForestRegressor(max_depth=20, max_features=&#x27;sqrt&#x27;, n_estimators=500)</pre></div></div></div></div></div>"
      ],
      "text/plain": [
       "RandomForestRegressor(max_depth=20, max_features='sqrt', n_estimators=500)"
      ]
     },
     "execution_count": 71,
     "metadata": {},
     "output_type": "execute_result"
    }
   ],
   "source": [
    "rf_1 = RandomForestRegressor(max_depth= 20, max_features = 'sqrt', n_estimators= 500)\n",
    "rf_1.fit(train_X_1, train_y_1)"
   ]
  },
  {
   "cell_type": "code",
   "execution_count": 72,
   "metadata": {},
   "outputs": [
    {
     "data": {
      "text/plain": [
       "array([  9.09953599, 118.02162222,  14.02142857, ..., 323.63611118,\n",
       "        20.02258725, 335.82511457])"
      ]
     },
     "execution_count": 72,
     "metadata": {},
     "output_type": "execute_result"
    }
   ],
   "source": [
    "rf_pred_1 = rf_1.predict(val_X_1)\n",
    "rf_pred_1"
   ]
  },
  {
   "cell_type": "code",
   "execution_count": 73,
   "metadata": {},
   "outputs": [
    {
     "data": {
      "text/html": [
       "<div>\n",
       "<style scoped>\n",
       "    .dataframe tbody tr th:only-of-type {\n",
       "        vertical-align: middle;\n",
       "    }\n",
       "\n",
       "    .dataframe tbody tr th {\n",
       "        vertical-align: top;\n",
       "    }\n",
       "\n",
       "    .dataframe thead th {\n",
       "        text-align: right;\n",
       "    }\n",
       "</style>\n",
       "<table border=\"1\" class=\"dataframe\">\n",
       "  <thead>\n",
       "    <tr style=\"text-align: right;\">\n",
       "      <th></th>\n",
       "      <th>true_val</th>\n",
       "      <th>predict_val</th>\n",
       "    </tr>\n",
       "  </thead>\n",
       "  <tbody>\n",
       "    <tr>\n",
       "      <th>0</th>\n",
       "      <td>3</td>\n",
       "      <td>9.099536</td>\n",
       "    </tr>\n",
       "    <tr>\n",
       "      <th>1</th>\n",
       "      <td>119</td>\n",
       "      <td>118.021622</td>\n",
       "    </tr>\n",
       "    <tr>\n",
       "      <th>2</th>\n",
       "      <td>10</td>\n",
       "      <td>14.021429</td>\n",
       "    </tr>\n",
       "    <tr>\n",
       "      <th>3</th>\n",
       "      <td>104</td>\n",
       "      <td>113.147867</td>\n",
       "    </tr>\n",
       "    <tr>\n",
       "      <th>4</th>\n",
       "      <td>10</td>\n",
       "      <td>16.314050</td>\n",
       "    </tr>\n",
       "    <tr>\n",
       "      <th>...</th>\n",
       "      <td>...</td>\n",
       "      <td>...</td>\n",
       "    </tr>\n",
       "    <tr>\n",
       "      <th>1760</th>\n",
       "      <td>102</td>\n",
       "      <td>161.555753</td>\n",
       "    </tr>\n",
       "    <tr>\n",
       "      <th>1761</th>\n",
       "      <td>91</td>\n",
       "      <td>107.609000</td>\n",
       "    </tr>\n",
       "    <tr>\n",
       "      <th>1762</th>\n",
       "      <td>285</td>\n",
       "      <td>323.636111</td>\n",
       "    </tr>\n",
       "    <tr>\n",
       "      <th>1763</th>\n",
       "      <td>5</td>\n",
       "      <td>20.022587</td>\n",
       "    </tr>\n",
       "    <tr>\n",
       "      <th>1764</th>\n",
       "      <td>287</td>\n",
       "      <td>335.825115</td>\n",
       "    </tr>\n",
       "  </tbody>\n",
       "</table>\n",
       "<p>1765 rows × 2 columns</p>\n",
       "</div>"
      ],
      "text/plain": [
       "      true_val  predict_val\n",
       "0            3     9.099536\n",
       "1          119   118.021622\n",
       "2           10    14.021429\n",
       "3          104   113.147867\n",
       "4           10    16.314050\n",
       "...        ...          ...\n",
       "1760       102   161.555753\n",
       "1761        91   107.609000\n",
       "1762       285   323.636111\n",
       "1763         5    20.022587\n",
       "1764       287   335.825115\n",
       "\n",
       "[1765 rows x 2 columns]"
      ]
     },
     "execution_count": 73,
     "metadata": {},
     "output_type": "execute_result"
    }
   ],
   "source": [
    "predicns = pd.DataFrame(val_y_1.values.reshape(-1,1), columns=['true_val'])\n",
    "predicns['predict_val'] = rf_pred_1.reshape(-1,1)\n",
    "predicns"
   ]
  },
  {
   "cell_type": "code",
   "execution_count": 74,
   "metadata": {},
   "outputs": [
    {
     "data": {
      "text/plain": [
       "49.0308"
      ]
     },
     "execution_count": 74,
     "metadata": {},
     "output_type": "execute_result"
    }
   ],
   "source": [
    "rmse = round(np.sqrt(mean_squared_error(predicns['true_val'], predicns['predict_val'])),4)\n",
    "rmse"
   ]
  },
  {
   "cell_type": "code",
   "execution_count": 75,
   "metadata": {},
   "outputs": [
    {
     "data": {
      "text/html": [
       "<div>\n",
       "<style scoped>\n",
       "    .dataframe tbody tr th:only-of-type {\n",
       "        vertical-align: middle;\n",
       "    }\n",
       "\n",
       "    .dataframe tbody tr th {\n",
       "        vertical-align: top;\n",
       "    }\n",
       "\n",
       "    .dataframe thead th {\n",
       "        text-align: right;\n",
       "    }\n",
       "</style>\n",
       "<table border=\"1\" class=\"dataframe\">\n",
       "  <thead>\n",
       "    <tr style=\"text-align: right;\">\n",
       "      <th></th>\n",
       "      <th>true_val</th>\n",
       "      <th>predict_val</th>\n",
       "    </tr>\n",
       "  </thead>\n",
       "  <tbody>\n",
       "    <tr>\n",
       "      <th>0</th>\n",
       "      <td>3</td>\n",
       "      <td>9.540750</td>\n",
       "    </tr>\n",
       "    <tr>\n",
       "      <th>1</th>\n",
       "      <td>119</td>\n",
       "      <td>119.869167</td>\n",
       "    </tr>\n",
       "    <tr>\n",
       "      <th>2</th>\n",
       "      <td>10</td>\n",
       "      <td>15.583167</td>\n",
       "    </tr>\n",
       "    <tr>\n",
       "      <th>3</th>\n",
       "      <td>104</td>\n",
       "      <td>108.394679</td>\n",
       "    </tr>\n",
       "    <tr>\n",
       "      <th>4</th>\n",
       "      <td>10</td>\n",
       "      <td>17.460001</td>\n",
       "    </tr>\n",
       "    <tr>\n",
       "      <th>...</th>\n",
       "      <td>...</td>\n",
       "      <td>...</td>\n",
       "    </tr>\n",
       "    <tr>\n",
       "      <th>1760</th>\n",
       "      <td>102</td>\n",
       "      <td>158.316029</td>\n",
       "    </tr>\n",
       "    <tr>\n",
       "      <th>1761</th>\n",
       "      <td>91</td>\n",
       "      <td>106.574000</td>\n",
       "    </tr>\n",
       "    <tr>\n",
       "      <th>1762</th>\n",
       "      <td>285</td>\n",
       "      <td>325.095697</td>\n",
       "    </tr>\n",
       "    <tr>\n",
       "      <th>1763</th>\n",
       "      <td>5</td>\n",
       "      <td>19.789208</td>\n",
       "    </tr>\n",
       "    <tr>\n",
       "      <th>1764</th>\n",
       "      <td>287</td>\n",
       "      <td>333.086680</td>\n",
       "    </tr>\n",
       "  </tbody>\n",
       "</table>\n",
       "<p>1765 rows × 2 columns</p>\n",
       "</div>"
      ],
      "text/plain": [
       "      true_val  predict_val\n",
       "0            3     9.540750\n",
       "1          119   119.869167\n",
       "2           10    15.583167\n",
       "3          104   108.394679\n",
       "4           10    17.460001\n",
       "...        ...          ...\n",
       "1760       102   158.316029\n",
       "1761        91   106.574000\n",
       "1762       285   325.095697\n",
       "1763         5    19.789208\n",
       "1764       287   333.086680\n",
       "\n",
       "[1765 rows x 2 columns]"
      ]
     },
     "execution_count": 75,
     "metadata": {},
     "output_type": "execute_result"
    }
   ],
   "source": [
    "# Este es\n",
    "predictions = pd.DataFrame(val_y_1.values.reshape(-1,1), columns=['true_val'])\n",
    "predictions['predict_val'] = y_hat_1.reshape(-1,1)\n",
    "predictions"
   ]
  },
  {
   "cell_type": "code",
   "execution_count": 76,
   "metadata": {},
   "outputs": [
    {
     "data": {
      "text/plain": [
       "49.2176"
      ]
     },
     "execution_count": 76,
     "metadata": {},
     "output_type": "execute_result"
    }
   ],
   "source": [
    "rmse = round(np.sqrt(mean_squared_error(predictions['true_val'], predictions['predict_val'])),4)\n",
    "rmse"
   ]
  },
  {
   "cell_type": "markdown",
   "metadata": {},
   "source": [
    "## XGBoost"
   ]
  },
  {
   "cell_type": "code",
   "execution_count": 77,
   "metadata": {},
   "outputs": [],
   "source": [
    "from sklearn import metrics"
   ]
  },
  {
   "cell_type": "code",
   "execution_count": 78,
   "metadata": {},
   "outputs": [],
   "source": [
    "def rmse(y_true, y_prediction):\n",
    "    return np.sqrt(mean_squared_error(y_true, y_prediction))\n",
    "rmse_scorer = metrics.make_scorer(rmse, greater_is_better = False)"
   ]
  },
  {
   "cell_type": "code",
   "execution_count": 79,
   "metadata": {},
   "outputs": [
    {
     "name": "stdout",
     "output_type": "stream",
     "text": [
      "Fitting 5 folds for each of 12 candidates, totalling 60 fits\n",
      "[CV] END .learning_rate=0.08, max_depth=10, n_estimators=100; total time=   0.7s\n",
      "[CV] END .learning_rate=0.08, max_depth=10, n_estimators=100; total time=   0.4s\n",
      "[CV] END .learning_rate=0.08, max_depth=10, n_estimators=100; total time=   0.5s\n",
      "[CV] END .learning_rate=0.08, max_depth=10, n_estimators=100; total time=   0.4s\n",
      "[CV] END .learning_rate=0.08, max_depth=10, n_estimators=100; total time=   0.4s\n",
      "[CV] END .learning_rate=0.08, max_depth=10, n_estimators=150; total time=   0.6s\n",
      "[CV] END .learning_rate=0.08, max_depth=10, n_estimators=150; total time=   0.7s\n",
      "[CV] END .learning_rate=0.08, max_depth=10, n_estimators=150; total time=   0.6s\n",
      "[CV] END .learning_rate=0.08, max_depth=10, n_estimators=150; total time=   0.6s\n",
      "[CV] END .learning_rate=0.08, max_depth=10, n_estimators=150; total time=   0.6s\n",
      "[CV] END .learning_rate=0.08, max_depth=20, n_estimators=100; total time=   2.3s\n",
      "[CV] END .learning_rate=0.08, max_depth=20, n_estimators=100; total time=   2.1s\n",
      "[CV] END .learning_rate=0.08, max_depth=20, n_estimators=100; total time=   2.1s\n",
      "[CV] END .learning_rate=0.08, max_depth=20, n_estimators=100; total time=   2.3s\n",
      "[CV] END .learning_rate=0.08, max_depth=20, n_estimators=100; total time=   2.1s\n",
      "[CV] END .learning_rate=0.08, max_depth=20, n_estimators=150; total time=   3.7s\n",
      "[CV] END .learning_rate=0.08, max_depth=20, n_estimators=150; total time=   3.8s\n",
      "[CV] END .learning_rate=0.08, max_depth=20, n_estimators=150; total time=   3.7s\n",
      "[CV] END .learning_rate=0.08, max_depth=20, n_estimators=150; total time=   3.8s\n",
      "[CV] END .learning_rate=0.08, max_depth=20, n_estimators=150; total time=   3.6s\n",
      "[CV] END ..learning_rate=0.1, max_depth=10, n_estimators=100; total time=   0.4s\n",
      "[CV] END ..learning_rate=0.1, max_depth=10, n_estimators=100; total time=   0.4s\n",
      "[CV] END ..learning_rate=0.1, max_depth=10, n_estimators=100; total time=   0.4s\n",
      "[CV] END ..learning_rate=0.1, max_depth=10, n_estimators=100; total time=   0.4s\n",
      "[CV] END ..learning_rate=0.1, max_depth=10, n_estimators=100; total time=   0.4s\n",
      "[CV] END ..learning_rate=0.1, max_depth=10, n_estimators=150; total time=   0.6s\n",
      "[CV] END ..learning_rate=0.1, max_depth=10, n_estimators=150; total time=   0.6s\n",
      "[CV] END ..learning_rate=0.1, max_depth=10, n_estimators=150; total time=   0.6s\n",
      "[CV] END ..learning_rate=0.1, max_depth=10, n_estimators=150; total time=   0.5s\n",
      "[CV] END ..learning_rate=0.1, max_depth=10, n_estimators=150; total time=   0.6s\n",
      "[CV] END ..learning_rate=0.1, max_depth=20, n_estimators=100; total time=   2.2s\n",
      "[CV] END ..learning_rate=0.1, max_depth=20, n_estimators=100; total time=   2.4s\n",
      "[CV] END ..learning_rate=0.1, max_depth=20, n_estimators=100; total time=   2.3s\n",
      "[CV] END ..learning_rate=0.1, max_depth=20, n_estimators=100; total time=   2.3s\n",
      "[CV] END ..learning_rate=0.1, max_depth=20, n_estimators=100; total time=   2.3s\n",
      "[CV] END ..learning_rate=0.1, max_depth=20, n_estimators=150; total time=   3.4s\n",
      "[CV] END ..learning_rate=0.1, max_depth=20, n_estimators=150; total time=   3.8s\n",
      "[CV] END ..learning_rate=0.1, max_depth=20, n_estimators=150; total time=   3.6s\n",
      "[CV] END ..learning_rate=0.1, max_depth=20, n_estimators=150; total time=   3.7s\n",
      "[CV] END ..learning_rate=0.1, max_depth=20, n_estimators=150; total time=   4.1s\n",
      "[CV] END .learning_rate=0.15, max_depth=10, n_estimators=100; total time=   0.4s\n",
      "[CV] END .learning_rate=0.15, max_depth=10, n_estimators=100; total time=   0.3s\n",
      "[CV] END .learning_rate=0.15, max_depth=10, n_estimators=100; total time=   0.4s\n",
      "[CV] END .learning_rate=0.15, max_depth=10, n_estimators=100; total time=   0.5s\n",
      "[CV] END .learning_rate=0.15, max_depth=10, n_estimators=100; total time=   0.7s\n",
      "[CV] END .learning_rate=0.15, max_depth=10, n_estimators=150; total time=   0.6s\n",
      "[CV] END .learning_rate=0.15, max_depth=10, n_estimators=150; total time=   0.5s\n",
      "[CV] END .learning_rate=0.15, max_depth=10, n_estimators=150; total time=   0.5s\n",
      "[CV] END .learning_rate=0.15, max_depth=10, n_estimators=150; total time=   0.5s\n",
      "[CV] END .learning_rate=0.15, max_depth=10, n_estimators=150; total time=   0.5s\n",
      "[CV] END .learning_rate=0.15, max_depth=20, n_estimators=100; total time=   2.3s\n",
      "[CV] END .learning_rate=0.15, max_depth=20, n_estimators=100; total time=   2.2s\n",
      "[CV] END .learning_rate=0.15, max_depth=20, n_estimators=100; total time=   2.7s\n",
      "[CV] END .learning_rate=0.15, max_depth=20, n_estimators=100; total time=   2.6s\n",
      "[CV] END .learning_rate=0.15, max_depth=20, n_estimators=100; total time=   2.6s\n",
      "[CV] END .learning_rate=0.15, max_depth=20, n_estimators=150; total time=   3.0s\n",
      "[CV] END .learning_rate=0.15, max_depth=20, n_estimators=150; total time=   2.9s\n",
      "[CV] END .learning_rate=0.15, max_depth=20, n_estimators=150; total time=   3.0s\n",
      "[CV] END .learning_rate=0.15, max_depth=20, n_estimators=150; total time=   3.2s\n",
      "[CV] END .learning_rate=0.15, max_depth=20, n_estimators=150; total time=   3.0s\n"
     ]
    },
    {
     "data": {
      "text/html": [
       "<style>#sk-container-id-5 {color: black;background-color: white;}#sk-container-id-5 pre{padding: 0;}#sk-container-id-5 div.sk-toggleable {background-color: white;}#sk-container-id-5 label.sk-toggleable__label {cursor: pointer;display: block;width: 100%;margin-bottom: 0;padding: 0.3em;box-sizing: border-box;text-align: center;}#sk-container-id-5 label.sk-toggleable__label-arrow:before {content: \"▸\";float: left;margin-right: 0.25em;color: #696969;}#sk-container-id-5 label.sk-toggleable__label-arrow:hover:before {color: black;}#sk-container-id-5 div.sk-estimator:hover label.sk-toggleable__label-arrow:before {color: black;}#sk-container-id-5 div.sk-toggleable__content {max-height: 0;max-width: 0;overflow: hidden;text-align: left;background-color: #f0f8ff;}#sk-container-id-5 div.sk-toggleable__content pre {margin: 0.2em;color: black;border-radius: 0.25em;background-color: #f0f8ff;}#sk-container-id-5 input.sk-toggleable__control:checked~div.sk-toggleable__content {max-height: 200px;max-width: 100%;overflow: auto;}#sk-container-id-5 input.sk-toggleable__control:checked~label.sk-toggleable__label-arrow:before {content: \"▾\";}#sk-container-id-5 div.sk-estimator input.sk-toggleable__control:checked~label.sk-toggleable__label {background-color: #d4ebff;}#sk-container-id-5 div.sk-label input.sk-toggleable__control:checked~label.sk-toggleable__label {background-color: #d4ebff;}#sk-container-id-5 input.sk-hidden--visually {border: 0;clip: rect(1px 1px 1px 1px);clip: rect(1px, 1px, 1px, 1px);height: 1px;margin: -1px;overflow: hidden;padding: 0;position: absolute;width: 1px;}#sk-container-id-5 div.sk-estimator {font-family: monospace;background-color: #f0f8ff;border: 1px dotted black;border-radius: 0.25em;box-sizing: border-box;margin-bottom: 0.5em;}#sk-container-id-5 div.sk-estimator:hover {background-color: #d4ebff;}#sk-container-id-5 div.sk-parallel-item::after {content: \"\";width: 100%;border-bottom: 1px solid gray;flex-grow: 1;}#sk-container-id-5 div.sk-label:hover label.sk-toggleable__label {background-color: #d4ebff;}#sk-container-id-5 div.sk-serial::before {content: \"\";position: absolute;border-left: 1px solid gray;box-sizing: border-box;top: 0;bottom: 0;left: 50%;z-index: 0;}#sk-container-id-5 div.sk-serial {display: flex;flex-direction: column;align-items: center;background-color: white;padding-right: 0.2em;padding-left: 0.2em;position: relative;}#sk-container-id-5 div.sk-item {position: relative;z-index: 1;}#sk-container-id-5 div.sk-parallel {display: flex;align-items: stretch;justify-content: center;background-color: white;position: relative;}#sk-container-id-5 div.sk-item::before, #sk-container-id-5 div.sk-parallel-item::before {content: \"\";position: absolute;border-left: 1px solid gray;box-sizing: border-box;top: 0;bottom: 0;left: 50%;z-index: -1;}#sk-container-id-5 div.sk-parallel-item {display: flex;flex-direction: column;z-index: 1;position: relative;background-color: white;}#sk-container-id-5 div.sk-parallel-item:first-child::after {align-self: flex-end;width: 50%;}#sk-container-id-5 div.sk-parallel-item:last-child::after {align-self: flex-start;width: 50%;}#sk-container-id-5 div.sk-parallel-item:only-child::after {width: 0;}#sk-container-id-5 div.sk-dashed-wrapped {border: 1px dashed gray;margin: 0 0.4em 0.5em 0.4em;box-sizing: border-box;padding-bottom: 0.4em;background-color: white;}#sk-container-id-5 div.sk-label label {font-family: monospace;font-weight: bold;display: inline-block;line-height: 1.2em;}#sk-container-id-5 div.sk-label-container {text-align: center;}#sk-container-id-5 div.sk-container {/* jupyter's `normalize.less` sets `[hidden] { display: none; }` but bootstrap.min.css set `[hidden] { display: none !important; }` so we also need the `!important` here to be able to override the default hidden behavior on the sphinx rendered scikit-learn.org. See: https://github.com/scikit-learn/scikit-learn/issues/21755 */display: inline-block !important;position: relative;}#sk-container-id-5 div.sk-text-repr-fallback {display: none;}</style><div id=\"sk-container-id-5\" class=\"sk-top-container\"><div class=\"sk-text-repr-fallback\"><pre>GridSearchCV(cv=5,\n",
       "             estimator=XGBRegressor(base_score=None, booster=None,\n",
       "                                    callbacks=None, colsample_bylevel=None,\n",
       "                                    colsample_bynode=None,\n",
       "                                    colsample_bytree=None,\n",
       "                                    early_stopping_rounds=None,\n",
       "                                    enable_categorical=False, eval_metric=None,\n",
       "                                    gamma=None, gpu_id=None, grow_policy=None,\n",
       "                                    importance_type=None,\n",
       "                                    interaction_constraints=None,\n",
       "                                    learning_rate=None, max_bin=None,\n",
       "                                    max_cat...\n",
       "                                    max_depth=None, max_leaves=None,\n",
       "                                    min_child_weight=None, missing=nan,\n",
       "                                    monotone_constraints=None, n_estimators=100,\n",
       "                                    n_jobs=None, num_parallel_tree=None,\n",
       "                                    predictor=None, random_state=None,\n",
       "                                    reg_alpha=None, reg_lambda=None, ...),\n",
       "             param_grid={&#x27;learning_rate&#x27;: [0.08, 0.1, 0.15],\n",
       "                         &#x27;max_depth&#x27;: [10, 20], &#x27;n_estimators&#x27;: [100, 150]},\n",
       "             scoring=&#x27;neg_root_mean_squared_error&#x27;, verbose=2)</pre><b>In a Jupyter environment, please rerun this cell to show the HTML representation or trust the notebook. <br />On GitHub, the HTML representation is unable to render, please try loading this page with nbviewer.org.</b></div><div class=\"sk-container\" hidden><div class=\"sk-item sk-dashed-wrapped\"><div class=\"sk-label-container\"><div class=\"sk-label sk-toggleable\"><input class=\"sk-toggleable__control sk-hidden--visually\" id=\"sk-estimator-id-9\" type=\"checkbox\" ><label for=\"sk-estimator-id-9\" class=\"sk-toggleable__label sk-toggleable__label-arrow\">GridSearchCV</label><div class=\"sk-toggleable__content\"><pre>GridSearchCV(cv=5,\n",
       "             estimator=XGBRegressor(base_score=None, booster=None,\n",
       "                                    callbacks=None, colsample_bylevel=None,\n",
       "                                    colsample_bynode=None,\n",
       "                                    colsample_bytree=None,\n",
       "                                    early_stopping_rounds=None,\n",
       "                                    enable_categorical=False, eval_metric=None,\n",
       "                                    gamma=None, gpu_id=None, grow_policy=None,\n",
       "                                    importance_type=None,\n",
       "                                    interaction_constraints=None,\n",
       "                                    learning_rate=None, max_bin=None,\n",
       "                                    max_cat...\n",
       "                                    max_depth=None, max_leaves=None,\n",
       "                                    min_child_weight=None, missing=nan,\n",
       "                                    monotone_constraints=None, n_estimators=100,\n",
       "                                    n_jobs=None, num_parallel_tree=None,\n",
       "                                    predictor=None, random_state=None,\n",
       "                                    reg_alpha=None, reg_lambda=None, ...),\n",
       "             param_grid={&#x27;learning_rate&#x27;: [0.08, 0.1, 0.15],\n",
       "                         &#x27;max_depth&#x27;: [10, 20], &#x27;n_estimators&#x27;: [100, 150]},\n",
       "             scoring=&#x27;neg_root_mean_squared_error&#x27;, verbose=2)</pre></div></div></div><div class=\"sk-parallel\"><div class=\"sk-parallel-item\"><div class=\"sk-item\"><div class=\"sk-label-container\"><div class=\"sk-label sk-toggleable\"><input class=\"sk-toggleable__control sk-hidden--visually\" id=\"sk-estimator-id-10\" type=\"checkbox\" ><label for=\"sk-estimator-id-10\" class=\"sk-toggleable__label sk-toggleable__label-arrow\">estimator: XGBRegressor</label><div class=\"sk-toggleable__content\"><pre>XGBRegressor(base_score=None, booster=None, callbacks=None,\n",
       "             colsample_bylevel=None, colsample_bynode=None,\n",
       "             colsample_bytree=None, early_stopping_rounds=None,\n",
       "             enable_categorical=False, eval_metric=None, gamma=None,\n",
       "             gpu_id=None, grow_policy=None, importance_type=None,\n",
       "             interaction_constraints=None, learning_rate=None, max_bin=None,\n",
       "             max_cat_to_onehot=None, max_delta_step=None, max_depth=None,\n",
       "             max_leaves=None, min_child_weight=None, missing=nan,\n",
       "             monotone_constraints=None, n_estimators=100, n_jobs=None,\n",
       "             num_parallel_tree=None, predictor=None, random_state=None,\n",
       "             reg_alpha=None, reg_lambda=None, ...)</pre></div></div></div><div class=\"sk-serial\"><div class=\"sk-item\"><div class=\"sk-estimator sk-toggleable\"><input class=\"sk-toggleable__control sk-hidden--visually\" id=\"sk-estimator-id-11\" type=\"checkbox\" ><label for=\"sk-estimator-id-11\" class=\"sk-toggleable__label sk-toggleable__label-arrow\">XGBRegressor</label><div class=\"sk-toggleable__content\"><pre>XGBRegressor(base_score=None, booster=None, callbacks=None,\n",
       "             colsample_bylevel=None, colsample_bynode=None,\n",
       "             colsample_bytree=None, early_stopping_rounds=None,\n",
       "             enable_categorical=False, eval_metric=None, gamma=None,\n",
       "             gpu_id=None, grow_policy=None, importance_type=None,\n",
       "             interaction_constraints=None, learning_rate=None, max_bin=None,\n",
       "             max_cat_to_onehot=None, max_delta_step=None, max_depth=None,\n",
       "             max_leaves=None, min_child_weight=None, missing=nan,\n",
       "             monotone_constraints=None, n_estimators=100, n_jobs=None,\n",
       "             num_parallel_tree=None, predictor=None, random_state=None,\n",
       "             reg_alpha=None, reg_lambda=None, ...)</pre></div></div></div></div></div></div></div></div></div></div>"
      ],
      "text/plain": [
       "GridSearchCV(cv=5,\n",
       "             estimator=XGBRegressor(base_score=None, booster=None,\n",
       "                                    callbacks=None, colsample_bylevel=None,\n",
       "                                    colsample_bynode=None,\n",
       "                                    colsample_bytree=None,\n",
       "                                    early_stopping_rounds=None,\n",
       "                                    enable_categorical=False, eval_metric=None,\n",
       "                                    gamma=None, gpu_id=None, grow_policy=None,\n",
       "                                    importance_type=None,\n",
       "                                    interaction_constraints=None,\n",
       "                                    learning_rate=None, max_bin=None,\n",
       "                                    max_cat...\n",
       "                                    max_depth=None, max_leaves=None,\n",
       "                                    min_child_weight=None, missing=nan,\n",
       "                                    monotone_constraints=None, n_estimators=100,\n",
       "                                    n_jobs=None, num_parallel_tree=None,\n",
       "                                    predictor=None, random_state=None,\n",
       "                                    reg_alpha=None, reg_lambda=None, ...),\n",
       "             param_grid={'learning_rate': [0.08, 0.1, 0.15],\n",
       "                         'max_depth': [10, 20], 'n_estimators': [100, 150]},\n",
       "             scoring='neg_root_mean_squared_error', verbose=2)"
      ]
     },
     "execution_count": 79,
     "metadata": {},
     "output_type": "execute_result"
    }
   ],
   "source": [
    "\n",
    "def rmse(y_true, y_prediction):\n",
    "    return np.sqrt(mean_squared_error(y_true, y_prediction))\n",
    "rmse_scorer = metrics.make_scorer(rmse, greater_is_better = False)\n",
    "# model\n",
    "model = xgb.XGBRegressor()\n",
    "parameters = {'n_estimators': [100, 150], 'max_depth': [10,20], 'learning_rate': [0.08, 0.1, 0.15]}\n",
    "gridsearch_model = GridSearchCV(estimator = model, param_grid = parameters, scoring = 'neg_root_mean_squared_error', cv = 5, verbose = 2)\n",
    "gridsearch_model.fit(train_X_1, train_y_1)"
   ]
  },
  {
   "cell_type": "code",
   "execution_count": 80,
   "metadata": {},
   "outputs": [
    {
     "name": "stdout",
     "output_type": "stream",
     "text": [
      "Mejor modelo:  {'learning_rate': 0.08, 'max_depth': 10, 'n_estimators': 150}\n"
     ]
    }
   ],
   "source": [
    "print('Mejor modelo: ', gridsearch_model.best_params_)"
   ]
  },
  {
   "cell_type": "code",
   "execution_count": 81,
   "metadata": {},
   "outputs": [
    {
     "data": {
      "text/plain": [
       "38.92469449644713"
      ]
     },
     "execution_count": 81,
     "metadata": {},
     "output_type": "execute_result"
    }
   ],
   "source": [
    "gridsearch_model.best_score_*(-1)"
   ]
  },
  {
   "cell_type": "code",
   "execution_count": 82,
   "metadata": {},
   "outputs": [
    {
     "data": {
      "text/html": [
       "<style>#sk-container-id-6 {color: black;background-color: white;}#sk-container-id-6 pre{padding: 0;}#sk-container-id-6 div.sk-toggleable {background-color: white;}#sk-container-id-6 label.sk-toggleable__label {cursor: pointer;display: block;width: 100%;margin-bottom: 0;padding: 0.3em;box-sizing: border-box;text-align: center;}#sk-container-id-6 label.sk-toggleable__label-arrow:before {content: \"▸\";float: left;margin-right: 0.25em;color: #696969;}#sk-container-id-6 label.sk-toggleable__label-arrow:hover:before {color: black;}#sk-container-id-6 div.sk-estimator:hover label.sk-toggleable__label-arrow:before {color: black;}#sk-container-id-6 div.sk-toggleable__content {max-height: 0;max-width: 0;overflow: hidden;text-align: left;background-color: #f0f8ff;}#sk-container-id-6 div.sk-toggleable__content pre {margin: 0.2em;color: black;border-radius: 0.25em;background-color: #f0f8ff;}#sk-container-id-6 input.sk-toggleable__control:checked~div.sk-toggleable__content {max-height: 200px;max-width: 100%;overflow: auto;}#sk-container-id-6 input.sk-toggleable__control:checked~label.sk-toggleable__label-arrow:before {content: \"▾\";}#sk-container-id-6 div.sk-estimator input.sk-toggleable__control:checked~label.sk-toggleable__label {background-color: #d4ebff;}#sk-container-id-6 div.sk-label input.sk-toggleable__control:checked~label.sk-toggleable__label {background-color: #d4ebff;}#sk-container-id-6 input.sk-hidden--visually {border: 0;clip: rect(1px 1px 1px 1px);clip: rect(1px, 1px, 1px, 1px);height: 1px;margin: -1px;overflow: hidden;padding: 0;position: absolute;width: 1px;}#sk-container-id-6 div.sk-estimator {font-family: monospace;background-color: #f0f8ff;border: 1px dotted black;border-radius: 0.25em;box-sizing: border-box;margin-bottom: 0.5em;}#sk-container-id-6 div.sk-estimator:hover {background-color: #d4ebff;}#sk-container-id-6 div.sk-parallel-item::after {content: \"\";width: 100%;border-bottom: 1px solid gray;flex-grow: 1;}#sk-container-id-6 div.sk-label:hover label.sk-toggleable__label {background-color: #d4ebff;}#sk-container-id-6 div.sk-serial::before {content: \"\";position: absolute;border-left: 1px solid gray;box-sizing: border-box;top: 0;bottom: 0;left: 50%;z-index: 0;}#sk-container-id-6 div.sk-serial {display: flex;flex-direction: column;align-items: center;background-color: white;padding-right: 0.2em;padding-left: 0.2em;position: relative;}#sk-container-id-6 div.sk-item {position: relative;z-index: 1;}#sk-container-id-6 div.sk-parallel {display: flex;align-items: stretch;justify-content: center;background-color: white;position: relative;}#sk-container-id-6 div.sk-item::before, #sk-container-id-6 div.sk-parallel-item::before {content: \"\";position: absolute;border-left: 1px solid gray;box-sizing: border-box;top: 0;bottom: 0;left: 50%;z-index: -1;}#sk-container-id-6 div.sk-parallel-item {display: flex;flex-direction: column;z-index: 1;position: relative;background-color: white;}#sk-container-id-6 div.sk-parallel-item:first-child::after {align-self: flex-end;width: 50%;}#sk-container-id-6 div.sk-parallel-item:last-child::after {align-self: flex-start;width: 50%;}#sk-container-id-6 div.sk-parallel-item:only-child::after {width: 0;}#sk-container-id-6 div.sk-dashed-wrapped {border: 1px dashed gray;margin: 0 0.4em 0.5em 0.4em;box-sizing: border-box;padding-bottom: 0.4em;background-color: white;}#sk-container-id-6 div.sk-label label {font-family: monospace;font-weight: bold;display: inline-block;line-height: 1.2em;}#sk-container-id-6 div.sk-label-container {text-align: center;}#sk-container-id-6 div.sk-container {/* jupyter's `normalize.less` sets `[hidden] { display: none; }` but bootstrap.min.css set `[hidden] { display: none !important; }` so we also need the `!important` here to be able to override the default hidden behavior on the sphinx rendered scikit-learn.org. See: https://github.com/scikit-learn/scikit-learn/issues/21755 */display: inline-block !important;position: relative;}#sk-container-id-6 div.sk-text-repr-fallback {display: none;}</style><div id=\"sk-container-id-6\" class=\"sk-top-container\"><div class=\"sk-text-repr-fallback\"><pre>XGBRegressor(base_score=0.5, booster=&#x27;gbtree&#x27;, callbacks=None,\n",
       "             colsample_bylevel=1, colsample_bynode=1, colsample_bytree=1,\n",
       "             early_stopping_rounds=None, enable_categorical=False,\n",
       "             eval_metric=None, gamma=0, gpu_id=-1, grow_policy=&#x27;depthwise&#x27;,\n",
       "             importance_type=None, interaction_constraints=&#x27;&#x27;,\n",
       "             learning_rate=0.15, max_bin=256, max_cat_to_onehot=4,\n",
       "             max_delta_step=0, max_depth=20, max_leaves=0, min_child_weight=1,\n",
       "             missing=nan, monotone_constraints=&#x27;()&#x27;, n_estimators=150, n_jobs=0,\n",
       "             num_parallel_tree=1, predictor=&#x27;auto&#x27;, random_state=0, reg_alpha=0,\n",
       "             reg_lambda=1, ...)</pre><b>In a Jupyter environment, please rerun this cell to show the HTML representation or trust the notebook. <br />On GitHub, the HTML representation is unable to render, please try loading this page with nbviewer.org.</b></div><div class=\"sk-container\" hidden><div class=\"sk-item\"><div class=\"sk-estimator sk-toggleable\"><input class=\"sk-toggleable__control sk-hidden--visually\" id=\"sk-estimator-id-12\" type=\"checkbox\" checked><label for=\"sk-estimator-id-12\" class=\"sk-toggleable__label sk-toggleable__label-arrow\">XGBRegressor</label><div class=\"sk-toggleable__content\"><pre>XGBRegressor(base_score=0.5, booster=&#x27;gbtree&#x27;, callbacks=None,\n",
       "             colsample_bylevel=1, colsample_bynode=1, colsample_bytree=1,\n",
       "             early_stopping_rounds=None, enable_categorical=False,\n",
       "             eval_metric=None, gamma=0, gpu_id=-1, grow_policy=&#x27;depthwise&#x27;,\n",
       "             importance_type=None, interaction_constraints=&#x27;&#x27;,\n",
       "             learning_rate=0.15, max_bin=256, max_cat_to_onehot=4,\n",
       "             max_delta_step=0, max_depth=20, max_leaves=0, min_child_weight=1,\n",
       "             missing=nan, monotone_constraints=&#x27;()&#x27;, n_estimators=150, n_jobs=0,\n",
       "             num_parallel_tree=1, predictor=&#x27;auto&#x27;, random_state=0, reg_alpha=0,\n",
       "             reg_lambda=1, ...)</pre></div></div></div></div></div>"
      ],
      "text/plain": [
       "XGBRegressor(base_score=0.5, booster='gbtree', callbacks=None,\n",
       "             colsample_bylevel=1, colsample_bynode=1, colsample_bytree=1,\n",
       "             early_stopping_rounds=None, enable_categorical=False,\n",
       "             eval_metric=None, gamma=0, gpu_id=-1, grow_policy='depthwise',\n",
       "             importance_type=None, interaction_constraints='',\n",
       "             learning_rate=0.15, max_bin=256, max_cat_to_onehot=4,\n",
       "             max_delta_step=0, max_depth=20, max_leaves=0, min_child_weight=1,\n",
       "             missing=nan, monotone_constraints='()', n_estimators=150, n_jobs=0,\n",
       "             num_parallel_tree=1, predictor='auto', random_state=0, reg_alpha=0,\n",
       "             reg_lambda=1, ...)"
      ]
     },
     "execution_count": 82,
     "metadata": {},
     "output_type": "execute_result"
    }
   ],
   "source": [
    "xg_1 = xgb.XGBRegressor(n_estimators = 150, max_depth = 20, learning_rate =0.15)\n",
    "xg_1.fit(train_X_1, train_y_1)"
   ]
  },
  {
   "cell_type": "code",
   "execution_count": 83,
   "metadata": {},
   "outputs": [
    {
     "data": {
      "text/plain": [
       "array([[  4.7671   ],\n",
       "       [112.57505  ],\n",
       "       [  7.6672015],\n",
       "       ...,\n",
       "       [336.02405  ],\n",
       "       [  7.420625 ],\n",
       "       [339.19107  ]], dtype=float32)"
      ]
     },
     "execution_count": 83,
     "metadata": {},
     "output_type": "execute_result"
    }
   ],
   "source": [
    "xg_1.predict(val_X_1).reshape(-1,1)"
   ]
  },
  {
   "cell_type": "markdown",
   "metadata": {},
   "source": [
    "# Red Neuronal"
   ]
  },
  {
   "cell_type": "code",
   "execution_count": 84,
   "metadata": {},
   "outputs": [],
   "source": [
    "import tensorflow as tf\n",
    "from tensorflow.keras import layers\n",
    "from tensorflow.keras.initializers import RandomUniform\n",
    "import os\n",
    "from tensorflow.keras.models import Model, load_model"
   ]
  },
  {
   "cell_type": "code",
   "execution_count": 85,
   "metadata": {},
   "outputs": [],
   "source": [
    "# Creamos una función para implementar una devolución de llamada de ModelCheckpoint con un nombre de archivo específico\n",
    "def create_model_checkpoint(model_name, save_path=\"model_experiments_2\"):\n",
    "    return tf.keras.callbacks.ModelCheckpoint(filepath=os.path.join(save_path, model_name), # create filepath to save model\n",
    "                                            verbose=0, \n",
    "                                            save_best_only=True) "
   ]
  },
  {
   "cell_type": "code",
   "execution_count": 86,
   "metadata": {},
   "outputs": [],
   "source": [
    "def model_MLANN(train, train_label, test, test_label, name):\n",
    "    \n",
    "    model = tf.keras.Sequential([\n",
    "        layers.Dense(12, activation = 'tanh', input_shape = (9,)),\n",
    "        layers.Dense(1),\n",
    "    ], name = name)\n",
    "    \n",
    "    model.compile(loss = 'mse',\n",
    "                  optimizer = tf.keras.optimizers.Adam(learning_rate=0.08),\n",
    "                  metrics = [tf.keras.metrics.RootMeanSquaredError()])\n",
    "    \n",
    "    history = model.fit(train, train_label, epochs = 150,callbacks = [create_model_checkpoint(model_name=model.name)], validation_data =(test,test_label), verbose = 2)\n",
    "    \n",
    "    return model, history"
   ]
  },
  {
   "cell_type": "markdown",
   "metadata": {},
   "source": [
    "train_X_1, val_X_1, train_y_1, val_y_1 "
   ]
  },
  {
   "cell_type": "code",
   "execution_count": 87,
   "metadata": {},
   "outputs": [
    {
     "name": "stdout",
     "output_type": "stream",
     "text": [
      "Epoch 1/150\n",
      "INFO:tensorflow:Assets written to: model_experiments_2\\rn_model\\assets\n",
      "313/313 - 1s - loss: 25124.8809 - root_mean_squared_error: 158.5083 - val_loss: 18147.0410 - val_root_mean_squared_error: 134.7110 - 1s/epoch - 4ms/step\n",
      "Epoch 2/150\n",
      "INFO:tensorflow:Assets written to: model_experiments_2\\rn_model\\assets\n",
      "313/313 - 1s - loss: 15988.9336 - root_mean_squared_error: 126.4474 - val_loss: 15223.1846 - val_root_mean_squared_error: 123.3823 - 516ms/epoch - 2ms/step\n",
      "Epoch 3/150\n",
      "INFO:tensorflow:Assets written to: model_experiments_2\\rn_model\\assets\n",
      "313/313 - 1s - loss: 14164.3320 - root_mean_squared_error: 119.0140 - val_loss: 13525.4414 - val_root_mean_squared_error: 116.2989 - 517ms/epoch - 2ms/step\n",
      "Epoch 4/150\n",
      "INFO:tensorflow:Assets written to: model_experiments_2\\rn_model\\assets\n",
      "313/313 - 1s - loss: 12914.2705 - root_mean_squared_error: 113.6410 - val_loss: 12347.4609 - val_root_mean_squared_error: 111.1191 - 538ms/epoch - 2ms/step\n",
      "Epoch 5/150\n",
      "INFO:tensorflow:Assets written to: model_experiments_2\\rn_model\\assets\n",
      "313/313 - 1s - loss: 12283.6523 - root_mean_squared_error: 110.8316 - val_loss: 11846.3906 - val_root_mean_squared_error: 108.8411 - 516ms/epoch - 2ms/step\n",
      "Epoch 6/150\n",
      "313/313 - 0s - loss: 12025.1807 - root_mean_squared_error: 109.6594 - val_loss: 12107.8789 - val_root_mean_squared_error: 110.0358 - 213ms/epoch - 680us/step\n",
      "Epoch 7/150\n",
      "INFO:tensorflow:Assets written to: model_experiments_2\\rn_model\\assets\n",
      "313/313 - 0s - loss: 11739.3857 - root_mean_squared_error: 108.3484 - val_loss: 11834.6641 - val_root_mean_squared_error: 108.7872 - 485ms/epoch - 2ms/step\n",
      "Epoch 8/150\n",
      "313/313 - 0s - loss: 11652.5342 - root_mean_squared_error: 107.9469 - val_loss: 12191.5596 - val_root_mean_squared_error: 110.4154 - 224ms/epoch - 716us/step\n",
      "Epoch 9/150\n",
      "INFO:tensorflow:Assets written to: model_experiments_2\\rn_model\\assets\n",
      "313/313 - 1s - loss: 11707.0645 - root_mean_squared_error: 108.1992 - val_loss: 11495.2041 - val_root_mean_squared_error: 107.2157 - 504ms/epoch - 2ms/step\n",
      "Epoch 10/150\n",
      "313/313 - 0s - loss: 11732.2715 - root_mean_squared_error: 108.3156 - val_loss: 11777.1855 - val_root_mean_squared_error: 108.5227 - 215ms/epoch - 687us/step\n",
      "Epoch 11/150\n",
      "313/313 - 0s - loss: 11426.8525 - root_mean_squared_error: 106.8965 - val_loss: 11735.0342 - val_root_mean_squared_error: 108.3284 - 234ms/epoch - 748us/step\n",
      "Epoch 12/150\n",
      "313/313 - 0s - loss: 11459.5342 - root_mean_squared_error: 107.0492 - val_loss: 12129.8467 - val_root_mean_squared_error: 110.1356 - 244ms/epoch - 780us/step\n",
      "Epoch 13/150\n",
      "INFO:tensorflow:Assets written to: model_experiments_2\\rn_model\\assets\n",
      "313/313 - 1s - loss: 11345.0371 - root_mean_squared_error: 106.5131 - val_loss: 11325.8447 - val_root_mean_squared_error: 106.4230 - 522ms/epoch - 2ms/step\n",
      "Epoch 14/150\n",
      "313/313 - 0s - loss: 11019.7715 - root_mean_squared_error: 104.9751 - val_loss: 11396.5801 - val_root_mean_squared_error: 106.7548 - 215ms/epoch - 687us/step\n",
      "Epoch 15/150\n",
      "INFO:tensorflow:Assets written to: model_experiments_2\\rn_model\\assets\n",
      "313/313 - 0s - loss: 10957.6094 - root_mean_squared_error: 104.6786 - val_loss: 10820.2598 - val_root_mean_squared_error: 104.0205 - 496ms/epoch - 2ms/step\n",
      "Epoch 16/150\n",
      "313/313 - 0s - loss: 11206.5918 - root_mean_squared_error: 105.8612 - val_loss: 11996.8945 - val_root_mean_squared_error: 109.5303 - 227ms/epoch - 725us/step\n",
      "Epoch 17/150\n",
      "313/313 - 0s - loss: 11337.0068 - root_mean_squared_error: 106.4754 - val_loss: 10881.8242 - val_root_mean_squared_error: 104.3160 - 216ms/epoch - 690us/step\n",
      "Epoch 18/150\n",
      "313/313 - 0s - loss: 11055.1895 - root_mean_squared_error: 105.1437 - val_loss: 11558.7021 - val_root_mean_squared_error: 107.5114 - 211ms/epoch - 674us/step\n",
      "Epoch 19/150\n",
      "INFO:tensorflow:Assets written to: model_experiments_2\\rn_model\\assets\n",
      "313/313 - 0s - loss: 11145.0156 - root_mean_squared_error: 105.5700 - val_loss: 10802.8906 - val_root_mean_squared_error: 103.9370 - 487ms/epoch - 2ms/step\n",
      "Epoch 20/150\n",
      "313/313 - 0s - loss: 10857.4736 - root_mean_squared_error: 104.1992 - val_loss: 10858.6924 - val_root_mean_squared_error: 104.2050 - 214ms/epoch - 684us/step\n",
      "Epoch 21/150\n",
      "313/313 - 0s - loss: 10862.2715 - root_mean_squared_error: 104.2222 - val_loss: 11657.9805 - val_root_mean_squared_error: 107.9721 - 210ms/epoch - 671us/step\n",
      "Epoch 22/150\n",
      "INFO:tensorflow:Assets written to: model_experiments_2\\rn_model\\assets\n",
      "313/313 - 0s - loss: 10559.7139 - root_mean_squared_error: 102.7605 - val_loss: 10523.0088 - val_root_mean_squared_error: 102.5817 - 497ms/epoch - 2ms/step\n",
      "Epoch 23/150\n",
      "INFO:tensorflow:Assets written to: model_experiments_2\\rn_model\\assets\n",
      "313/313 - 0s - loss: 10515.7373 - root_mean_squared_error: 102.5463 - val_loss: 10255.6182 - val_root_mean_squared_error: 101.2700 - 484ms/epoch - 2ms/step\n",
      "Epoch 24/150\n",
      "313/313 - 0s - loss: 10738.3926 - root_mean_squared_error: 103.6262 - val_loss: 11556.5938 - val_root_mean_squared_error: 107.5016 - 209ms/epoch - 668us/step\n",
      "Epoch 25/150\n",
      "313/313 - 0s - loss: 10719.7109 - root_mean_squared_error: 103.5360 - val_loss: 11167.3477 - val_root_mean_squared_error: 105.6757 - 203ms/epoch - 649us/step\n",
      "Epoch 26/150\n",
      "313/313 - 0s - loss: 10698.7793 - root_mean_squared_error: 103.4349 - val_loss: 10637.0293 - val_root_mean_squared_error: 103.1360 - 222ms/epoch - 709us/step\n",
      "Epoch 27/150\n",
      "313/313 - 0s - loss: 10537.1543 - root_mean_squared_error: 102.6506 - val_loss: 11661.2959 - val_root_mean_squared_error: 107.9875 - 219ms/epoch - 700us/step\n",
      "Epoch 28/150\n",
      "313/313 - 0s - loss: 10628.0879 - root_mean_squared_error: 103.0926 - val_loss: 10486.7129 - val_root_mean_squared_error: 102.4047 - 214ms/epoch - 684us/step\n",
      "Epoch 29/150\n",
      "313/313 - 0s - loss: 10860.1514 - root_mean_squared_error: 104.2121 - val_loss: 10740.3740 - val_root_mean_squared_error: 103.6358 - 207ms/epoch - 661us/step\n",
      "Epoch 30/150\n",
      "313/313 - 0s - loss: 10721.0439 - root_mean_squared_error: 103.5425 - val_loss: 10741.9082 - val_root_mean_squared_error: 103.6432 - 224ms/epoch - 716us/step\n",
      "Epoch 31/150\n",
      "313/313 - 0s - loss: 10532.9902 - root_mean_squared_error: 102.6304 - val_loss: 10977.3516 - val_root_mean_squared_error: 104.7729 - 212ms/epoch - 677us/step\n",
      "Epoch 32/150\n",
      "313/313 - 0s - loss: 10615.8672 - root_mean_squared_error: 103.0333 - val_loss: 10568.6318 - val_root_mean_squared_error: 102.8038 - 211ms/epoch - 674us/step\n",
      "Epoch 33/150\n",
      "313/313 - 0s - loss: 10584.0469 - root_mean_squared_error: 102.8788 - val_loss: 10307.2363 - val_root_mean_squared_error: 101.5246 - 211ms/epoch - 674us/step\n",
      "Epoch 34/150\n",
      "313/313 - 0s - loss: 10382.2070 - root_mean_squared_error: 101.8931 - val_loss: 10571.9385 - val_root_mean_squared_error: 102.8199 - 210ms/epoch - 671us/step\n",
      "Epoch 35/150\n",
      "313/313 - 0s - loss: 10218.6230 - root_mean_squared_error: 101.0872 - val_loss: 10548.0195 - val_root_mean_squared_error: 102.7036 - 210ms/epoch - 671us/step\n",
      "Epoch 36/150\n",
      "313/313 - 0s - loss: 10648.1436 - root_mean_squared_error: 103.1898 - val_loss: 10576.8311 - val_root_mean_squared_error: 102.8437 - 209ms/epoch - 668us/step\n",
      "Epoch 37/150\n",
      "313/313 - 0s - loss: 10471.9404 - root_mean_squared_error: 102.3325 - val_loss: 10300.3154 - val_root_mean_squared_error: 101.4905 - 209ms/epoch - 668us/step\n",
      "Epoch 38/150\n",
      "313/313 - 0s - loss: 10186.2705 - root_mean_squared_error: 100.9271 - val_loss: 10520.2598 - val_root_mean_squared_error: 102.5683 - 209ms/epoch - 668us/step\n",
      "Epoch 39/150\n",
      "313/313 - 0s - loss: 10399.2510 - root_mean_squared_error: 101.9767 - val_loss: 11242.9199 - val_root_mean_squared_error: 106.0326 - 211ms/epoch - 674us/step\n",
      "Epoch 40/150\n",
      "313/313 - 0s - loss: 10222.2803 - root_mean_squared_error: 101.1053 - val_loss: 10472.8594 - val_root_mean_squared_error: 102.3370 - 207ms/epoch - 661us/step\n",
      "Epoch 41/150\n",
      "313/313 - 0s - loss: 10681.9512 - root_mean_squared_error: 103.3535 - val_loss: 10454.5107 - val_root_mean_squared_error: 102.2473 - 211ms/epoch - 674us/step\n",
      "Epoch 42/150\n",
      "313/313 - 0s - loss: 10327.9551 - root_mean_squared_error: 101.6265 - val_loss: 10443.3965 - val_root_mean_squared_error: 102.1929 - 209ms/epoch - 668us/step\n",
      "Epoch 43/150\n",
      "313/313 - 0s - loss: 10265.2158 - root_mean_squared_error: 101.3174 - val_loss: 10965.2871 - val_root_mean_squared_error: 104.7153 - 209ms/epoch - 668us/step\n",
      "Epoch 44/150\n",
      "313/313 - 0s - loss: 10419.3584 - root_mean_squared_error: 102.0753 - val_loss: 10493.9873 - val_root_mean_squared_error: 102.4402 - 212ms/epoch - 677us/step\n",
      "Epoch 45/150\n",
      "INFO:tensorflow:Assets written to: model_experiments_2\\rn_model\\assets\n",
      "313/313 - 0s - loss: 10189.3398 - root_mean_squared_error: 100.9423 - val_loss: 10078.0830 - val_root_mean_squared_error: 100.3897 - 486ms/epoch - 2ms/step\n",
      "Epoch 46/150\n",
      "313/313 - 0s - loss: 10231.5381 - root_mean_squared_error: 101.1511 - val_loss: 10443.9854 - val_root_mean_squared_error: 102.1958 - 224ms/epoch - 716us/step\n",
      "Epoch 47/150\n",
      "313/313 - 0s - loss: 10133.7695 - root_mean_squared_error: 100.6666 - val_loss: 11545.1113 - val_root_mean_squared_error: 107.4482 - 212ms/epoch - 677us/step\n",
      "Epoch 48/150\n",
      "INFO:tensorflow:Assets written to: model_experiments_2\\rn_model\\assets\n",
      "313/313 - 1s - loss: 10145.0869 - root_mean_squared_error: 100.7228 - val_loss: 9958.8838 - val_root_mean_squared_error: 99.7942 - 559ms/epoch - 2ms/step\n",
      "Epoch 49/150\n",
      "313/313 - 0s - loss: 9959.3916 - root_mean_squared_error: 99.7968 - val_loss: 10380.2959 - val_root_mean_squared_error: 101.8837 - 252ms/epoch - 805us/step\n",
      "Epoch 50/150\n",
      "313/313 - 0s - loss: 10039.8662 - root_mean_squared_error: 100.1991 - val_loss: 10400.3252 - val_root_mean_squared_error: 101.9820 - 233ms/epoch - 745us/step\n",
      "Epoch 51/150\n",
      "313/313 - 0s - loss: 9897.5635 - root_mean_squared_error: 99.4865 - val_loss: 11184.7002 - val_root_mean_squared_error: 105.7577 - 238ms/epoch - 761us/step\n",
      "Epoch 52/150\n",
      "313/313 - 0s - loss: 9930.3828 - root_mean_squared_error: 99.6513 - val_loss: 10029.6846 - val_root_mean_squared_error: 100.1483 - 227ms/epoch - 725us/step\n",
      "Epoch 53/150\n",
      "INFO:tensorflow:Assets written to: model_experiments_2\\rn_model\\assets\n",
      "313/313 - 1s - loss: 9983.9893 - root_mean_squared_error: 99.9199 - val_loss: 9726.3135 - val_root_mean_squared_error: 98.6221 - 541ms/epoch - 2ms/step\n",
      "Epoch 54/150\n",
      "313/313 - 0s - loss: 9827.9053 - root_mean_squared_error: 99.1358 - val_loss: 10445.8643 - val_root_mean_squared_error: 102.2050 - 233ms/epoch - 745us/step\n",
      "Epoch 55/150\n",
      "INFO:tensorflow:Assets written to: model_experiments_2\\rn_model\\assets\n",
      "313/313 - 1s - loss: 9857.4727 - root_mean_squared_error: 99.2848 - val_loss: 9715.6094 - val_root_mean_squared_error: 98.5678 - 701ms/epoch - 2ms/step\n",
      "Epoch 56/150\n",
      "313/313 - 0s - loss: 9986.9521 - root_mean_squared_error: 99.9347 - val_loss: 10570.5088 - val_root_mean_squared_error: 102.8130 - 232ms/epoch - 741us/step\n",
      "Epoch 57/150\n",
      "313/313 - 0s - loss: 10076.8223 - root_mean_squared_error: 100.3834 - val_loss: 10123.7012 - val_root_mean_squared_error: 100.6166 - 232ms/epoch - 741us/step\n",
      "Epoch 58/150\n",
      "INFO:tensorflow:Assets written to: model_experiments_2\\rn_model\\assets\n",
      "313/313 - 1s - loss: 9968.1396 - root_mean_squared_error: 99.8406 - val_loss: 9632.4248 - val_root_mean_squared_error: 98.1449 - 542ms/epoch - 2ms/step\n",
      "Epoch 59/150\n",
      "313/313 - 0s - loss: 9945.7812 - root_mean_squared_error: 99.7285 - val_loss: 10370.7861 - val_root_mean_squared_error: 101.8371 - 235ms/epoch - 751us/step\n",
      "Epoch 60/150\n",
      "313/313 - 0s - loss: 9837.3809 - root_mean_squared_error: 99.1836 - val_loss: 9814.1748 - val_root_mean_squared_error: 99.0665 - 240ms/epoch - 767us/step\n",
      "Epoch 61/150\n",
      "313/313 - 0s - loss: 10082.4922 - root_mean_squared_error: 100.4116 - val_loss: 10358.8643 - val_root_mean_squared_error: 101.7785 - 224ms/epoch - 716us/step\n",
      "Epoch 62/150\n",
      "313/313 - 0s - loss: 9938.8877 - root_mean_squared_error: 99.6940 - val_loss: 10484.1084 - val_root_mean_squared_error: 102.3919 - 225ms/epoch - 719us/step\n",
      "Epoch 63/150\n",
      "313/313 - 0s - loss: 9858.4512 - root_mean_squared_error: 99.2897 - val_loss: 11818.4785 - val_root_mean_squared_error: 108.7128 - 226ms/epoch - 722us/step\n",
      "Epoch 64/150\n",
      "313/313 - 0s - loss: 9853.4365 - root_mean_squared_error: 99.2645 - val_loss: 9858.5791 - val_root_mean_squared_error: 99.2904 - 209ms/epoch - 668us/step\n",
      "Epoch 65/150\n",
      "INFO:tensorflow:Assets written to: model_experiments_2\\rn_model\\assets\n",
      "313/313 - 0s - loss: 9611.2451 - root_mean_squared_error: 98.0370 - val_loss: 9529.5195 - val_root_mean_squared_error: 97.6193 - 486ms/epoch - 2ms/step\n",
      "Epoch 66/150\n",
      "313/313 - 0s - loss: 9827.1309 - root_mean_squared_error: 99.1319 - val_loss: 9778.0703 - val_root_mean_squared_error: 98.8841 - 213ms/epoch - 681us/step\n",
      "Epoch 67/150\n",
      "313/313 - 0s - loss: 9560.7656 - root_mean_squared_error: 97.7792 - val_loss: 11122.5391 - val_root_mean_squared_error: 105.4634 - 213ms/epoch - 681us/step\n",
      "Epoch 68/150\n",
      "313/313 - 0s - loss: 10120.7021 - root_mean_squared_error: 100.6017 - val_loss: 9920.6650 - val_root_mean_squared_error: 99.6025 - 215ms/epoch - 687us/step\n",
      "Epoch 69/150\n",
      "313/313 - 0s - loss: 9655.9189 - root_mean_squared_error: 98.2645 - val_loss: 9806.4033 - val_root_mean_squared_error: 99.0273 - 235ms/epoch - 751us/step\n",
      "Epoch 70/150\n",
      "313/313 - 0s - loss: 9739.2217 - root_mean_squared_error: 98.6875 - val_loss: 11111.9971 - val_root_mean_squared_error: 105.4135 - 238ms/epoch - 761us/step\n",
      "Epoch 71/150\n",
      "313/313 - 0s - loss: 9929.1133 - root_mean_squared_error: 99.6449 - val_loss: 9817.0244 - val_root_mean_squared_error: 99.0809 - 248ms/epoch - 793us/step\n",
      "Epoch 72/150\n",
      "INFO:tensorflow:Assets written to: model_experiments_2\\rn_model\\assets\n",
      "313/313 - 1s - loss: 9701.5449 - root_mean_squared_error: 98.4964 - val_loss: 9510.2461 - val_root_mean_squared_error: 97.5205 - 674ms/epoch - 2ms/step\n",
      "Epoch 73/150\n",
      "313/313 - 0s - loss: 9642.9297 - root_mean_squared_error: 98.1984 - val_loss: 9750.6387 - val_root_mean_squared_error: 98.7453 - 217ms/epoch - 693us/step\n",
      "Epoch 74/150\n",
      "313/313 - 0s - loss: 9723.2754 - root_mean_squared_error: 98.6067 - val_loss: 10397.6191 - val_root_mean_squared_error: 101.9687 - 218ms/epoch - 697us/step\n",
      "Epoch 75/150\n",
      "313/313 - 0s - loss: 9759.7256 - root_mean_squared_error: 98.7913 - val_loss: 9791.3018 - val_root_mean_squared_error: 98.9510 - 219ms/epoch - 700us/step\n",
      "Epoch 76/150\n",
      "313/313 - 0s - loss: 9625.3965 - root_mean_squared_error: 98.1091 - val_loss: 9975.7246 - val_root_mean_squared_error: 99.8785 - 237ms/epoch - 757us/step\n",
      "Epoch 77/150\n",
      "INFO:tensorflow:Assets written to: model_experiments_2\\rn_model\\assets\n",
      "313/313 - 1s - loss: 9561.4238 - root_mean_squared_error: 97.7825 - val_loss: 9469.5576 - val_root_mean_squared_error: 97.3117 - 512ms/epoch - 2ms/step\n",
      "Epoch 78/150\n",
      "313/313 - 0s - loss: 9577.8018 - root_mean_squared_error: 97.8662 - val_loss: 9597.2246 - val_root_mean_squared_error: 97.9654 - 225ms/epoch - 718us/step\n",
      "Epoch 79/150\n",
      "313/313 - 0s - loss: 9645.5215 - root_mean_squared_error: 98.2116 - val_loss: 9665.5625 - val_root_mean_squared_error: 98.3136 - 222ms/epoch - 709us/step\n",
      "Epoch 80/150\n",
      "313/313 - 0s - loss: 9677.1455 - root_mean_squared_error: 98.3725 - val_loss: 9814.5537 - val_root_mean_squared_error: 99.0684 - 219ms/epoch - 700us/step\n",
      "Epoch 81/150\n",
      "313/313 - 0s - loss: 9433.9287 - root_mean_squared_error: 97.1284 - val_loss: 11109.6953 - val_root_mean_squared_error: 105.4025 - 225ms/epoch - 719us/step\n",
      "Epoch 82/150\n",
      "INFO:tensorflow:Assets written to: model_experiments_2\\rn_model\\assets\n",
      "313/313 - 1s - loss: 9539.7920 - root_mean_squared_error: 97.6719 - val_loss: 9316.6191 - val_root_mean_squared_error: 96.5226 - 524ms/epoch - 2ms/step\n",
      "Epoch 83/150\n",
      "313/313 - 0s - loss: 9405.6758 - root_mean_squared_error: 96.9829 - val_loss: 9954.1777 - val_root_mean_squared_error: 99.7706 - 223ms/epoch - 712us/step\n",
      "Epoch 84/150\n",
      "313/313 - 0s - loss: 9623.6924 - root_mean_squared_error: 98.1004 - val_loss: 9738.7305 - val_root_mean_squared_error: 98.6850 - 224ms/epoch - 715us/step\n",
      "Epoch 85/150\n",
      "313/313 - 0s - loss: 9421.9902 - root_mean_squared_error: 97.0669 - val_loss: 9509.0244 - val_root_mean_squared_error: 97.5142 - 229ms/epoch - 732us/step\n",
      "Epoch 86/150\n",
      "313/313 - 0s - loss: 9539.8271 - root_mean_squared_error: 97.6720 - val_loss: 9789.2715 - val_root_mean_squared_error: 98.9408 - 224ms/epoch - 716us/step\n",
      "Epoch 87/150\n",
      "313/313 - 0s - loss: 9345.0381 - root_mean_squared_error: 96.6697 - val_loss: 11747.1729 - val_root_mean_squared_error: 108.3844 - 239ms/epoch - 764us/step\n",
      "Epoch 88/150\n",
      "313/313 - 0s - loss: 9520.5635 - root_mean_squared_error: 97.5734 - val_loss: 9520.3945 - val_root_mean_squared_error: 97.5725 - 230ms/epoch - 734us/step\n",
      "Epoch 89/150\n",
      "313/313 - 0s - loss: 9365.2959 - root_mean_squared_error: 96.7745 - val_loss: 10164.5020 - val_root_mean_squared_error: 100.8192 - 234ms/epoch - 748us/step\n",
      "Epoch 90/150\n",
      "313/313 - 0s - loss: 9704.7100 - root_mean_squared_error: 98.5125 - val_loss: 9671.8262 - val_root_mean_squared_error: 98.3454 - 220ms/epoch - 703us/step\n",
      "Epoch 91/150\n",
      "INFO:tensorflow:Assets written to: model_experiments_2\\rn_model\\assets\n",
      "313/313 - 1s - loss: 9302.0840 - root_mean_squared_error: 96.4473 - val_loss: 9199.6973 - val_root_mean_squared_error: 95.9151 - 504ms/epoch - 2ms/step\n",
      "Epoch 92/150\n",
      "313/313 - 0s - loss: 9308.3340 - root_mean_squared_error: 96.4797 - val_loss: 9493.0312 - val_root_mean_squared_error: 97.4322 - 226ms/epoch - 721us/step\n",
      "Epoch 93/150\n",
      "313/313 - 0s - loss: 9642.6396 - root_mean_squared_error: 98.1969 - val_loss: 9831.7510 - val_root_mean_squared_error: 99.1552 - 218ms/epoch - 697us/step\n",
      "Epoch 94/150\n",
      "313/313 - 0s - loss: 9376.7461 - root_mean_squared_error: 96.8336 - val_loss: 9502.8242 - val_root_mean_squared_error: 97.4824 - 216ms/epoch - 690us/step\n",
      "Epoch 95/150\n",
      "313/313 - 0s - loss: 9420.2686 - root_mean_squared_error: 97.0581 - val_loss: 9344.0615 - val_root_mean_squared_error: 96.6647 - 238ms/epoch - 760us/step\n",
      "Epoch 96/150\n",
      "313/313 - 0s - loss: 9296.4854 - root_mean_squared_error: 96.4183 - val_loss: 9826.3320 - val_root_mean_squared_error: 99.1279 - 260ms/epoch - 830us/step\n",
      "Epoch 97/150\n",
      "313/313 - 0s - loss: 9301.4824 - root_mean_squared_error: 96.4442 - val_loss: 9432.4463 - val_root_mean_squared_error: 97.1208 - 236ms/epoch - 754us/step\n",
      "Epoch 98/150\n",
      "313/313 - 0s - loss: 9366.2803 - root_mean_squared_error: 96.7795 - val_loss: 10272.4248 - val_root_mean_squared_error: 101.3530 - 216ms/epoch - 691us/step\n",
      "Epoch 99/150\n",
      "313/313 - 0s - loss: 9403.2285 - root_mean_squared_error: 96.9702 - val_loss: 9204.4326 - val_root_mean_squared_error: 95.9397 - 221ms/epoch - 706us/step\n",
      "Epoch 100/150\n",
      "INFO:tensorflow:Assets written to: model_experiments_2\\rn_model\\assets\n",
      "313/313 - 1s - loss: 9396.5352 - root_mean_squared_error: 96.9357 - val_loss: 9012.6973 - val_root_mean_squared_error: 94.9352 - 591ms/epoch - 2ms/step\n",
      "Epoch 101/150\n",
      "313/313 - 0s - loss: 9299.7373 - root_mean_squared_error: 96.4351 - val_loss: 9217.3965 - val_root_mean_squared_error: 96.0073 - 262ms/epoch - 837us/step\n",
      "Epoch 102/150\n",
      "313/313 - 0s - loss: 9201.3799 - root_mean_squared_error: 95.9238 - val_loss: 9123.9336 - val_root_mean_squared_error: 95.5193 - 255ms/epoch - 815us/step\n",
      "Epoch 103/150\n",
      "313/313 - 0s - loss: 9149.7119 - root_mean_squared_error: 95.6541 - val_loss: 9386.9053 - val_root_mean_squared_error: 96.8860 - 259ms/epoch - 828us/step\n",
      "Epoch 104/150\n",
      "313/313 - 0s - loss: 9188.5156 - root_mean_squared_error: 95.8567 - val_loss: 9025.3311 - val_root_mean_squared_error: 95.0017 - 244ms/epoch - 780us/step\n",
      "Epoch 105/150\n",
      "313/313 - 0s - loss: 9357.3105 - root_mean_squared_error: 96.7332 - val_loss: 9036.0137 - val_root_mean_squared_error: 95.0579 - 262ms/epoch - 837us/step\n",
      "Epoch 106/150\n",
      "313/313 - 0s - loss: 9360.7100 - root_mean_squared_error: 96.7508 - val_loss: 9950.8877 - val_root_mean_squared_error: 99.7541 - 235ms/epoch - 750us/step\n",
      "Epoch 107/150\n",
      "313/313 - 0s - loss: 9141.3447 - root_mean_squared_error: 95.6104 - val_loss: 9536.1689 - val_root_mean_squared_error: 97.6533 - 256ms/epoch - 818us/step\n",
      "Epoch 108/150\n",
      "313/313 - 0s - loss: 9185.9414 - root_mean_squared_error: 95.8433 - val_loss: 9344.3096 - val_root_mean_squared_error: 96.6660 - 250ms/epoch - 800us/step\n",
      "Epoch 109/150\n",
      "313/313 - 0s - loss: 9485.1260 - root_mean_squared_error: 97.3916 - val_loss: 9204.0244 - val_root_mean_squared_error: 95.9376 - 227ms/epoch - 725us/step\n",
      "Epoch 110/150\n",
      "313/313 - 0s - loss: 9209.2432 - root_mean_squared_error: 95.9648 - val_loss: 9099.6133 - val_root_mean_squared_error: 95.3919 - 241ms/epoch - 770us/step\n",
      "Epoch 111/150\n",
      "313/313 - 0s - loss: 9447.4414 - root_mean_squared_error: 97.1980 - val_loss: 9122.1572 - val_root_mean_squared_error: 95.5100 - 240ms/epoch - 767us/step\n",
      "Epoch 112/150\n",
      "313/313 - 0s - loss: 9050.6660 - root_mean_squared_error: 95.1350 - val_loss: 9391.1494 - val_root_mean_squared_error: 96.9079 - 258ms/epoch - 824us/step\n",
      "Epoch 113/150\n",
      "313/313 - 0s - loss: 9261.4111 - root_mean_squared_error: 96.2362 - val_loss: 9475.3213 - val_root_mean_squared_error: 97.3413 - 259ms/epoch - 828us/step\n",
      "Epoch 114/150\n",
      "313/313 - 0s - loss: 9082.4395 - root_mean_squared_error: 95.3018 - val_loss: 9016.1924 - val_root_mean_squared_error: 94.9536 - 227ms/epoch - 725us/step\n",
      "Epoch 115/150\n",
      "INFO:tensorflow:Assets written to: model_experiments_2\\rn_model\\assets\n",
      "313/313 - 1s - loss: 9278.0742 - root_mean_squared_error: 96.3228 - val_loss: 8993.9600 - val_root_mean_squared_error: 94.8365 - 544ms/epoch - 2ms/step\n",
      "Epoch 116/150\n",
      "313/313 - 0s - loss: 9153.4023 - root_mean_squared_error: 95.6734 - val_loss: 9643.2646 - val_root_mean_squared_error: 98.2001 - 228ms/epoch - 729us/step\n",
      "Epoch 117/150\n",
      "313/313 - 0s - loss: 9584.2676 - root_mean_squared_error: 97.8993 - val_loss: 9959.7090 - val_root_mean_squared_error: 99.7983 - 222ms/epoch - 709us/step\n",
      "Epoch 118/150\n",
      "313/313 - 0s - loss: 9148.5928 - root_mean_squared_error: 95.6483 - val_loss: 9063.1748 - val_root_mean_squared_error: 95.2007 - 222ms/epoch - 709us/step\n",
      "Epoch 119/150\n",
      "313/313 - 0s - loss: 9218.4180 - root_mean_squared_error: 96.0126 - val_loss: 9166.1211 - val_root_mean_squared_error: 95.7399 - 221ms/epoch - 706us/step\n",
      "Epoch 120/150\n",
      "313/313 - 0s - loss: 9221.6299 - root_mean_squared_error: 96.0293 - val_loss: 9425.4512 - val_root_mean_squared_error: 97.0848 - 241ms/epoch - 770us/step\n",
      "Epoch 121/150\n",
      "313/313 - 0s - loss: 9181.7363 - root_mean_squared_error: 95.8214 - val_loss: 9616.9277 - val_root_mean_squared_error: 98.0659 - 217ms/epoch - 693us/step\n",
      "Epoch 122/150\n",
      "INFO:tensorflow:Assets written to: model_experiments_2\\rn_model\\assets\n",
      "313/313 - 0s - loss: 9126.2881 - root_mean_squared_error: 95.5316 - val_loss: 8818.4248 - val_root_mean_squared_error: 93.9065 - 492ms/epoch - 2ms/step\n",
      "Epoch 123/150\n",
      "313/313 - 0s - loss: 9308.3555 - root_mean_squared_error: 96.4798 - val_loss: 9894.9951 - val_root_mean_squared_error: 99.4736 - 215ms/epoch - 687us/step\n",
      "Epoch 124/150\n",
      "313/313 - 0s - loss: 9360.9844 - root_mean_squared_error: 96.7522 - val_loss: 9699.8086 - val_root_mean_squared_error: 98.4876 - 209ms/epoch - 668us/step\n",
      "Epoch 125/150\n",
      "313/313 - 0s - loss: 9636.6758 - root_mean_squared_error: 98.1666 - val_loss: 9754.5928 - val_root_mean_squared_error: 98.7653 - 226ms/epoch - 722us/step\n",
      "Epoch 126/150\n",
      "313/313 - 0s - loss: 9044.0391 - root_mean_squared_error: 95.1002 - val_loss: 9125.9238 - val_root_mean_squared_error: 95.5297 - 215ms/epoch - 687us/step\n",
      "Epoch 127/150\n",
      "313/313 - 0s - loss: 9303.3047 - root_mean_squared_error: 96.4536 - val_loss: 9539.5205 - val_root_mean_squared_error: 97.6705 - 218ms/epoch - 695us/step\n",
      "Epoch 128/150\n",
      "313/313 - 0s - loss: 9063.8926 - root_mean_squared_error: 95.2045 - val_loss: 9302.8682 - val_root_mean_squared_error: 96.4514 - 217ms/epoch - 693us/step\n",
      "Epoch 129/150\n",
      "313/313 - 0s - loss: 8961.1650 - root_mean_squared_error: 94.6634 - val_loss: 8988.0322 - val_root_mean_squared_error: 94.8052 - 215ms/epoch - 687us/step\n",
      "Epoch 130/150\n",
      "313/313 - 0s - loss: 9199.5420 - root_mean_squared_error: 95.9142 - val_loss: 8970.7793 - val_root_mean_squared_error: 94.7142 - 226ms/epoch - 722us/step\n",
      "Epoch 131/150\n",
      "313/313 - 0s - loss: 9076.3320 - root_mean_squared_error: 95.2698 - val_loss: 9566.1318 - val_root_mean_squared_error: 97.8066 - 214ms/epoch - 684us/step\n",
      "Epoch 132/150\n",
      "313/313 - 0s - loss: 9200.5439 - root_mean_squared_error: 95.9195 - val_loss: 9050.4512 - val_root_mean_squared_error: 95.1339 - 251ms/epoch - 802us/step\n",
      "Epoch 133/150\n",
      "313/313 - 0s - loss: 9088.2354 - root_mean_squared_error: 95.3322 - val_loss: 8853.1387 - val_root_mean_squared_error: 94.0911 - 223ms/epoch - 713us/step\n",
      "Epoch 134/150\n",
      "313/313 - 0s - loss: 8959.2334 - root_mean_squared_error: 94.6532 - val_loss: 9182.1475 - val_root_mean_squared_error: 95.8235 - 223ms/epoch - 713us/step\n",
      "Epoch 135/150\n",
      "313/313 - 0s - loss: 9245.6221 - root_mean_squared_error: 96.1542 - val_loss: 9148.1201 - val_root_mean_squared_error: 95.6458 - 211ms/epoch - 674us/step\n",
      "Epoch 136/150\n",
      "313/313 - 0s - loss: 9012.9727 - root_mean_squared_error: 94.9367 - val_loss: 8869.8604 - val_root_mean_squared_error: 94.1799 - 224ms/epoch - 716us/step\n",
      "Epoch 137/150\n",
      "313/313 - 0s - loss: 9018.8389 - root_mean_squared_error: 94.9676 - val_loss: 8848.0830 - val_root_mean_squared_error: 94.0642 - 221ms/epoch - 706us/step\n",
      "Epoch 138/150\n",
      "313/313 - 0s - loss: 9065.3369 - root_mean_squared_error: 95.2121 - val_loss: 8979.1826 - val_root_mean_squared_error: 94.7586 - 216ms/epoch - 690us/step\n",
      "Epoch 139/150\n",
      "313/313 - 0s - loss: 9461.5518 - root_mean_squared_error: 97.2705 - val_loss: 9009.6514 - val_root_mean_squared_error: 94.9192 - 224ms/epoch - 716us/step\n",
      "Epoch 140/150\n",
      "313/313 - 0s - loss: 9161.2354 - root_mean_squared_error: 95.7143 - val_loss: 10077.9443 - val_root_mean_squared_error: 100.3890 - 222ms/epoch - 709us/step\n",
      "Epoch 141/150\n",
      "313/313 - 0s - loss: 9125.1299 - root_mean_squared_error: 95.5255 - val_loss: 9636.0645 - val_root_mean_squared_error: 98.1635 - 221ms/epoch - 706us/step\n",
      "Epoch 142/150\n",
      "313/313 - 0s - loss: 9166.4473 - root_mean_squared_error: 95.7416 - val_loss: 9119.2939 - val_root_mean_squared_error: 95.4950 - 218ms/epoch - 697us/step\n",
      "Epoch 143/150\n",
      "313/313 - 0s - loss: 8945.1758 - root_mean_squared_error: 94.5789 - val_loss: 9219.7920 - val_root_mean_squared_error: 96.0197 - 226ms/epoch - 722us/step\n",
      "Epoch 144/150\n",
      "313/313 - 0s - loss: 9017.1543 - root_mean_squared_error: 94.9587 - val_loss: 9083.7627 - val_root_mean_squared_error: 95.3088 - 226ms/epoch - 722us/step\n",
      "Epoch 145/150\n",
      "313/313 - 0s - loss: 9076.8818 - root_mean_squared_error: 95.2727 - val_loss: 10306.0576 - val_root_mean_squared_error: 101.5188 - 221ms/epoch - 706us/step\n",
      "Epoch 146/150\n",
      "313/313 - 0s - loss: 9410.8125 - root_mean_squared_error: 97.0093 - val_loss: 10406.9287 - val_root_mean_squared_error: 102.0144 - 221ms/epoch - 706us/step\n",
      "Epoch 147/150\n",
      "313/313 - 0s - loss: 9090.0312 - root_mean_squared_error: 95.3417 - val_loss: 9019.3125 - val_root_mean_squared_error: 94.9701 - 216ms/epoch - 690us/step\n",
      "Epoch 148/150\n",
      "313/313 - 0s - loss: 9301.8809 - root_mean_squared_error: 96.4463 - val_loss: 9032.5361 - val_root_mean_squared_error: 95.0397 - 215ms/epoch - 687us/step\n",
      "Epoch 149/150\n",
      "313/313 - 0s - loss: 8947.2139 - root_mean_squared_error: 94.5897 - val_loss: 9430.8262 - val_root_mean_squared_error: 97.1124 - 217ms/epoch - 693us/step\n",
      "Epoch 150/150\n",
      "313/313 - 0s - loss: 9155.3965 - root_mean_squared_error: 95.6838 - val_loss: 9033.3691 - val_root_mean_squared_error: 95.0440 - 256ms/epoch - 818us/step\n"
     ]
    }
   ],
   "source": [
    "rn_model, history = model_MLANN(train_X_1, train_y_1, val_X_1, val_y_1, 'rn_model')"
   ]
  },
  {
   "cell_type": "code",
   "execution_count": 88,
   "metadata": {},
   "outputs": [
    {
     "name": "stdout",
     "output_type": "stream",
     "text": [
      "56/56 [==============================] - 0s 636us/step - loss: 9033.3691 - root_mean_squared_error: 95.0440\n"
     ]
    },
    {
     "data": {
      "text/plain": [
       "[9033.369140625, 95.04403686523438]"
      ]
     },
     "execution_count": 88,
     "metadata": {},
     "output_type": "execute_result"
    }
   ],
   "source": [
    "rn_model.evaluate(val_X_1, val_y_1)"
   ]
  },
  {
   "cell_type": "code",
   "execution_count": 89,
   "metadata": {},
   "outputs": [],
   "source": [
    "rn_best_model = tf.keras.models.load_model(f\"model_experiments_2/rn_model\")"
   ]
  },
  {
   "cell_type": "code",
   "execution_count": 90,
   "metadata": {},
   "outputs": [
    {
     "name": "stdout",
     "output_type": "stream",
     "text": [
      "56/56 [==============================] - 0s 727us/step - loss: 8818.4248 - root_mean_squared_error: 93.9065\n"
     ]
    },
    {
     "data": {
      "text/plain": [
       "[8818.4248046875, 93.9064712524414]"
      ]
     },
     "execution_count": 90,
     "metadata": {},
     "output_type": "execute_result"
    }
   ],
   "source": [
    "rn_best_model.evaluate(val_X_1, val_y_1)"
   ]
  },
  {
   "cell_type": "code",
   "execution_count": 91,
   "metadata": {},
   "outputs": [
    {
     "data": {
      "text/html": [
       "<div>\n",
       "<style scoped>\n",
       "    .dataframe tbody tr th:only-of-type {\n",
       "        vertical-align: middle;\n",
       "    }\n",
       "\n",
       "    .dataframe tbody tr th {\n",
       "        vertical-align: top;\n",
       "    }\n",
       "\n",
       "    .dataframe thead th {\n",
       "        text-align: right;\n",
       "    }\n",
       "</style>\n",
       "<table border=\"1\" class=\"dataframe\">\n",
       "  <thead>\n",
       "    <tr style=\"text-align: right;\">\n",
       "      <th></th>\n",
       "      <th>loss</th>\n",
       "      <th>root_mean_squared_error</th>\n",
       "      <th>val_loss</th>\n",
       "      <th>val_root_mean_squared_error</th>\n",
       "    </tr>\n",
       "  </thead>\n",
       "  <tbody>\n",
       "    <tr>\n",
       "      <th>0</th>\n",
       "      <td>25124.880859</td>\n",
       "      <td>158.508301</td>\n",
       "      <td>18147.041016</td>\n",
       "      <td>134.710953</td>\n",
       "    </tr>\n",
       "    <tr>\n",
       "      <th>1</th>\n",
       "      <td>15988.933594</td>\n",
       "      <td>126.447357</td>\n",
       "      <td>15223.184570</td>\n",
       "      <td>123.382271</td>\n",
       "    </tr>\n",
       "    <tr>\n",
       "      <th>2</th>\n",
       "      <td>14164.332031</td>\n",
       "      <td>119.014000</td>\n",
       "      <td>13525.441406</td>\n",
       "      <td>116.298935</td>\n",
       "    </tr>\n",
       "    <tr>\n",
       "      <th>3</th>\n",
       "      <td>12914.270508</td>\n",
       "      <td>113.640968</td>\n",
       "      <td>12347.460938</td>\n",
       "      <td>111.119133</td>\n",
       "    </tr>\n",
       "    <tr>\n",
       "      <th>4</th>\n",
       "      <td>12283.652344</td>\n",
       "      <td>110.831642</td>\n",
       "      <td>11846.390625</td>\n",
       "      <td>108.841125</td>\n",
       "    </tr>\n",
       "    <tr>\n",
       "      <th>...</th>\n",
       "      <td>...</td>\n",
       "      <td>...</td>\n",
       "      <td>...</td>\n",
       "      <td>...</td>\n",
       "    </tr>\n",
       "    <tr>\n",
       "      <th>145</th>\n",
       "      <td>9410.812500</td>\n",
       "      <td>97.009346</td>\n",
       "      <td>10406.928711</td>\n",
       "      <td>102.014359</td>\n",
       "    </tr>\n",
       "    <tr>\n",
       "      <th>146</th>\n",
       "      <td>9090.031250</td>\n",
       "      <td>95.341652</td>\n",
       "      <td>9019.312500</td>\n",
       "      <td>94.970062</td>\n",
       "    </tr>\n",
       "    <tr>\n",
       "      <th>147</th>\n",
       "      <td>9301.880859</td>\n",
       "      <td>96.446259</td>\n",
       "      <td>9032.536133</td>\n",
       "      <td>95.039658</td>\n",
       "    </tr>\n",
       "    <tr>\n",
       "      <th>148</th>\n",
       "      <td>8947.213867</td>\n",
       "      <td>94.589714</td>\n",
       "      <td>9430.826172</td>\n",
       "      <td>97.112442</td>\n",
       "    </tr>\n",
       "    <tr>\n",
       "      <th>149</th>\n",
       "      <td>9155.396484</td>\n",
       "      <td>95.683838</td>\n",
       "      <td>9033.369141</td>\n",
       "      <td>95.044037</td>\n",
       "    </tr>\n",
       "  </tbody>\n",
       "</table>\n",
       "<p>150 rows × 4 columns</p>\n",
       "</div>"
      ],
      "text/plain": [
       "             loss  root_mean_squared_error      val_loss  \\\n",
       "0    25124.880859               158.508301  18147.041016   \n",
       "1    15988.933594               126.447357  15223.184570   \n",
       "2    14164.332031               119.014000  13525.441406   \n",
       "3    12914.270508               113.640968  12347.460938   \n",
       "4    12283.652344               110.831642  11846.390625   \n",
       "..            ...                      ...           ...   \n",
       "145   9410.812500                97.009346  10406.928711   \n",
       "146   9090.031250                95.341652   9019.312500   \n",
       "147   9301.880859                96.446259   9032.536133   \n",
       "148   8947.213867                94.589714   9430.826172   \n",
       "149   9155.396484                95.683838   9033.369141   \n",
       "\n",
       "     val_root_mean_squared_error  \n",
       "0                     134.710953  \n",
       "1                     123.382271  \n",
       "2                     116.298935  \n",
       "3                     111.119133  \n",
       "4                     108.841125  \n",
       "..                           ...  \n",
       "145                   102.014359  \n",
       "146                    94.970062  \n",
       "147                    95.039658  \n",
       "148                    97.112442  \n",
       "149                    95.044037  \n",
       "\n",
       "[150 rows x 4 columns]"
      ]
     },
     "execution_count": 91,
     "metadata": {},
     "output_type": "execute_result"
    }
   ],
   "source": [
    "history_rn = pd.DataFrame(history.history)\n",
    "history_rn"
   ]
  },
  {
   "cell_type": "code",
   "execution_count": 92,
   "metadata": {},
   "outputs": [
    {
     "data": {
      "image/png": "[encoded data removed]",
      "text/plain": [
       "<Figure size 432x288 with 1 Axes>"
      ]
     },
     "metadata": {
      "needs_background": "light"
     },
     "output_type": "display_data"
    }
   ],
   "source": [
    "plt.plot(history_rn.index, history_rn['loss'])\n",
    "plt.plot(history_rn.index, history_rn['val_loss'])\n",
    "plt.xlabel('epochs')\n",
    "plt.ylabel('loss')\n",
    "plt.legend(['loss', 'val_loss'])\n",
    "plt.show();"
   ]
  }
 ],
 "metadata": {
  "kernelspec": {
   "display_name": "Python 3.10.5 64-bit",
   "language": "python",
   "name": "python3"
  },
  "language_info": {
   "codemirror_mode": {
    "name": "ipython",
    "version": 3
   },
   "file_extension": ".py",
   "mimetype": "text/x-python",
   "name": "python",
   "nbconvert_exporter": "python",
   "pygments_lexer": "ipython3",
   "version": "3.10.5"
  },
  "orig_nbformat": 4,
  "vscode": {
   "interpreter": {
    "hash": "6f52065960efd9c01b2ec1d60a5c4d050f69b3d5f630ae721b9f05d65d21db56"
   }
  }
 },
 "nbformat": 4,
 "nbformat_minor": 2
}
